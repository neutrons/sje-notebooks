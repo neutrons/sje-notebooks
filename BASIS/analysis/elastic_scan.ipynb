{
 "cells": [
  {
   "cell_type": "markdown",
   "metadata": {},
   "source": [
    "### Mean Square Displacements From an Elastic Scan\n",
    "\n",
    "Fist, here's the full script:"
   ]
  },
  {
   "cell_type": "code",
   "execution_count": null,
   "metadata": {},
   "outputs": [],
   "source": [
    "from __future__ import (absolute_import, division, print_function)\n",
    "\n",
    "from os.path import join\n",
    "import numpy as np\n",
    "from mantid.simpleapi import (BASISReduction, GroupWorkspaces, ElasticWindowMultiple,\n",
    "                              LoadNexus, MSDFit, SaveNexus)\n",
    "from mantid.kernel import ConfigService\n",
    "\n",
    "# we set the default save directory to \"/tmp\"\n",
    "config = ConfigService()\n",
    "config['defaultsave.directory'] = '/tmp'\n",
    "\n",
    "###################################################################################\n",
    "## we reduce one set of runs from 83505 to 83536 corresponding to one elastic scan\n",
    "###################################################################################\n",
    "redution_options = dict(RunNumbers='83505-83536',\n",
    "                                      DoIndividual=True,\n",
    "                                      ReflectionType='silicon111',\n",
    "                                      EnergyBins=[-100, 0.4, 100],\n",
    "                                      MomentumTransferBins=[0.3, 0.2, 1.9],\n",
    "                                      MaskFile='/SNS/BSS/shared/autoreduce/new_masks_08_12_2015/BASIS_Mask_default_111.xml')\n",
    "BASISReduction(**redution_options)  # http://docs.mantidproject.org/nightly/algorithms/BASISReduction-v1.html\n",
    "\n",
    "# Alternatively, we can load the reduced files if we had then under some directory:\n",
    "\"\"\"\n",
    "data_dir = '/tmp'  # assume the reduced files are in /tmp directory\n",
    "names =  ['BSS_{number}_sqw'.format(number=r) for r in range(83505, 83536+1)]  # BSS_83505_sqw, ...\n",
    "nexus_file_names = [name +  '.nxs' for name in names]  # BSS_83505_sqw.nxs, ...\n",
    "nexus_files = [join(data_dir, name) for name in nexus_file_names]\n",
    "for file, name in zip(nexus_files, names):\n",
    "    LoadNexus(file, OutputWorkspace=name)\n",
    "\"\"\"\n",
    "\n",
    "###################################################\n",
    "## Intensity decay vesus Temperature and versus Q\n",
    "###################################################\n",
    "spectra = ['BSS_{number}_sqw'.format(number=r) for r in range(83505, 83536+1)]  # BSS_83505_sqw, ...\n",
    "GroupWorkspaces(InputWorkspaces=spectra, OutputWorkspace='grouped_spectra')\n",
    "elwin_options=dict(InputWorkspaces='grouped_spectra',\n",
    "                               IntegrationRangeStart=-0.0034,  # -3.4 micro-eV\n",
    "                               IntegrationRangeEnd=0.0034,\n",
    "                               BackgroundRangeStart=-0.1,\n",
    "                               BackgroundRangeEnd=-0.03,\n",
    "                               SampleEnvironmentLogName='SensorA',  # logs the temperature\n",
    "                               SampleEnvironmentLogValue='average',\n",
    "                               OutputInQ='intensity_vs_Q',  # intensity decay versus Q, at different temperatures\n",
    "                               OutputInQSquared='intensity_vs_Q2',\n",
    "                               OutputELF='intensity_vs_T',  # decay versus T, at different Q's\n",
    "                               OutputELT='intensity_vs_T_normalized'    # decay versus T, at different Q's. Normalized to run with lowest T\n",
    "                               )\n",
    "ElasticWindowMultiple(**elwin_options)  # http://docs.mantidproject.org/nightly/algorithms/ElasticWindowMultiple-v1.html\n",
    "\n",
    "#############\n",
    "## MSD fit\n",
    "###########\n",
    "msdfit_options = dict(InputWorkspace='intensity_vs_Q',\n",
    "                                   Model='Gauss',\n",
    "                                   XStart=0.3,\n",
    "                                   XEnd=1.9,\n",
    "                                   SpecMin=0,\n",
    "                                   SpecMax=83536 - 83505,\n",
    "                                   OutputWorkspace='msdfit_summary',\n",
    "                                   ParameterWorkspace='msdfit_params',  # contains MSD values, among other data\n",
    "                                   FitWorkspaces='msdfit_curves'\n",
    "                                   )\n",
    "MSDFit(**msdfit_options)  # http://docs.mantidproject.org/nightly/algorithms/MSDFit-v1.html\n",
    "\n",
    "##################################\n",
    "## Save Workspaces to Nexus Files\n",
    "##################################\n",
    "SaveNexus(InputWorkspace='msdfit_summary', Filename='/tmp/msdfit_summary.nxs')\n",
    "SaveNexus(InputWorkspace='msdfit_params', Filename='/tmp/msdfit_params.nxs')\n",
    "SaveNexus(InputWorkspace='msdfit_curves', Filename='/tmp/msdfit_curves.nxs')"
   ]
  },
  {
   "cell_type": "markdown",
   "metadata": {},
   "source": [
    "You can either:\n",
    "- run the previous script if you are working in the [jupyter sns server](https://jupyter.sns.gov/hub/login)\n",
    "- copy the script, then open MantidPlot and paste the script in the `Script Window`\n",
    "\n",
    "Below we comment on some parts of the script:"
   ]
  },
  {
   "cell_type": "code",
   "execution_count": null,
   "metadata": {},
   "outputs": [],
   "source": [
    "# we set the default save directory to \"/tmp\"\n",
    "config = ConfigService()\n",
    "config['defaultsave.directory'] = '/tmp'"
   ]
  },
  {
   "cell_type": "markdown",
   "metadata": {},
   "source": [
    "Here we instruct Mantid to save any produced file under directory `/tmp`, unless we provide an absolute saving path\n",
    "<pre>\n",
    "SaveNexus(some_workspace, 'some_file.nxs')  # will save as /tmp/some_file.nxs\n",
    "SaveNexus(some_workspace, '/home/abc/some_file.nxs')  # will save as /home/abc/some_file.nxs\n",
    "</pre>"
   ]
  },
  {
   "cell_type": "code",
   "execution_count": null,
   "metadata": {},
   "outputs": [],
   "source": [
    "###################################################\n",
    "## Intensity decay vesus Temperature and versus Q\n",
    "###################################################\n",
    "spectra = ['BSS_{number}_sqw'.format(number=r) for r in range(83505, 83536+1)]  # BSS_83505_sqw, ...\n",
    "GroupWorkspaces(InputWorkspaces=spectra, OutputWorkspace='grouped_spectra')\n",
    "elwin_options=dict(InputWorkspaces='grouped_spectra',\n",
    "                               IntegrationRangeStart=-0.0034,  # -3.4 micro-eV\n",
    "                               IntegrationRangeEnd=0.0034,\n",
    "                               BackgroundRangeStart=-0.1,\n",
    "                               BackgroundRangeEnd=-0.03,\n",
    "                               SampleEnvironmentLogName='SensorA',  # logs the temperature\n",
    "                               SampleEnvironmentLogValue='average',\n",
    "                               OutputInQ='intensity_vs_Q',  # intensity decay versus Q, at different temperatures\n",
    "                               OutputInQSquared='intensity_vs_Q2',\n",
    "                               OutputELF='intensity_vs_T',  # decay versus T, at different Q's\n",
    "                               OutputELT='intensity_vs_T_normalized'    # decay versus T, at different Q's. Normalized to run with lowest T\n",
    "                               )\n",
    "ElasticWindowMultiple(**elwin_options)  # http://docs.mantidproject.org/nightly/algorithms/ElasticWindowMultiple-v1.html"
   ]
  },
  {
   "cell_type": "markdown",
   "metadata": {},
   "source": [
    "This above code calculates the decay of the elastic intensity versus `Q` for a particular temperature, and also versus temperature for a particular `Q`.\n",
    "\n",
    "- Algorithm [ElasticWindowMultiple](http://docs.mantidproject.org/nightly/algorithms/ElasticWindowMultiple-v1.html) requires to group all workspaces resulting from the previous reduction step under a `GroupWorkspace`, hence the need to call algorithm\n",
    "[GroupWorkspaces](http://docs.mantidproject.org/nightly/algorithms/GroupWorkspaces-v1.html) first.\n",
    "- For each spectra, we integrate the intensity in the range of energies corresponding to the width of the elastic peak. For Basis, it is <code>[-3.4, 3.4]</code> micro-eV.\n",
    "- Each reduced run retains the value of the run temperature in the logs of the corresponing workspace, under log entry with name `SensorA`. \n",
    "- The temperature fluctuates during the time it takes to produce one run. We will use the average as representative value of the temperature for that particular run.\n",
    "\n",
    "Four different workspaces are produced by `ElasticWindowMultiple`:\n",
    "- `intensity_vs_Q`: Decay of elastic intensity versus Q. This workspace contains one spectrum for each run, or in other words, one spectrum per temperature.\n",
    "- `intensity_vs_Q2`: same as `intensity_vs_Q` except that the decay is versus $Q^2$\n",
    "- `intensity_vs_T`: Decay of elastic intensity versus temperature. This workspace contains one spectrum for each value of $Q$.\n",
    "- `intensity_vs_T_normalized` Same as `intensity_vs_T`, but the value of the intensity is set to one for the lowest temperature. It's just a rescaling such that the intensity becomes exactly one for the lowest measured temperature.\n",
    "\n",
    "The next piece of code calculates the mean square displacement (MSD) values:"
   ]
  },
  {
   "cell_type": "code",
   "execution_count": null,
   "metadata": {},
   "outputs": [],
   "source": [
    "#############\n",
    "## MSD fit\n",
    "###########\n",
    "msdfit_options = dict(InputWorkspace='intensity_vs_Q',\n",
    "                                   Model='Gauss',\n",
    "                                   XStart=0.3,\n",
    "                                   XEnd=1.9,\n",
    "                                   SpecMin=0,\n",
    "                                   SpecMax=83536 - 83505,\n",
    "                                   OutputWorkspace='msdfit_summary',\n",
    "                                   ParameterWorkspace='msdfit_params',  # contains MSD values, among other data\n",
    "                                   FitWorkspaces='msdfit_curves'\n",
    "                                   )\n",
    "MSDFit(**msdfit_options)  # http://docs.mantidproject.org/nightly/algorithms/MSDFit-v1.html"
   ]
  },
  {
   "cell_type": "markdown",
   "metadata": {},
   "source": [
    "We make use of workspace `intensity_vs_Q` that was generated by `ElasticWindowMultiple`. We assume the intensity decays with the Debye-Waller model, here implemented through the fit function\n",
    "[MsdGauss](http://docs.mantidproject.org/nightly/fitting/fitfunctions/MsdGauss.html). This fit function is selected by the `Model='Gauss'` line. Three models are available (\n",
    "[Gauss](http://docs.mantidproject.org/nightly/fitting/fitfunctions/MsdGauss.html), \n",
    "[Peters](http://docs.mantidproject.org/nightly/fitting/fitfunctions/MsdPeters.html), and\n",
    "[Yi](http://docs.mantidproject.org/nightly/fitting/fitfunctions/MsdYi.html)).\n",
    "\n",
    "Here we selected to fit the decay of the intensity versus $Q$ over the whole available range of $Q$ values (from 0.3 to 1.9) and for all available temperatures. Workspace `intensity_vs_Q` has one spectrum for each temperature, and we have as many temperatures has runs. Thus, the range of spectra to use is from zero (first spectrum) to $83536 - 83505$ (last spectrum)\n",
    "\n",
    "Algorithm [MSDFit](http://docs.mantidproject.org/nightly/algorithms/MSDFit-v1.html) produces three workspaces:\n",
    "\n",
    "- `msdfit_summary`: a [MatrixWorkspace](http://www.mantidproject.org/Python_MatrixWorkspace_v2) containing selected fit parameters versus temperature. In our case, it contains two spectra corresponding to parameters `Heigth` and `MSD`\n",
    "- `msdfit_params`: a [TableWorkspace](http://www.mantidproject.org/Python_ITableWorkspace_v2) containing detailed information for all fit parameters, as well as the goodness of fit ($\\Chi^2$)\n",
    "- `msdfit_curves`: a [WorkspaceGroup](http://www.mantidproject.org/Python_WorkspaceGroup_v2) containing one workspace for each temperature. Each workspace contains three spectra corresponding to (1)elastic intensty, (2) model fit, and (3) residuals.\n",
    "\n",
    "If you are working with the `Script Window` of MantidPlot, these workspaces will be readily available in the workspace explorer. Otherwise, we have to save them to disk:"
   ]
  },
  {
   "cell_type": "code",
   "execution_count": null,
   "metadata": {},
   "outputs": [],
   "source": [
    "##################################\n",
    "## Save Workspaces to Nexus Files\n",
    "##################################\n",
    "SaveNexus(InputWorkspace='msdfit_summary', Filename='/tmp/msdfit_summary.nxs')\n",
    "SaveNexus(InputWorkspace='msdfit_params', Filename='/tmp/msdfit_params.nxs')\n",
    "SaveNexus(InputWorkspace='msdfit_curves', Filename='/tmp/msdfit_curves.nxs')"
   ]
  },
  {
   "cell_type": "markdown",
   "metadata": {},
   "source": [
    "Three files will be saved in directory `/tmp`, since this is the directory we chose as our default save directory.\n",
    "\n",
    "After saving, we can open MantidPlot and use algorithm [LoadNexus](http://docs.mantidproject.org/nightly/algorithms/LoadNexus-v1.html) to load these Nexus files onto workspaces."
   ]
  }
 ],
 "metadata": {
  "kernelspec": {
   "display_name": "Python 3",
   "language": "python",
   "name": "python3"
  },
  "language_info": {
   "codemirror_mode": {
    "name": "ipython",
    "version": 3
   },
   "file_extension": ".py",
   "mimetype": "text/x-python",
   "name": "python",
   "nbconvert_exporter": "python",
   "pygments_lexer": "ipython3",
   "version": "3.6.6"
  }
 },
 "nbformat": 4,
 "nbformat_minor": 2
}
