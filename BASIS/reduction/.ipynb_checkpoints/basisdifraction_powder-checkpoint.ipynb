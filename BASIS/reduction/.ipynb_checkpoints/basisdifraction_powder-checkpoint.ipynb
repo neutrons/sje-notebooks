{
 "cells": [
  {
   "cell_type": "markdown",
   "metadata": {},
   "source": [
    "# Determine single crystal diffraction pattern"
   ]
  },
  {
   "cell_type": "code",
   "execution_count": null,
   "metadata": {},
   "outputs": [],
   "source": [
    "# This block finds where is the location of Mantid's python interface. No need to modify.\n",
    "from __future__ import print_function\n",
    "import subprocess\n",
    "import os\n",
    "import sys\n",
    "process = subprocess.Popen(['which', 'MantidPlot'], stdout=subprocess.PIPE)\n",
    "out, err = process.communicate()\n",
    "mantidbin = os.path.dirname(out)\n",
    "sys.path.append(mantidbin)"
   ]
  },
  {
   "cell_type": "code",
   "execution_count": null,
   "metadata": {},
   "outputs": [],
   "source": [
    "# Load the neccessary environment. No need to modify.\n",
    "%matplotlib notebook\n",
    "from matplotlib import pyplot as plt\n",
    "from matplotlib.colors import LogNorm\n",
    "from mantid import plots, mtd\n",
    "from mantid.simpleapi import BASISPowderDiffraction"
   ]
  },
  {
   "cell_type": "markdown",
   "metadata": {},
   "source": [
    "### Reduction step\n",
    "Reduction of an angle scan can take between 10 minutes and 1/2 hour. You can try first with only one run number and one vanadium run.\n",
    "\n",
    "\n",
    "Documentation of [BasisPowderDiffraction](http://docs.mantidproject.org/nightly/algorithms/BASISPowderDiffraction-v1.html) algorithm"
   ]
  },
  {
   "cell_type": "code",
   "execution_count": null,
   "metadata": {},
   "outputs": [],
   "source": [
    "BASISPowderDiffraction(RunNumbers='74799',\n",
    "                       OutputWorkspace='powder',\n",
    "                       BackgroundRuns='75527',\n",
    "                       OutputBackground='background'\n",
    "                       VanadiumRuns='64642')"
   ]
  },
  {
   "cell_type": "markdown",
   "metadata": {},
   "source": [
    "## Visualization of results\n",
    "\n",
    "Workspace `peaks` is a multidimensional workspace with two binned dimensions which can be plotted as intensity colored matplotlib figure"
   ]
  },
  {
   "cell_type": "code",
   "execution_count": null,
   "metadata": {},
   "outputs": [],
   "source": [
    "fig, ax = plt.subplots(subplot_kw={'projection':'mantid'})\n",
    "ax.plot(mtd['powder'])\n",
    "plt.grid()\n",
    "fig.show()"
   ]
  }
 ],
 "metadata": {
  "kernelspec": {
   "display_name": "Python 2",
   "language": "python",
   "name": "python2"
  },
  "language_info": {
   "codemirror_mode": {
    "name": "ipython",
    "version": 2
   },
   "file_extension": ".py",
   "mimetype": "text/x-python",
   "name": "python",
   "nbconvert_exporter": "python",
   "pygments_lexer": "ipython2",
   "version": "2.7.15rc1"
  }
 },
 "nbformat": 4,
 "nbformat_minor": 2
}
