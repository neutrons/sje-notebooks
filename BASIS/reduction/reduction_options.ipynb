{
 "cells": [
  {
   "cell_type": "markdown",
   "metadata": {},
   "source": [
    "# Print reduction options\n",
    "\n",
    "To run this example please first download and unzip the [zipped data files](https://www.dropbox.com/s/0xzasj7yvruyfem/basisdata.zip?dl=0)."
   ]
  },
  {
   "cell_type": "markdown",
   "metadata": {},
   "source": [
    "### Gathering all requirements\n",
    "Substitute below **'/tmp/basisdata'** with the directory path that resulted after you unzipped the data files."
   ]
  },
  {
   "cell_type": "code",
   "execution_count": 3,
   "metadata": {},
   "outputs": [],
   "source": [
    "data_dir = '/tmp/basisdata'"
   ]
  },
  {
   "cell_type": "code",
   "execution_count": 4,
   "metadata": {},
   "outputs": [],
   "source": [
    "# This block finds where is the location of Mantid's python interface. No need to modify.\n",
    "from __future__ import print_function\n",
    "import subprocess\n",
    "import os\n",
    "import sys\n",
    "process = subprocess.Popen(['which', 'MantidPlot'], stdout=subprocess.PIPE)\n",
    "out, err = process.communicate()\n",
    "mantidbin = os.path.dirname(out)\n",
    "sys.path.append(mantidbin)"
   ]
  },
  {
   "cell_type": "code",
   "execution_count": 5,
   "metadata": {},
   "outputs": [],
   "source": [
    "# Load the neccessary environment. No need to modify.\n",
    "from mantid.simpleapi import LoadNexus"
   ]
  },
  {
   "cell_type": "markdown",
   "metadata": {},
   "source": [
    "#### Loading the data and accessing the log"
   ]
  },
  {
   "cell_type": "code",
   "execution_count": 6,
   "metadata": {},
   "outputs": [
    {
     "name": "stdout",
     "output_type": "stream",
     "text": [
      "{\"version\": 1, \"name\": \"BASISReduction\", \"properties\": {\"DoIndividual\": true, \"MonitorNorm\": true, \"EnergyBins\": [-120.0, 0.4, 120.0], \"MomentumTransferBins\": [0.3, 0.2, 1.9], \"DivideByVanadium\": false, \"MaskFile\": \"/SNS/BSS/shared/autoreduce/new_masks_08_12_2015/BASIS_Mask_default_111.xml\", \"ReflectionType\": \"silicon111\", \"RunNumbers\": \"75778\", \"NormalizeToFirst\": false}}\n"
     ]
    }
   ],
   "source": [
    "w = LoadNexus(Filename=\"BSS_75778_sqw.nxs\")\n",
    "r=w.getRun()\n",
    "p=r.getProperty('asString')\n",
    "print(p.value)"
   ]
  },
  {
   "cell_type": "code",
   "execution_count": 7,
   "metadata": {},
   "outputs": [
    {
     "name": "stdout",
     "output_type": "stream",
     "text": [
      "{u'name': u'BASISReduction',\n",
      " u'properties': {u'DivideByVanadium': False,\n",
      "                 u'DoIndividual': True,\n",
      "                 u'EnergyBins': [-120.0, 0.4, 120.0],\n",
      "                 u'MaskFile': u'/SNS/BSS/shared/autoreduce/new_masks_08_12_2015/BASIS_Mask_default_111.xml',\n",
      "                 u'MomentumTransferBins': [0.3, 0.2, 1.9],\n",
      "                 u'MonitorNorm': True,\n",
      "                 u'NormalizeToFirst': False,\n",
      "                 u'ReflectionType': u'silicon111',\n",
      "                 u'RunNumbers': u'75778'},\n",
      " u'version': 1}\n"
     ]
    }
   ],
   "source": [
    "# Optional exercise: load the string p.value into a dictionary and pretty print\n",
    "import pprint\n",
    "import json\n",
    "dict = json.loads(p.value)\n",
    "pprint.pprint(dict)"
   ]
  }
 ],
 "metadata": {
  "kernelspec": {
   "display_name": "Python 2",
   "language": "python",
   "name": "python2"
  },
  "language_info": {
   "codemirror_mode": {
    "name": "ipython",
    "version": 2
   },
   "file_extension": ".py",
   "mimetype": "text/x-python",
   "name": "python",
   "nbconvert_exporter": "python",
   "pygments_lexer": "ipython2",
   "version": "2.7.12"
  }
 },
 "nbformat": 4,
 "nbformat_minor": 2
}
