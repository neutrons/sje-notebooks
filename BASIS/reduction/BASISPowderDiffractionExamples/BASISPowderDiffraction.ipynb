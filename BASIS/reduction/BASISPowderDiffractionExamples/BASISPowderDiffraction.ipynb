{
 "cells": [
  {
   "cell_type": "markdown",
   "metadata": {},
   "source": [
    "<h1>BASISPowderDiffraction</h1>\n",
    "\n",
    "<a id='Table of Contents'></a><h3>Table of Contents</h3>  \n",
    "<a href='#Setup'>Python setup (imports)</a>  \n",
    "<a href='#Collaborators'>Collaborators</a>  \n",
    "<a href='#Goals'>Goals</a>  \n",
    "\n",
    "<a id='bragg_search'></a><b>Search for Bragg Peaks</b>  \n",
    "<a href='#bragg_search.bind_search'>Blind Search</a>  \n",
    "<a href='#bragg_search.filtered_search'>Filtered Search</a>  \n",
    "<a href='#bragg_search.selected_runs'>Selected Runs</a>  \n",
    "\n",
    "<a id='bragg_search_water'></a><b>Search for Bragg Peaks in Samples Containing Water</b>  \n",
    "<a href='#bragg_search_water.bind_search'>Blind Search</a>  \n",
    "<a href='#bragg_search_water.filtered_search'>Filtered Search</a>  \n",
    "<a href='#bragg_search_water.selected_runs'>Selected Runs</a>  \n",
    "\n",
    "<a id='Meetings'></a><b>Meetings</b>  \n",
    "\n",
    "\n",
    "<a href='#Syntax'>HTML and MARKDOWN SYNTAX EXAMPLES</a></br>"
   ]
  },
  {
   "cell_type": "markdown",
   "metadata": {},
   "source": [
    "(<a href='#Table of Contents'>Top</a>)<a id='Setup'></a><h3>Python setup (imports)</h3>"
   ]
  },
  {
   "cell_type": "code",
   "execution_count": 2,
   "metadata": {},
   "outputs": [],
   "source": [
    "%matplotlib inline\n",
    "import numpy as np\n",
    "import scipy as sc\n",
    "import lmfit as lm\n",
    "import matplotlib.pyplot as plt"
   ]
  },
  {
   "cell_type": "markdown",
   "metadata": {},
   "source": [
    "(<a href='#Table of Contents'>Top</a>)<a id='Collaborators'></a><h3>Collaborators</h3>\n",
    "\n",
    "* Eugene Mamontov\n",
    "* Niina Jalarvo\n",
    "* Naresh Osti"
   ]
  },
  {
   "cell_type": "markdown",
   "metadata": {},
   "source": [
    "(<a href='#Table of Contents'>Top</a>)<a id='Goals'></a><h3>Goals</h3>\n",
    "\n",
    "Reduction of data collected in the diffraction tubes for powder samples."
   ]
  },
  {
   "cell_type": "markdown",
   "metadata": {},
   "source": [
    "<h2>Search for Bragg Peaks</h2>\n",
    "Subdirectory <code>searchBragg</code>"
   ]
  },
  {
   "cell_type": "markdown",
   "metadata": {},
   "source": [
    "(<a href='#bragg_search'>Top</a>)<a id='bragg_search.bind_search'></a><h3>Blind Search</h3> \n",
    "\n",
    "python script [searchBragg.py](files/searchBragg/searchBragg.py) carries out all the job. Statement <code>applyPowder(ipts)</code> applies BASISPowderDiffraction to every run of selected IPTS whose event file is bigger than 10MB. Selected IPTS are listed in the script. The output of <code>applyPowder(ipts)</code> is file <i>searchBragg_r.dat</i> containing 5 columns:\n",
    "<pre>IPTS  RUN   ratio  angle_at_max intensity</pre>\n",
    "- IPTS number\n",
    "- RUN number\n",
    "- ratio: ratio of maximum to average for $I(\\theta)$\n",
    "- angle_at_max: scattering angle $\\theta$ for which $I(\\theta)$ is maximal\n",
    "- intensity: sum of $I(\\theta)$ for all scattering angles $\\theta$\n",
    "\n",
    "We plot a histogram of <code>ratios</code>. The ratio is defined as the ratio between the maximum of $I(\\theta)$ to the average value for all scattering angles $\\theta$.\n",
    "<center><a href=\"files/searchBragg/ratio_histogram.png\"><img src=\"files/searchBragg/ratio_histogram.png\" width=\"600\"alt=\"ratio_histogram\"></a>  <i>ratio_histogram.agr</i></center>\n",
    "\n",
    "We can also render a scatter plot of <code>ratio</code> versus <code>IPTS</code> to identify those samples with a high <code>ratio</code>.\n",
    "<center><a href=\"files/searchBragg/ratio_vs_ipts.png\"><img src=\"files/searchBragg/ratio_vs_ipts.png\" width=\"600\"alt=\"ratio_vs_ipts\"></a>  <i>ratio_vs_ipts.agr</i></center>\n",
    "\n",
    "- 18915: crystalline sample. Most of the runs with $ratio > std$ belong to this ITPS. The $std$ refers to the previously plot histogram. Thus, this sample is skewing the whole histogram of $ratio$ values.\n",
    "- 14550, 15336, 16550: the runs for these samples having a high $ratio$ turn out to contain very few counts, so the statistics are not significant. We plot below run 54286 for IPTS 15336, which has $ratio = 68$\n",
    "<center><a href=\"files/searchBragg/ipts_15336_run_54286_angle.png\"><img src=\"files/searchBragg/ipts_15336_run_54286_angle.png\" width=\"600\"alt=\"ipts_15336_run_54286_angle\"></a>  <i>ipts_15336_run_54286_angle.agr</i></center>\n",
    "\n",
    "We plot the a histogram of summed intensities to identify a minimum threshold intensity.\n",
    "<center><a href=\"files/searchBragg/intensity_histogram.png\"><img src=\"files/searchBragg/intensity_histogram.png\" width=\"600\"alt=\"intensity_histogram\"></a>  <i>intensity_histogram.agr</i></center>\n",
    "\n",
    "We select minimum intengrated intensity as $10^5$, and now remove those runs with a small intensity. We also remove the crystalline sample IPTS=18915. Statement \n",
    "<code>all_ratios(min_intensity=1.0e5, discard_IPTS=['18915',], outfile='searchBragg_intensity_filtered.dat')</code> in [searchBragg.py](files/searchBragg/searchBragg.py) generates file <i>searchBragg_intensity_filtered.dat</i> which has the same contents as file <i>searchBragg_r.dat</i> but implementing the previous filters. Results are presented in next section."
   ]
  },
  {
   "cell_type": "markdown",
   "metadata": {},
   "source": [
    "(<a href='#bragg_search'>Top</a>)\n",
    "<a id='bragg_search.filtered_search'></a><h3>Filtered Search</h3> \n",
    "\n",
    "We identify runs with a high maximum-to-average ratio, as in the figure below, as indicative of a Bragg peak.\n",
    "<center><a href=\"files/searchBragg/ipts_21266_run_79594_angle.png\"><img src=\"files/searchBragg/ipts_21266_run_79594_angle.png\" width=\"600\"alt=\"ipts_21266_run_79594_angle\"></a>  <i>ipts_21266_run_79594_angle.agr</i></center>\n",
    "\n",
    "We apply BASISPowderDiffraction to runs of 38 different IPTS and plot the histogram of ratios. With the imposed filters (see previous section), we now have no run with $ratio > 9$, and shows a series of peaks and a few single instances of runs with \"high\" $ratio$ values.\n",
    "<center><a href=\"files/searchBragg/ratio_histogram_filtered.png\"><img src=\"files/searchBragg/ratio_histogram_filtered.png\" width=\"600\"alt=\"ratio_histogram_filtered\"></a>  <i>ratio_histogram_filtered.agr</i></center>\n",
    "\n",
    "We plot a histogram of the location of the maximum intensity by looking for each run the scattering angle with the maximum intensity.\n",
    "<center><a href=\"files/searchBragg/maximum_angle_histogram_filtered.png\"><img src=\"files/searchBragg/maximum_angle_histogram_filtered.png\" width=\"600\"alt=\"maximum_angle_histogram_filtered\"></a>  <i>maximum_angle_histogram_filtered.agr</i></center>\n",
    "\n",
    "Again, we render a scatter plot of <code>ratio</code> versus <code>IPTS</code> to identify those samples with a high <code>ratio</code>. We highlight those IPTS with many values above the minimal $ratio$ plus one standard deviation.\n",
    "<center><a href=\"files/searchBragg/ratio_vs_ipts_filtered.png\"><img src=\"files/searchBragg/ratio_vs_ipts_filtered.png\" width=\"600\"alt=\"ratio_vs_ipts_filtered\"></a>  <i>ratio_vs_ipts_filtered.agr</i></center>\n",
    "\n",
    "We plot more details for the highligthed IPTS."
   ]
  },
  {
   "cell_type": "markdown",
   "metadata": {},
   "source": [
    "(<a href='#bragg_search'>Top</a>)\n",
    "<a id='bragg_search.selected_runs'></a><h2>Selected IPTS</h2> \n",
    "\n",
    "### IPTS 12505, \"Study of Lithium Diffusion in Lithium Garnet Oxides by Quasi-elastic Neutron Scattering\"\n",
    "We run BASISPowderDiffraction for <b>run 59304</b>.\n",
    "<center><table><tr>\n",
    "<td><center><a href=\"files/searchBragg/selected_runs/ipts_12505/run_59304_angle.png\"><img src=\"files/searchBragg/selected_runs/ipts_12505/run_59304_angle.png\" width=\"400\"alt=\"run_59304_angle\"></a>  <i>run_59304_angle</i></center></td>\n",
    "<td><center><a href=\"files/searchBragg/selected_runs/ipts_12505/run_59304_Q.png\"><img src=\"files/searchBragg/selected_runs/ipts_12505/run_59304_Q.png\" width=\"400\"alt=\"run_59304_Q\"></a>  <i>run_59304_Q</i></center></td>\n",
    "</tr></table></center>\n",
    "\n",
    "### IPTS 13003, \"Proton Diffusion in Fluorite-type Tungstates\"\n",
    "We run BASISPowderDiffraction for <b>run 59304</b>.\n",
    "<center><table><tr>\n",
    "<td><center><a href=\"files/searchBragg/selected_runs/ipts_13003/run_45701_angle.png\"><img src=\"files/searchBragg/selected_runs/ipts_13003/run_45701_angle.png\" width=\"400\"alt=\"run_45701_angle\"></a>  <i>run_45701_angle</i></center></td>\n",
    "<td><center><a href=\"files/searchBragg/selected_runs/ipts_13003/run_45701_Q.png\"><img src=\"files/searchBragg/selected_runs/ipts_13003/run_45701_Q.png\" width=\"400\"alt=\"run_45701_Q\"></a>  <i>run_45701_Q</i></center></td>\n",
    "</tr></table></center>\n",
    "\n",
    "### IPTS 14550 \"Impact of Dopant Association on Proton Diffusion in Y-doped Barium Zirconate\"\n",
    "We run BASISPowderDiffraction for <b>run 55388</b>.\n",
    "<center><table><tr>\n",
    "<td><center><a href=\"files/searchBragg/selected_runs/ipts_14550/run_55388_angle.png\"><img src=\"files/searchBragg/selected_runs/ipts_14550/run_55388_angle.png\" width=\"400\"alt=\"run_55388_angle\"></a>  <i>run_55388_angle</i></center></td>\n",
    "<td><center><a href=\"files/searchBragg/selected_runs/ipts_14550/run_55388_Q.png\"><img src=\"files/searchBragg/selected_runs/ipts_14550/run_55388_Q.png\" width=\"400\"alt=\"run_55388_Q\"></a>  <i>run_55388_Q</i></center></td>\n",
    "</tr></table></center>\n",
    "\n",
    "### IPTS 14599 \"QENS studies on perovskite and fluorite type solid oxide proton conductors\"\n",
    "We run BASISPowderDiffraction for <b>run 52700</b>.\n",
    "<center><table><tr>\n",
    "<td><center><a href=\"files/searchBragg/selected_runs/ipts_14599/run_52700_angle.png\"><img src=\"files/searchBragg/selected_runs/ipts_14599/run_52700_angle.png\" width=\"400\"alt=\"run_52700_angle\"></a>  <i>run_52700_angle</i></center></td>\n",
    "<td><center><a href=\"files/searchBragg/selected_runs/ipts_14599/run_52700_Q.png\"><img src=\"files/searchBragg/selected_runs/ipts_14599/run_52700_Q.png\" width=\"400\"alt=\"run_52700_Q\"></a>  <i>run_52700_Q</i></center></td>\n",
    "</tr></table></center>\n",
    "\n",
    "### IPTS 16550 \"Low Energy Excitation in the Heisenberg Antiferromagnet Pyrochlore, Gd2Ti2O7\"\n",
    "We run BASISPowderDiffraction for <b>run 64653</b>.\n",
    "<center><table><tr>\n",
    "<td><center><a href=\"files/searchBragg/selected_runs/ipts_16550/run_64653_angle.png\"><img src=\"files/searchBragg/selected_runs/ipts_16550/run_64653_angle.png\" width=\"400\"alt=\"run_64653_angle\"></a>  <i>run_64653_angle</i></center></td>\n",
    "<td><center><a href=\"files/searchBragg/selected_runs/ipts_16550/run_64653_Q.png\"><img src=\"files/searchBragg/selected_runs/ipts_16550/run_64653_Q.png\" width=\"400\"alt=\"run_64653_Q\"></a>  <i>run_64653_Q</i></center></td>\n",
    "</tr></table></center>\n",
    "\n",
    "### IPTS 17894 \"Towards a quantitative understanding of the triangular spin-liquid YbMgGaO4: Searching for elastic scattering and a spin-gap\"\n",
    "We run BASISPowderDiffraction for <b>run 70456</b>.\n",
    "<center><table><tr>\n",
    "<td><center><a href=\"files/searchBragg/selected_runs/ipts_17894/run_70456_angle.png\"><img src=\"files/searchBragg/selected_runs/ipts_17894/run_70456_angle.png\" width=\"400\"alt=\"run_70456_angle\"></a>  <i>run_70456_angle</i></center></td>\n",
    "<td><center><a href=\"files/searchBragg/selected_runs/ipts_17894/run_70456_Q.png\"><img src=\"files/searchBragg/selected_runs/ipts_17894/run_70456_Q.png\" width=\"400\"alt=\"run_70456_Q\"></a>  <i>run_70456_Q</i></center></td>\n",
    "</tr></table></center>\n",
    "\n",
    "### IPTS 18156 \"Solvent exchange dynamics on calcium carbonate nanocrystals\"\n",
    "We run BASISPowderDiffraction for <b>run 69043</b>.\n",
    "<center><table><tr>\n",
    "<td><center><a href=\"files/searchBragg/selected_runs/ipts_18156/run_69043_angle.png\"><img src=\"files/searchBragg/selected_runs/ipts_18156/run_69043_angle.png\" width=\"400\"alt=\"run_69043_angle\"></a>  <i>run_69043_angle</i></center></td>\n",
    "<td><center><a href=\"files/searchBragg/selected_runs/ipts_18156/run_69043_Q.png\"><img src=\"files/searchBragg/selected_runs/ipts_18156/run_69043_Q.png\" width=\"400\"alt=\"run_69043_Q\"></a>  <i>run_69043_Q</i></center></td>\n",
    "</tr></table></center>\n",
    "\n",
    "### IPTS 18915 \"Emergent photon in the quantum spin ice of Pr2Zr2O7\"\n",
    "We run BASISPowderDiffraction for <b>run 74706</b>.\n",
    "<center><table><tr>\n",
    "<td><center><a href=\"files/searchBragg/selected_runs/ipts_18915/run_74706_angle.png\"><img src=\"files/searchBragg/selected_runs/ipts_18915/run_74706_angle.png\" width=\"400\"alt=\"run_74706_angle\"></a>  <i>run_74706_angle</i></center></td>\n",
    "<td><center><a href=\"files/searchBragg/selected_runs/ipts_18915/run_74706_Q.png\"><img src=\"files/searchBragg/selected_runs/ipts_18915/run_74706_Q.png\" width=\"400\"alt=\"run_74706_Q\"></a>  <i>run_74706_Q</i></center></td>\n",
    "</tr></table></center>\n",
    "\n",
    "### IPTS 20354 \"Neutron Diffraction Studies of Confined Structural Water in Crystalline Tungsten Oxide for Energy Storage Applications\"\n",
    "We run BASISPowderDiffraction for <b>run 79024</b>.\n",
    "<center><table><tr>\n",
    "<td><center><a href=\"files/searchBragg/selected_runs/ipts_20354/run_79024_angle.png\"><img src=\"files/searchBragg/selected_runs/ipts_20354/run_79024_angle.png\" width=\"400\"alt=\"run_79024_angle\"></a>  <i>run_79024_angle</i></center></td>\n",
    "<td><center><a href=\"files/searchBragg/selected_runs/ipts_20354/run_79024_Q.png\"><img src=\"files/searchBragg/selected_runs/ipts_20354/run_79024_Q.png\" width=\"400\"alt=\"run_79024_Q\"></a>  <i>run_79024_Q</i></center></td>\n",
    "</tr></table></center>\n",
    "\n",
    "### IPTS 21266 \"Effects of Ionic Clusters on Segmental Dynamics in Ionic Polymers\"\n",
    "We run BASISPowderDiffraction for <b>run 79594</b>.\n",
    "<center><table><tr>\n",
    "<td><center><a href=\"files/searchBragg/selected_runs/ipts_21266/run_79594_angle.png\"><img src=\"files/searchBragg/selected_runs/ipts_21266/run_79594_angle.png\" width=\"400\"alt=\"run_79594_angle\"></a>  <i>run_79594_angle</i></center></td>\n",
    "<td><center><a href=\"files/searchBragg/selected_runs/ipts_21266/run_79594_Q.png\"><img src=\"files/searchBragg/selected_runs/ipts_21266/run_79594_Q.png\" width=\"400\"alt=\"run_79594_Q\"></a>  <i>run_79594_Q</i></center></td>\n",
    "</tr></table></center>"
   ]
  },
  {
   "cell_type": "markdown",
   "metadata": {},
   "source": [
    "<h2>Search for Bragg Peaks in Samples Containing Water</h2>\n",
    "Subdirectory <code>searchBraggWater</code>"
   ]
  },
  {
   "cell_type": "markdown",
   "metadata": {},
   "source": [
    "(<a href='#bragg_search_water'>Top</a>)<a id='bragg_search_water.bind_search'></a><h3>Blind Search</h3> \n",
    "\n",
    "python script [searchWaterBragg.py](files/searchWaterBragg/searchWaterBragg.py) carries out all the job. Statement <code>applyPowder(ipts)</code> applies BASISPowderDiffraction to every run of selected IPTS whose event file is bigger than 10MB. Selected IPTS are listed in the script. The output of <code>applyPowder(ipts)</code> is file <i>searchBragg_r.dat</i> containing 5 columns:\n",
    "<pre>IPTS  RUN   ratio  angle_at_max intensity</pre>\n",
    "- IPTS number\n",
    "- RUN number\n",
    "- ratio: ratio of maximum to average for $I(\\theta)$\n",
    "- angle_at_max: scattering angle $\\theta$ for which $I(\\theta)$ is maximal\n",
    "- intensity: sum of $I(\\theta)$ for all scattering angles $\\theta$\n",
    "\n",
    "We select minimum intengrated intensity as $10^5$, and will remove those runs with a summed intensity smaller than this minimum. Statement \n",
    "<code>all_ratios(min_intensity=1.0e5, outfile='searchBragg_intensity_filtered.dat')</code>\n",
    "in [searchWaterBragg.py](files/searchWaterBragg/searchWaterBragg.py) generates file <i>searchBragg_intensity_filtered.dat</i> which has the same contents as file <i>searchBragg_r.dat</i> but implementing the previous filter. Results are presented in next section."
   ]
  },
  {
   "cell_type": "markdown",
   "metadata": {},
   "source": [
    "(<a href='#bragg_search_water'>Top</a>)\n",
    "<a id='bragg_search_water.filtered_search'></a><h3>Filtered Search</h3> \n",
    "\n",
    "We identify runs with a high maximum-to-average ratio, as in the figure below, as indicative of a Bragg peak.\n",
    "<center><a href=\"files/searchBragg/ipts_21266_run_79594_angle.png\"><img src=\"files/searchBragg/ipts_21266_run_79594_angle.png\" width=\"600\"alt=\"ipts_21266_run_79594_angle\"></a>  <i>ipts_21266_run_79594_angle.agr</i></center>\n",
    "\n",
    "We apply BASISPowderDiffraction to runs of 27 different IPTS, all samples containing water. There are a total of 73 IPTS with samples containing water, but many had their files placed in long-term storage. These were not readily accesible to this statistical analysis.\n",
    "We plot the histogram of ratios. With the imposed filter (see previous section), we have no run with $ratio > 7$, and shows a series of peaks and a few single instances of runs with \"high\" $ratio$ values.\n",
    "<center><a href=\"files/searchWaterBragg/ratio_histogram_filtered.png\"><img src=\"files/searchWaterBragg/ratio_histogram_filtered.png\" width=\"600\"alt=\"ratio_histogram_filtered\"></a>  <i>ratio_histogram_filtered.agr</i></center>\n",
    "\n",
    "We plot a histogram of the location of the maximum intensity by looking for each run the scattering angle with the maximum intensity.\n",
    "<center><a href=\"files/searchWaterBragg/maximum_angle_histogram_filtered.png\"><img src=\"files/searchWaterBragg/maximum_angle_histogram_filtered.png\" width=\"600\"alt=\"maximum_angle_histogram_filtered\"></a>  <i>maximum_angle_histogram_filtered.agr</i></center>\n",
    "\n",
    "Again, we render a scatter plot of <code>ratio</code> versus <code>IPTS</code> to identify those samples with a high <code>ratio</code>. We highlight those IPTS with many values above the minimal $ratio$ plus one standard deviation.\n",
    "<center><a href=\"files/searchWaterBragg/ratio_vs_ipts_filtered.png\"><img src=\"files/searchWaterBragg/ratio_vs_ipts_filtered.png\" width=\"600\"alt=\"ratio_vs_ipts_filtered\"></a>  <i>ratio_vs_ipts_filtered.agr</i></center>\n",
    "\n",
    "We plot more details for the highligthed IPTS."
   ]
  },
  {
   "cell_type": "markdown",
   "metadata": {},
   "source": [
    "(<a href='#bragg_search_water'>Top</a>)\n",
    "<a id='bragg_search_water.selected_runs'></a><h2>Selected IPTS</h2> \n",
    "\n",
    "Selected runs have scattering angles with higher intensity, but in some cases it is not clear if this is due to coherent scattering. More analysis is needed in some cases.\n",
    "\n",
    "### IPTS 10764, \"Interaction of Water with Monodisperse Phytoglycogen Nanoparticles\"\n",
    "We run BASISPowderDiffraction for <b>run 33213</b>.\n",
    "<center><table><tr>\n",
    "<td><center><a href=\"files/searchWaterBragg/selected_runs/ipts_10764/run_33213_angle.png\"><img src=\"files/searchWaterBragg/selected_runs/ipts_10764/run_33213_angle.png\" width=\"400\"alt=\"run_33213_angle\"></a>  <i>run_33213_angle</i></center></td>\n",
    "<td><center><a href=\"files/searchWaterBragg/selected_runs/ipts_10764/run_33213_Q.png\"><img src=\"files/searchWaterBragg/selected_runs/ipts_10764/run_33213_Q.png\" width=\"400\"alt=\"run_33213_Q\"></a>  <i>run_33213_Q</i></center></td>\n",
    "</tr></table></center>\n",
    "\n",
    "### IPTS 10999, \"Slowing down of water dynamics under extreme (Hydrophobic) carbon confinement\"\n",
    "We run BASISPowderDiffraction for <b>run 40058</b>.\n",
    "<center><table><tr>\n",
    "<td><center><a href=\"files/searchWaterBragg/selected_runs/ipts_10999/run_40058_angle.png\"><img src=\"files/searchWaterBragg/selected_runs/ipts_10999/run_40058_angle.png\" width=\"400\"alt=\"run_40058_angle\"></a>  <i>run_40058_angle</i></center></td>\n",
    "<td><center><a href=\"files/searchWaterBragg/selected_runs/ipts_10999/run_40058_Q.png\"><img src=\"files/searchWaterBragg/selected_runs/ipts_10999/run_40058_Q.png\" width=\"400\"alt=\"run_40058_Q\"></a>  <i>run_40058_Q</i></center></td>\n",
    "</tr></table></center>\n",
    "\n",
    "### IPTS 14179, \"Effect of applied electric field on the diffusivity of water in ACF-10\"\n",
    "We run BASISPowderDiffraction for <b>run 33213</b>.\n",
    "<center><table><tr>\n",
    "<td><center><a href=\"files/searchWaterBragg/selected_runs/ipts_14179/run_56624_angle.png\"><img src=\"files/searchWaterBragg/selected_runs/ipts_14179/run_56624_angle.png\" width=\"400\"alt=\"run_56624_angle\"></a>  <i>run_56624_angle</i></center></td>\n",
    "<td><center><a href=\"files/searchWaterBragg/selected_runs/ipts_14179/run_56624_Q.png\"><img src=\"files/searchWaterBragg/selected_runs/ipts_14179/run_56624_Q.png\" width=\"400\"alt=\"run_56624_Q\"></a>  <i>run_56624_Q</i></center></td>\n",
    "</tr></table></center>\n",
    "\n",
    "### IPTS 15173, \"Interaction of water with melittin bound to a single-supported lipid bilayer\"\n",
    "We run BASISPowderDiffraction for <b>run 56740</b>.\n",
    "<center><table><tr>\n",
    "<td><center><a href=\"files/searchWaterBragg/selected_runs/ipts_15173/run_56740_angle.png\"><img src=\"files/searchWaterBragg/selected_runs/ipts_15173/run_56740_angle.png\" width=\"400\"alt=\"run_56740_angle\"></a>  <i>run_56740_angle</i></center></td>\n",
    "<td><center><a href=\"files/searchWaterBragg/selected_runs/ipts_15173/run_56740_Q.png\"><img src=\"files/searchWaterBragg/selected_runs/ipts_15173/run_56740_Q.png\" width=\"400\"alt=\"run_56740_Q\"></a>  <i>run_56740_Q</i></center></td>\n",
    "</tr></table></center>\n",
    "\n",
    "### IPTS 16427, \"Dynamics of the polyoxometalate interfacial water as a model system of surface catalytic reaction\"\n",
    "We run BASISPowderDiffraction for <b>run 59955</b>.\n",
    "<center><table><tr>\n",
    "<td><center><a href=\"files/searchWaterBragg/selected_runs/ipts_16427/run_59955_angle.png\"><img src=\"files/searchWaterBragg/selected_runs/ipts_16427/run_59955_angle.png\" width=\"400\"alt=\"run_59955_angle\"></a>  <i>run_59955_angle</i></center></td>\n",
    "<td><center><a href=\"files/searchWaterBragg/selected_runs/ipts_16427/run_59955_Q.png\"><img src=\"files/searchWaterBragg/selected_runs/ipts_16427/run_59955_Q.png\" width=\"400\"alt=\"run_59955_Q\"></a>  <i>run_59955_Q</i></center></td>\n",
    "</tr></table></center>\n",
    "\n",
    "### IPTS 19355, \"Can cellular water behaviour be used to predict the progression of a tumor?\"\n",
    "We run BASISPowderDiffraction for <b>run 75713</b>.\n",
    "<center><table><tr>\n",
    "<td><center><a href=\"files/searchWaterBragg/selected_runs/ipts_19355/run_75713_angle.png\"><img src=\"files/searchWaterBragg/selected_runs/ipts_19355/run_75713_angle.png\" width=\"400\"alt=\"run_75713_angle\"></a>  <i>run_75713_angle</i></center></td>\n",
    "<td><center><a href=\"files/searchWaterBragg/selected_runs/ipts_19355/run_75713_Q.png\"><img src=\"files/searchWaterBragg/selected_runs/ipts_19355/run_75713_Q.png\" width=\"400\"alt=\"run_75713_Q\"></a>  <i>run_75713_Q</i></center></td>\n",
    "</tr></table></center>\n",
    "\n",
    "### IPTS 20354, \"Neutron Diffraction Studies of Confined Structural Water in Crystalline Tungsten Oxide for Energy Storage Applications\"\n",
    "We run BASISPowderDiffraction for <b>run 75713</b>.\n",
    "<center><table><tr>\n",
    "<td><center><a href=\"files/searchWaterBragg/selected_runs/ipts_20354/run_79024_angle.png\"><img src=\"files/searchWaterBragg/selected_runs/ipts_20354/run_79024_angle.png\" width=\"400\"alt=\"run_79024_angle\"></a>  <i>run_79024_angle</i></center></td>\n",
    "<td><center><a href=\"files/searchWaterBragg/selected_runs/ipts_20354/run_79024_Q.png\"><img src=\"files/searchWaterBragg/selected_runs/ipts_20354/run_79024_Q.png\" width=\"400\"alt=\"run_79024_Q\"></a>  <i>run_79024_Q</i></center></td>\n",
    "</tr></table></center>"
   ]
  },
  {
   "cell_type": "markdown",
   "metadata": {},
   "source": [
    "<h1>BASISPowderDiffraction</h1>\n",
    "\n",
    "<a id='Table of Contents'></a><h3>Table of Contents</h3>  \n",
    "<a href='#Setup'>Python setup (imports)</a>  \n",
    "<a href='#Collaborators'>Collaborators</a>  \n",
    "<a href='#Goals'>Goals</a>  \n",
    "\n",
    "<a id='bragg_search'></a><b>Search for Bragg Peaks</b>  \n",
    "<a href='#bragg_search.bind_search'>Blind Search</a>  \n",
    "<a href='#bragg_search.filtered_search'>Filtered Search</a>  \n",
    "<a href='#bragg_search.selected_runs'>Selected Runs</a>  \n",
    "\n",
    "<a id='bragg_search_water'></a><b>Search for Bragg Peaks in Samples Containing Water</b>  \n",
    "<a href='#bragg_search_water.bind_search'>Blind Search</a>  \n",
    "<a href='#bragg_search_water.filtered_search'>Filtered Search</a>  \n",
    "<a href='#bragg_search_water.selected_runs'>Selected Runs</a>  \n",
    "\n",
    "<a id='Meetings'></a><b>Meetings</b>  \n",
    "\n",
    "\n",
    "<a href='#Syntax'>HTML and MARKDOWN SYNTAX EXAMPLES</a></br>"
   ]
  },
  {
   "cell_type": "markdown",
   "metadata": {},
   "source": [
    "<a id='Meetings'></a><h2>Meetings</h2>"
   ]
  },
  {
   "cell_type": "markdown",
   "metadata": {},
   "source": [
    "(<a href='#Table of Contents'>Top</a>)<a id='Syntax'></a><h3>Syntax Examples</h3>\n",
    "local link: [link](files/link)</br>\n",
    "remote link: <a href=\"http://ambermd.org/\">http://ambermd.org</a>\n",
    "<font face=\"courier new\"> font face=\"courier new\" </font><br/>\n",
    "$$S_{model}(Q,E)=A(Q)\\cdot S_{elastic}(E) + B(Q)\\cdot S_{simulation}(Q,E)\\otimes S_{elastic}(E) + C(Q)+D(Q)\\cdot E$$\n",
    "<pre> Quoted text </pre>\n",
    "<center><table><tr>\n",
    "<td><a href=\"files/image.png\"><img src=\"files/image.png\" width=\"300\" height=\"250\" alt=\"image here\"></a> <br/>\n",
    "    <i>image caption</i></td>\n",
    "<td>some text</td>\n",
    "</tr></table></center>"
   ]
  },
  {
   "cell_type": "code",
   "execution_count": null,
   "metadata": {},
   "outputs": [],
   "source": []
  }
 ],
 "metadata": {
  "kernelspec": {
   "display_name": "Python 2",
   "language": "python",
   "name": "python2"
  },
  "language_info": {
   "codemirror_mode": {
    "name": "ipython",
    "version": 2
   },
   "file_extension": ".py",
   "mimetype": "text/x-python",
   "name": "python",
   "nbconvert_exporter": "python",
   "pygments_lexer": "ipython2",
   "version": "2.7.15rc1"
  }
 },
 "nbformat": 4,
 "nbformat_minor": 1
}
