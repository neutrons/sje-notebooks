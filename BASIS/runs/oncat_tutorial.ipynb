{
 "cells": [
  {
   "cell_type": "markdown",
   "metadata": {},
   "source": [
    "<h1>ONCAT tutorial for BASIS users</h1>\n",
    "\n",
    "<a id='Table of Contents'></a><h3>Table of Contents</h3>  \n",
    "<a href='#browse'>Getting to your IPTS</a>  \n",
    "<a href='#get_csv'>View and download info from all runs to CSV file</a>  \n",
    "<a href='#extract_from_csv'>Filtering search the CSV filter with python</a>  \n"
   ]
  },
  {
   "cell_type": "markdown",
   "metadata": {},
   "source": [
    "(<a href='#Table of Contents'>Top</a>)<a id='browse'></a><h3>Getting to your IPTS</h3>\n",
    "\n",
    "Point your browser to the <a href=\"https://oncat.ornl.gov/#/\"  target=\"_blank\">ONCAT</a> site and loging with your UCAMS/XCAMS password.  \n",
    "\n",
    "<br><center><a href=\"files/oncat_tutorial_images/img1.png\"><img src=\"files/oncat_tutorial_images/img1.png\" width=\"600\" alt=\"ONCAT welcome screen\"></a></center><br>\n",
    "\n",
    "After that, click on the <b>Explore</b> icon, navigate to the <b>SNS</b> facility, then to the <b>BSS</b> (BASIS) beamline.  \n",
    "\n",
    "<br><center><table><tr>\n",
    "  <td><a href=\"files/oncat_tutorial_images/img2.png\"><img src=\"files/oncat_tutorial_images/img2.png\" width=\"600\"></a></td>\n",
    "  <td><a href=\"files/oncat_tutorial_images/img3.png\"><img src=\"files/oncat_tutorial_images/img3.png\" width=\"600\"></a></td>\n",
    "</tr></table></center><br>\n",
    "\n",
    "A list of IPTS icons will show up, click in your IPTS or do a search filter to locate your IPTS.  \n",
    "\n",
    "<br><center><a href=\"files/oncat_tutorial_images/img4.png\"><img src=\"files/oncat_tutorial_images/img4.png\" width=\"500\"></a></center><br>\n",
    "\n",
    "After clicking in the IPTS icon, the summary info of your IPTS will show up.\n",
    "\n",
    "<br><center><a href=\"files/oncat_tutorial_images/img5.png\"><img src=\"files/oncat_tutorial_images/img5.png\" width=\"500\"></a></center><br>\n"
   ]
  },
  {
   "cell_type": "markdown",
   "metadata": {},
   "source": [
    "(<a href='#Table of Contents'>Top</a>)<a id='get_csv'></a><h3>View and download info from all runs to CSV file</h3>\n",
    "\n",
    "Gathering information for all your runs in one file can be useful for purposes of filtering your runs by certain property, such as runs between a temperature range.\n",
    "\n",
    "From the welcome view of your IPTS page, click the <b>SUMMARY</b> icon\n",
    "\n",
    "<br><center><a href=\"files/oncat_tutorial_images/img6.png\"><img src=\"files/oncat_tutorial_images/img6.png\" width=\"400\"></a></center><br>\n",
    "\n",
    "An <b>Advanced ADARA Info</b> view of each and every run is available for browsing. All this information can be saved to a CSV file by clicking in the download icon.\n",
    "\n",
    "<br><center><a href=\"files/oncat_tutorial_images/img7.png\"><img src=\"files/oncat_tutorial_images/img7.png\" width=\"600\"></a></center><br>\n",
    "\n",
    "After saving, [the file](files/info.csv) can be used to filter runs by one or more properties. You can use Windows EXCEL or a python script for that purpose.\n",
    "\n",
    "<br><center><a href=\"files/oncat_tutorial_images/img8.png\"><img src=\"files/oncat_tutorial_images/img8.png\" width=\"800\"></a></center><br>\n",
    "\n"
   ]
  },
  {
   "cell_type": "markdown",
   "metadata": {},
   "source": [
    "(<a href='#Table of Contents'>Top</a>)<a id='extract_from_csv'></a><h3>Filtering search the CSV filter with python</h3>\n",
    "\n",
    "Here we use the <a href=\"https://pandas.pydata.org/\"  target=\"_blank\">python pandas package</a> to load [info.csv](files/info.csv) and find out the run numbers satisfying certain conditions"
   ]
  },
  {
   "cell_type": "code",
   "execution_count": 7,
   "metadata": {},
   "outputs": [
    {
     "name": "stdout",
     "output_type": "stream",
     "text": [
      "Index([u'Run #', u'Title', u'Sample Name', u'Notes', u'Start Time',\n",
      "       u'End Time', u'Duration', u'Proton Charge', u'Wavelength Mean',\n",
      "       u'Chopper 1 Mean', u'Chopper 2 Mean', u'Chopper 3 Mean',\n",
      "       u'Slit 1 Top Mean', u'Slit 1 Bottom Mean', u'Slit 1 Left Mean',\n",
      "       u'Slit 1 Right Mean', u'Sensor A Min', u'Sensor A Max',\n",
      "       u'Sensor A Std Dev', u'Sensor A Mean', u'Sensor B Min', u'Sensor B Max',\n",
      "       u'Sensor B Std Dev', u'Sensor B Mean', u'Path'],\n",
      "      dtype='object')\n"
     ]
    }
   ],
   "source": [
    "from __future__ import print_function\n",
    "import pandas as pd\n",
    "import os\n",
    "csvfile = '/SNS/users/{}/notebooks/BASIS/runs/info.csv'.format(os.environ['USER'])\n",
    "df=pd.read_csv(csvfile, skipinitialspace=True, index_col=False)\n",
    "print(df.keys())  # Column names of the CSV file"
   ]
  },
  {
   "cell_type": "code",
   "execution_count": 35,
   "metadata": {},
   "outputs": [
    {
     "name": "stdout",
     "output_type": "stream",
     "text": [
      "[77746 77747 77748]\n"
     ]
    }
   ],
   "source": [
    "# Find runs numbers with temperature between 300 and 400K\n",
    "condition = df['Sensor A Mean'].gt(10) & df['Sensor A Mean'].lt(20)\n",
    "match = df[condition]  # entries matching the condition\n",
    "print(match['Run #'].values)"
   ]
  },
  {
   "cell_type": "code",
   "execution_count": 38,
   "metadata": {},
   "outputs": [
    {
     "name": "stdout",
     "output_type": "stream",
     "text": [
      "[77746 77748]\n"
     ]
    }
   ],
   "source": [
    "# Retain only those runs with a duration above 12 hours\n",
    "condition2 = df['Duration'].gt(12 * 3600)  # units are in seconds\n",
    "match2 = df[condition & condition2]\n",
    "print(match2['Run #'].values)"
   ]
  },
  {
   "cell_type": "code",
   "execution_count": 42,
   "metadata": {},
   "outputs": [
    {
     "name": "stdout",
     "output_type": "stream",
     "text": [
      "   Run # Title   Sample Name Notes                           Start Time  \\\n",
      "1  77746  NONE  [DMIm][TFSI]  NONE  2018-06-01T19:00:36.573647666-04:00   \n",
      "3  77748  NONE  [DMIm][TFSI]  NONE  2018-06-02T19:11:05.063730666-04:00   \n",
      "\n",
      "                              End Time      Duration   Proton Charge  \\\n",
      "1  2018-06-02T09:20:40.216857666-04:00  51603.643210  14878092580790   \n",
      "3  2018-06-03T08:25:15.244489666-04:00  47650.180759  12669079005310   \n",
      "\n",
      "   Wavelength Mean  Chopper 1 Mean  \\\n",
      "1              6.4              60   \n",
      "3              6.4              60   \n",
      "\n",
      "                         ...                          Slit 1 Right Mean  \\\n",
      "1                        ...                                     -13.75   \n",
      "3                        ...                                     -13.75   \n",
      "\n",
      "   Sensor A Min  Sensor A Max  Sensor A Std Dev  Sensor A Mean  Sensor B Min  \\\n",
      "1       15.0680       15.5787          0.053194      15.160219        8.4957   \n",
      "3       15.3039       15.4911          0.049918      15.403597        8.6302   \n",
      "\n",
      "   Sensor B Max  Sensor B Std Dev  Sensor B Mean  \\\n",
      "1        9.0779          0.064432       8.600499   \n",
      "3        8.7043          0.016830       8.666455   \n",
      "\n",
      "                                                Path  \n",
      "1  /SNS/BSS/IPTS-21323/0/77746/NeXus/BSS_77746_ev...  \n",
      "3  /SNS/BSS/IPTS-21323/0/77748/NeXus/BSS_77748_ev...  \n",
      "\n",
      "[2 rows x 25 columns]\n"
     ]
    }
   ],
   "source": [
    "print(match2)"
   ]
  }
 ],
 "metadata": {
  "kernelspec": {
   "display_name": "Python 2",
   "language": "python",
   "name": "python2"
  },
  "language_info": {
   "codemirror_mode": {
    "name": "ipython",
    "version": 2
   },
   "file_extension": ".py",
   "mimetype": "text/x-python",
   "name": "python",
   "nbconvert_exporter": "python",
   "pygments_lexer": "ipython2",
   "version": "2.7.15rc1"
  }
 },
 "nbformat": 4,
 "nbformat_minor": 1
}
