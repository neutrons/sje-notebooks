{
 "cells": [
  {
   "cell_type": "code",
   "execution_count": 1,
   "metadata": {},
   "outputs": [
    {
     "name": "stdout",
     "output_type": "stream",
     "text": [
      "/SNS/users/lj7/notebooks/ARCS\n"
     ]
    }
   ],
   "source": [
    "%cd ~/notebooks/ARCS\n",
    "import os, numpy as np"
   ]
  },
  {
   "cell_type": "code",
   "execution_count": 2,
   "metadata": {},
   "outputs": [],
   "source": [
    "import pandas as pd\n",
    "import numpy as np\n",
    "import scipy as sp\n",
    "import plotly.plotly as py"
   ]
  },
  {
   "cell_type": "code",
   "execution_count": 3,
   "metadata": {},
   "outputs": [],
   "source": [
    "import plotly"
   ]
  },
  {
   "cell_type": "code",
   "execution_count": 4,
   "metadata": {},
   "outputs": [],
   "source": [
    "plotly.tools.set_credentials_file(username='mcvine', api_key='xPhu0GyBCi4iiEI3unYE')"
   ]
  },
  {
   "cell_type": "code",
   "execution_count": 5,
   "metadata": {},
   "outputs": [
    {
     "name": "stderr",
     "output_type": "stream",
     "text": [
      "/SNS/software/miniconda2/envs/spida/lib/python2.7/site-packages/PIL/Image.py:77: RuntimeWarning:\n",
      "\n",
      "The _imaging extension was built for another version of Pillow or PIL: Core Version: 3.2.0Pillow Version:  4.2.1\n",
      "\n"
     ]
    }
   ],
   "source": [
    "import plotly.figure_factory as ff"
   ]
  },
  {
   "cell_type": "code",
   "execution_count": 6,
   "metadata": {},
   "outputs": [],
   "source": [
    "vdata = pd.read_csv('./V_Cali_Int_Res_FC1_2018.dat', delimiter=' ')"
   ]
  },
  {
   "cell_type": "code",
   "execution_count": 7,
   "metadata": {},
   "outputs": [],
   "source": [
    "vtable = ff.create_table(vdata)"
   ]
  },
  {
   "cell_type": "code",
   "execution_count": 8,
   "metadata": {},
   "outputs": [],
   "source": [
    "# py.iplot(vtable, filename='jupyter-vtable')"
   ]
  },
  {
   "cell_type": "code",
   "execution_count": 9,
   "metadata": {},
   "outputs": [],
   "source": [
    "choppers = np.array(vdata.Chopper, dtype=int)"
   ]
  },
  {
   "cell_type": "code",
   "execution_count": 10,
   "metadata": {},
   "outputs": [],
   "source": [
    "chopper_freqs = np.array([getattr(vdata, \"Chopper%d\"%c)[i] for i, c in enumerate(choppers)])"
   ]
  },
  {
   "cell_type": "code",
   "execution_count": 11,
   "metadata": {},
   "outputs": [],
   "source": [
    "intensity = vdata.Height * vdata.Sigma"
   ]
  },
  {
   "cell_type": "code",
   "execution_count": 12,
   "metadata": {},
   "outputs": [],
   "source": [
    "resolution = vdata.Sigma"
   ]
  },
  {
   "cell_type": "code",
   "execution_count": 13,
   "metadata": {},
   "outputs": [
    {
     "data": {
      "text/plain": [
       "{8.0,\n",
       " 10.0,\n",
       " 12.0,\n",
       " 15.0,\n",
       " 20.0,\n",
       " 25.0,\n",
       " 30.0,\n",
       " 40.0,\n",
       " 50.0,\n",
       " 60.0,\n",
       " 70.0,\n",
       " 80.0,\n",
       " 90.0,\n",
       " 100.0,\n",
       " 120.0,\n",
       " 125.0,\n",
       " 150.0,\n",
       " 200.0,\n",
       " 250.0,\n",
       " 300.0,\n",
       " 400.0,\n",
       " 500.0,\n",
       " 600.0,\n",
       " 700.0,\n",
       " 800.0,\n",
       " 900.0,\n",
       " 1000.0,\n",
       " 1200.0,\n",
       " 1500.0,\n",
       " 1800.0,\n",
       " 2000.0,\n",
       " 2500.0,\n",
       " 3000.0,\n",
       " 3500.0,\n",
       " 4000.0,\n",
       " 5000.0,\n",
       " 6000.0,\n",
       " 8000.0,\n",
       " 10000.0}"
      ]
     },
     "execution_count": 13,
     "metadata": {},
     "output_type": "execute_result"
    }
   ],
   "source": [
    "set(vdata.Energy)"
   ]
  },
  {
   "cell_type": "code",
   "execution_count": 14,
   "metadata": {},
   "outputs": [],
   "source": [
    "Ei = 100."
   ]
  },
  {
   "cell_type": "code",
   "execution_count": 15,
   "metadata": {},
   "outputs": [],
   "source": [
    "condition = np.isclose(vdata.Energy, Ei)"
   ]
  },
  {
   "cell_type": "code",
   "execution_count": 16,
   "metadata": {},
   "outputs": [],
   "source": [
    "import plotly.graph_objs as go"
   ]
  },
  {
   "cell_type": "code",
   "execution_count": 17,
   "metadata": {},
   "outputs": [],
   "source": [
    "labels = ['Chopper %s. Freq: %s' % (c, f) for c,f in zip(choppers[condition], chopper_freqs[condition])]"
   ]
  },
  {
   "cell_type": "code",
   "execution_count": 18,
   "metadata": {},
   "outputs": [],
   "source": [
    "trace = go.Scatter(\n",
    "    x = resolution[condition],\n",
    "    y = vdata.Height[condition],\n",
    "    mode = 'markers+text',\n",
    "    text = labels,\n",
    "    textposition='top center'\n",
    ")\n",
    "\n",
    "data = [trace]\n",
    "\n",
    "layout = go.Layout(\n",
    "    title = 'Flux (peak height) vs elastic resolution (peak width). Ei=%s meV' % Ei,\n",
    "    showlegend=False,\n",
    "    xaxis=dict(\n",
    "        title='Resolution (meV)',\n",
    "    #    range=[0, 11]\n",
    "    ),\n",
    "    yaxis=dict(\n",
    "        title='Flux (arb. unit)',\n",
    "    #    range=[0, .7]\n",
    "    )\n",
    ")\n",
    "\n",
    "fig = go.Figure(data=data, layout=layout)"
   ]
  },
  {
   "cell_type": "code",
   "execution_count": null,
   "metadata": {},
   "outputs": [],
   "source": [
    "# Plot and embed in ipython notebook!\n",
    "py.iplot(fig, filename='intensity-resolution')"
   ]
  },
  {
   "cell_type": "code",
   "execution_count": null,
   "metadata": {},
   "outputs": [],
   "source": []
  }
 ],
 "metadata": {
  "kernelspec": {
   "display_name": "DGS-powder at jnrk-sns-analysis",
   "language": "python",
   "name": "jnrk-sns-analysis-dgs-powder"
  },
  "language_info": {
   "codemirror_mode": {
    "name": "ipython",
    "version": 2
   },
   "file_extension": ".py",
   "mimetype": "text/x-python",
   "name": "python",
   "nbconvert_exporter": "python",
   "pygments_lexer": "ipython2",
   "version": "2.7.14"
  },
  "toc": {
   "base_numbering": 1,
   "nav_menu": {},
   "number_sections": true,
   "sideBar": true,
   "skip_h1_title": false,
   "title_cell": "Table of Contents",
   "title_sidebar": "Contents",
   "toc_cell": false,
   "toc_position": {},
   "toc_section_display": true,
   "toc_window_display": false
  }
 },
 "nbformat": 4,
 "nbformat_minor": 1
}
