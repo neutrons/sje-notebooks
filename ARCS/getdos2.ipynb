{
 "cells": [
  {
   "cell_type": "markdown",
   "metadata": {},
   "source": [
    "# Density of States Analysis Example\n",
    "* Given sample and empty-can data, compute phonon DOS\n",
    "* To use this notebook, first click jupyter menu File->Make a copy\n",
    "* Click the title of the copied jupyter notebook and change it to a new title\n",
    "* Start executing cells"
   ]
  },
  {
   "cell_type": "markdown",
   "metadata": {},
   "source": [
    "## Summary of processing steps\n",
    "\n",
    "* Gather experimental information and experimental raw data\n",
    "* Reduce raw data to S(Q,E)\n",
    "* Convert S(Q,E) to DOS"
   ]
  },
  {
   "cell_type": "markdown",
   "metadata": {},
   "source": [
    "## Preparation"
   ]
  },
  {
   "cell_type": "markdown",
   "metadata": {},
   "source": [
    "Create a new working directory and change into it.\n",
    "\n",
    "Please modify the following path to suit your need!"
   ]
  },
  {
   "cell_type": "code",
   "execution_count": null,
   "metadata": {},
   "outputs": [],
   "source": [
    "workdir = '/SNS/users/lj7/reduction/ARCS/getdos-demo-test'\n",
    "!mkdir -p {workdir}\n",
    "%cd {workdir}"
   ]
  },
  {
   "cell_type": "markdown",
   "metadata": {},
   "source": [
    "Get tools ready"
   ]
  },
  {
   "cell_type": "code",
   "execution_count": null,
   "metadata": {
    "collapsed": true
   },
   "outputs": [],
   "source": [
    "import os, numpy as np\n",
    "import histogram.hdf as hh, histogram as H\n",
    "from matplotlib import pyplot as plt\n",
    "%matplotlib notebook\n",
    "# %matplotlib inline\n",
    "\n",
    "from multiphonon.sqe import plot as plot_sqe\n",
    "from multiphonon.ui.getdos import Context, NxsWizardStart, QEGridWizardStart, GetDOSWizStart"
   ]
  },
  {
   "cell_type": "markdown",
   "metadata": {},
   "source": [
    "Create a context for getdos"
   ]
  },
  {
   "cell_type": "code",
   "execution_count": null,
   "metadata": {
    "collapsed": true
   },
   "outputs": [],
   "source": [
    "context=Context()"
   ]
  },
  {
   "cell_type": "markdown",
   "metadata": {},
   "source": [
    "If you want to reuse a previously-saved context, please uncomment the following cell and execute"
   ]
  },
  {
   "cell_type": "code",
   "execution_count": null,
   "metadata": {},
   "outputs": [],
   "source": [
    "# context.from_yaml('./getdos2-context.yaml')"
   ]
  },
  {
   "cell_type": "markdown",
   "metadata": {},
   "source": [
    "## Experimental data and condition"
   ]
  },
  {
   "cell_type": "markdown",
   "metadata": {},
   "source": [
    "Phonon Density of States (DOS) can be obtained from inelastic neutron scattering (INS) spectrum.\n",
    "This notebook allows for extracting DOS from INS spectrum measured at the ARCS instrument at SNS.\n",
    "To start, we need data files measured for the sample and the empty can, as well as experimental conditions such as incident energy and sample temperature.\n",
    "The following wizard help you go through these steps.\n",
    "\n",
    "<img src=\"getdos2-select_raw_data.png\" width=\"500\"/>"
   ]
  },
  {
   "cell_type": "markdown",
   "metadata": {},
   "source": [
    "Example datasets:\n",
    "\n",
    "* samplenxs = \"/SNS/ARCS/2014_1_18_CAL/0/47435/NeXus/ARCS_47435_event.nxs\"\n",
    "* mtnxs = Skip\n",
    "* Ei=80\n",
    "* T=300"
   ]
  },
  {
   "cell_type": "code",
   "execution_count": null,
   "metadata": {},
   "outputs": [],
   "source": [
    "NxsWizardStart(context).show()"
   ]
  },
  {
   "cell_type": "markdown",
   "metadata": {},
   "source": [
    "Save configuration so you can reuse it"
   ]
  },
  {
   "cell_type": "code",
   "execution_count": null,
   "metadata": {
    "collapsed": true
   },
   "outputs": [],
   "source": [
    "context.to_yaml('./getdos2-context.yaml')"
   ]
  },
  {
   "cell_type": "markdown",
   "metadata": {},
   "source": [
    "## Obtain S(Q,E)\n",
    "\n",
    "S(Q,E) spectra for both the sample and the empty can is the starting point for getdos processing. Here is an example:\n",
    "\n",
    "<img width=\"300\" src=\"Al-SQE.png\"/>\n",
    "\n",
    "Run the following wizard to define the E and Q axes so that S(Q,E) spectra can be obtained the INS raw data."
   ]
  },
  {
   "cell_type": "code",
   "execution_count": null,
   "metadata": {},
   "outputs": [],
   "source": [
    "QEGridWizardStart(context).show()"
   ]
  },
  {
   "cell_type": "markdown",
   "metadata": {},
   "source": [
    "Parameters are saved in the work dir. Uncomment the script below to see."
   ]
  },
  {
   "cell_type": "code",
   "execution_count": null,
   "metadata": {
    "collapsed": true
   },
   "outputs": [],
   "source": [
    "%%script bash\n",
    "# ls work/\n",
    "# cat work/raw2iqe-sample.params"
   ]
  },
  {
   "cell_type": "markdown",
   "metadata": {},
   "source": [
    "Plot sample IQE"
   ]
  },
  {
   "cell_type": "code",
   "execution_count": null,
   "metadata": {
    "collapsed": true
   },
   "outputs": [],
   "source": [
    "iqe = hh.load('work/iqe.h5')"
   ]
  },
  {
   "cell_type": "code",
   "execution_count": null,
   "metadata": {},
   "outputs": [],
   "source": [
    "plt.figure(figsize=(6,4))\n",
    "plot_sqe(iqe)\n",
    "# plt.xlim(0, 11)\n",
    "plt.clim(0, 1e-2)"
   ]
  },
  {
   "cell_type": "markdown",
   "metadata": {},
   "source": [
    "You can improve the Q,E grid parameters if you like, by re-executing the above cell of\n",
    "\n",
    "`QEGridWizardStart(context).show()`"
   ]
  },
  {
   "cell_type": "markdown",
   "metadata": {},
   "source": [
    "Plot I(E)"
   ]
  },
  {
   "cell_type": "code",
   "execution_count": null,
   "metadata": {},
   "outputs": [],
   "source": [
    "iqe2 = iqe.copy()\n",
    "I = iqe2.I; I[I!=I] = 0 # remove NaNs\n",
    "IE = iqe2.sum('Q')  # sum over Q\n",
    "plt.figure(figsize=(6,4))\n",
    "plt.plot(IE.energy, IE.I)"
   ]
  },
  {
   "cell_type": "markdown",
   "metadata": {},
   "source": [
    "The plots above provide clues to selecting parameters for the getdos procedure"
   ]
  },
  {
   "cell_type": "markdown",
   "metadata": {},
   "source": [
    "Save configuration so you can reuse it"
   ]
  },
  {
   "cell_type": "code",
   "execution_count": null,
   "metadata": {
    "collapsed": true
   },
   "outputs": [],
   "source": [
    "context.to_yaml('./getdos2-context.yaml')"
   ]
  },
  {
   "cell_type": "markdown",
   "metadata": {},
   "source": [
    "## Run GetDOS\n",
    "\n",
    "DOS will be obtained from SQE by an iterative procedure where multiphonon and multiple scattering corrections are applied to the measured SQE spectrum, assuming\n",
    "incoherent approximation, and the corrected spectrum\n",
    "is then converted to DOS.\n",
    "\n",
    "An example DOS plot:\n",
    "<img width=\"300\" src=\"Al-DOS.png\"/>"
   ]
  },
  {
   "cell_type": "code",
   "execution_count": null,
   "metadata": {
    "scrolled": true
   },
   "outputs": [],
   "source": [
    "GetDOSWizStart(context).show()"
   ]
  },
  {
   "cell_type": "markdown",
   "metadata": {},
   "source": [
    "Save context"
   ]
  },
  {
   "cell_type": "code",
   "execution_count": null,
   "metadata": {
    "collapsed": true
   },
   "outputs": [],
   "source": [
    "context.to_yaml('./getdos2-context.yaml')"
   ]
  },
  {
   "cell_type": "markdown",
   "metadata": {},
   "source": [
    "Print context"
   ]
  },
  {
   "cell_type": "code",
   "execution_count": null,
   "metadata": {
    "collapsed": true
   },
   "outputs": [],
   "source": [
    "print context"
   ]
  },
  {
   "cell_type": "markdown",
   "metadata": {},
   "source": [
    "## Check output"
   ]
  },
  {
   "cell_type": "markdown",
   "metadata": {},
   "source": [
    "Results are saved in \"work\" directory"
   ]
  },
  {
   "cell_type": "code",
   "execution_count": null,
   "metadata": {
    "collapsed": true
   },
   "outputs": [],
   "source": [
    "ls work/"
   ]
  },
  {
   "cell_type": "markdown",
   "metadata": {},
   "source": [
    "Plot the final result for DOS"
   ]
  },
  {
   "cell_type": "code",
   "execution_count": null,
   "metadata": {},
   "outputs": [],
   "source": [
    "dos = hh.load('work/final-dos.h5')\n",
    "plt.figure(figsize=(5,3))\n",
    "plt.plot(dos.E, dos.I)\n",
    "plt.xlabel('Energy (meV)')\n",
    "# plt.xlim(0, 30)"
   ]
  },
  {
   "cell_type": "markdown",
   "metadata": {},
   "source": [
    "More plotting utils are available"
   ]
  },
  {
   "cell_type": "code",
   "execution_count": null,
   "metadata": {
    "collapsed": true
   },
   "outputs": [],
   "source": [
    "from multiphonon.backward import plotutils as pu"
   ]
  },
  {
   "cell_type": "code",
   "execution_count": null,
   "metadata": {},
   "outputs": [],
   "source": [
    "plt.figure(figsize=(5,3))\n",
    "pu.plot_dos_iteration('work/')"
   ]
  },
  {
   "cell_type": "code",
   "execution_count": null,
   "metadata": {},
   "outputs": [],
   "source": [
    "plt.figure(figsize=(6,4))\n",
    "pu.plot_residual('work/')"
   ]
  },
  {
   "cell_type": "code",
   "execution_count": null,
   "metadata": {},
   "outputs": [],
   "source": [
    "plt.figure(figsize=(10, 4))\n",
    "pu.plot_intermediate_result_se('work/round-3')"
   ]
  },
  {
   "cell_type": "code",
   "execution_count": null,
   "metadata": {
    "collapsed": true
   },
   "outputs": [],
   "source": []
  }
 ],
 "metadata": {
  "kernelspec": {
   "display_name": "dev-mph",
   "language": "python",
   "name": "dev-mph"
  },
  "language_info": {
   "codemirror_mode": {
    "name": "ipython",
    "version": 2
   },
   "file_extension": ".py",
   "mimetype": "text/x-python",
   "name": "python",
   "nbconvert_exporter": "python",
   "pygments_lexer": "ipython2",
   "version": "2.7.12"
  },
  "widgets": {
   "state": {
    "00d6d1a106a542ad8e1e42308da0d176": {
     "views": [
      {
       "cell_index": 6
      }
     ]
    },
    "05cadaef338f46b2ab82e578636953f9": {
     "views": [
      {
       "cell_index": 6
      }
     ]
    },
    "09a112da61f64b44bc1c131bcb96c221": {
     "views": [
      {
       "cell_index": 6
      }
     ]
    },
    "0bf45f2160da410aaa58af9cc8bde24a": {
     "views": [
      {
       "cell_index": 6
      }
     ]
    },
    "13a422d4e0594ef78ce8612002e103c1": {
     "views": [
      {
       "cell_index": 6
      }
     ]
    },
    "17e4841f303849efb8b80263236483b0": {
     "views": [
      {
       "cell_index": 5
      }
     ]
    },
    "180c8da4c43344cdb5336a8d97bd6958": {
     "views": [
      {
       "cell_index": 6
      }
     ]
    },
    "188ad23345584d2eb2e5fe5e0d34d3f1": {
     "views": [
      {
       "cell_index": 6
      }
     ]
    },
    "1a577c721f8846ebaa5a675ba5cf797b": {
     "views": [
      {
       "cell_index": 6
      }
     ]
    },
    "1fc18503c284444d91b2b2524e03166b": {
     "views": [
      {
       "cell_index": 6
      }
     ]
    },
    "1fd3af1e79694c7bac7834f8db67262b": {
     "views": [
      {
       "cell_index": 6
      }
     ]
    },
    "222411f7173b4b4e88b44dbc46476f08": {
     "views": [
      {
       "cell_index": 6
      }
     ]
    },
    "22a6c515967640a590502abb83d1bdca": {
     "views": [
      {
       "cell_index": 6
      }
     ]
    },
    "235919b136e540e29e20fdd2352b6453": {
     "views": [
      {
       "cell_index": 6
      }
     ]
    },
    "23712214e4524548ae8fc287bf0b825d": {
     "views": [
      {
       "cell_index": 6
      }
     ]
    },
    "23874805bd3548ef9ce1b55a8beedb19": {
     "views": [
      {
       "cell_index": 6
      }
     ]
    },
    "23fc7d5b5dd24de79932e42efd529f1b": {
     "views": [
      {
       "cell_index": 6
      }
     ]
    },
    "2d727964b44b4456a7d7cc900dfd5e30": {
     "views": [
      {
       "cell_index": 6
      }
     ]
    },
    "2e07026a80ec4c86bea5801f6593068a": {
     "views": [
      {
       "cell_index": 6
      }
     ]
    },
    "318e457f17db4b6eaf70cce037133585": {
     "views": [
      {
       "cell_index": 8
      }
     ]
    },
    "383c447b61b04a0e848b79fd7618da66": {
     "views": [
      {
       "cell_index": 5
      }
     ]
    },
    "3bf8bc48f93d49f99fdd3ef7b3405161": {
     "views": [
      {
       "cell_index": 6
      }
     ]
    },
    "43e9a26974d24b1e9408c0cfee717d68": {
     "views": [
      {
       "cell_index": 6
      }
     ]
    },
    "45e4b3ef287c41788d501e7cfb284596": {
     "views": [
      {
       "cell_index": 6
      }
     ]
    },
    "47c322eb80824fe884bc9c0d616a7ea5": {
     "views": [
      {
       "cell_index": 6
      }
     ]
    },
    "492ec180bb08428cb70c7c93529a4556": {
     "views": [
      {
       "cell_index": 6
      }
     ]
    },
    "4cd5da30e61d47e4b8a222e0064bc2d6": {
     "views": [
      {
       "cell_index": 6
      }
     ]
    },
    "4e01b74a4e3647dd8b4b90392d24f123": {
     "views": [
      {
       "cell_index": 6
      }
     ]
    },
    "4e6e5f71237a4a82884487f879ded77c": {
     "views": [
      {
       "cell_index": 6
      }
     ]
    },
    "4e8a7bbafca04f79bbbbf39ce1c44cf0": {
     "views": [
      {
       "cell_index": 6
      }
     ]
    },
    "5030855016084c9a8b2fd43a77a12def": {
     "views": [
      {
       "cell_index": 6
      }
     ]
    },
    "50a4b87deef641249cf2a76c2d01f150": {
     "views": [
      {
       "cell_index": 6
      }
     ]
    },
    "524f61084f3a4dec864447d57211e24f": {
     "views": [
      {
       "cell_index": 5
      }
     ]
    },
    "53d80e00efcf4e04b8379844370a5a32": {
     "views": [
      {
       "cell_index": 6
      }
     ]
    },
    "54751c89b2944ababb0f6bd36db7fc90": {
     "views": [
      {
       "cell_index": 6
      }
     ]
    },
    "58f1a5742a2841d295e192e78e96241a": {
     "views": [
      {
       "cell_index": 6
      }
     ]
    },
    "5965242f72204da4a6fefc9660a25ee0": {
     "views": [
      {
       "cell_index": 5
      }
     ]
    },
    "5b31ad8774784485abf8e27bca116511": {
     "views": [
      {
       "cell_index": 6
      }
     ]
    },
    "5b519a5bfe9348babf48295a16f895e1": {
     "views": [
      {
       "cell_index": 6
      }
     ]
    },
    "60c719bca26b48468d313bf5a67f54da": {
     "views": [
      {
       "cell_index": 6
      }
     ]
    },
    "616d024c0e43477faab57820285e8c0e": {
     "views": [
      {
       "cell_index": 6
      }
     ]
    },
    "62c97b89f3664ee9a40e6677cbf821b2": {
     "views": [
      {
       "cell_index": 5
      }
     ]
    },
    "6405400b70304a17b8ae3d7b9449ba99": {
     "views": [
      {
       "cell_index": 6
      }
     ]
    },
    "660da110cd1049a6b9665330b6219926": {
     "views": [
      {
       "cell_index": 6
      }
     ]
    },
    "668d25dc642d4268bd97731ab6c23407": {
     "views": [
      {
       "cell_index": 6
      }
     ]
    },
    "67396748fc184453ac7e276b7c8d05d2": {
     "views": [
      {
       "cell_index": 6
      }
     ]
    },
    "68a902cb9538461f8dde10a6d0e53ecb": {
     "views": [
      {
       "cell_index": 6
      }
     ]
    },
    "719c99308fad4db29a39f94829794b2a": {
     "views": [
      {
       "cell_index": 6
      }
     ]
    },
    "73a977dcbe6b4c25a40ed6dadcf7132c": {
     "views": [
      {
       "cell_index": 6
      }
     ]
    },
    "7430fd9d4f56474d91e8f1eb3644bd5e": {
     "views": [
      {
       "cell_index": 6
      }
     ]
    },
    "77e1e1b5e55944db91b89583bcaf1807": {
     "views": [
      {
       "cell_index": 6
      }
     ]
    },
    "7d2de4fa4f794d5d979dede6677b8670": {
     "views": [
      {
       "cell_index": 8
      }
     ]
    },
    "7ebec58a0944417c992f581a704c31e1": {
     "views": [
      {
       "cell_index": 5
      }
     ]
    },
    "85c4f9ad6429499f83a36b1abd253ca6": {
     "views": [
      {
       "cell_index": 5
      }
     ]
    },
    "881e93bf32f44287ab36924465cf8958": {
     "views": [
      {
       "cell_index": 8
      }
     ]
    },
    "8c27bd0ae8f848abbade0547bfdf32bb": {
     "views": [
      {
       "cell_index": 6
      }
     ]
    },
    "8d70dfc2429243cc876930061dddb176": {
     "views": [
      {
       "cell_index": 6
      }
     ]
    },
    "8f7591aa3d42470c8dfea8dfb5dd7ac8": {
     "views": [
      {
       "cell_index": 8
      }
     ]
    },
    "9035c86d812d4cfc91842c0490b0c99b": {
     "views": [
      {
       "cell_index": 6
      }
     ]
    },
    "930f8ef291d04ea3afd6eacbc46ee7ac": {
     "views": [
      {
       "cell_index": 6
      }
     ]
    },
    "949f879a7e7b4a0e806ee8f96f06022a": {
     "views": [
      {
       "cell_index": 6
      }
     ]
    },
    "96682718ae6b449ba9204d1d1273fa6a": {
     "views": [
      {
       "cell_index": 6
      }
     ]
    },
    "9808fbbfbbdb47108569f8c4f6b059c2": {
     "views": [
      {
       "cell_index": 6
      }
     ]
    },
    "9a4959c62894418e94916e0d6bb807fd": {
     "views": [
      {
       "cell_index": 6
      }
     ]
    },
    "9b6a7b2087c74031bcb09adb94be937b": {
     "views": [
      {
       "cell_index": 6
      }
     ]
    },
    "9b6ba99c72644b6a8c57c60497cb2419": {
     "views": [
      {
       "cell_index": 6
      }
     ]
    },
    "9ee5c7e5eea847919b7dc44dff10ca83": {
     "views": [
      {
       "cell_index": 6
      }
     ]
    },
    "9f7c0bd531164c3bb4a084db5fc31f5e": {
     "views": [
      {
       "cell_index": 6
      }
     ]
    },
    "a01319c20b08455fa775243e943b6c10": {
     "views": [
      {
       "cell_index": 6
      }
     ]
    },
    "a4062607e2924a80bf59ba1caeb1835a": {
     "views": [
      {
       "cell_index": 6
      }
     ]
    },
    "ab0036695ff84c0db64c90ab4f98aee8": {
     "views": [
      {
       "cell_index": 8
      }
     ]
    },
    "ab1757ae6edb41cc83c1f9c5c8ce4b46": {
     "views": [
      {
       "cell_index": 6
      }
     ]
    },
    "acbbd939c02d45bc9f6f650b2488b16f": {
     "views": [
      {
       "cell_index": 6
      }
     ]
    },
    "ae21db2ecd5744a79651bf54e67dedcf": {
     "views": [
      {
       "cell_index": 8
      }
     ]
    },
    "ae7fa5c3408b424eb019960dc6deec7a": {
     "views": [
      {
       "cell_index": 6
      }
     ]
    },
    "b04dc8542dc347e48297bbf727330f26": {
     "views": [
      {
       "cell_index": 6
      }
     ]
    },
    "b074f7fea5a648388d2c2fad6b8f3592": {
     "views": [
      {
       "cell_index": 6
      }
     ]
    },
    "b1e4edb07b754f39bd48adba09006102": {
     "views": [
      {
       "cell_index": 8
      }
     ]
    },
    "b275282110044c11bf822c30999a91cf": {
     "views": [
      {
       "cell_index": 6
      }
     ]
    },
    "b87de7205acf4af3ab03561241012734": {
     "views": [
      {
       "cell_index": 6
      }
     ]
    },
    "b9695eb0f1d64aaa9875c9f8d1c48547": {
     "views": [
      {
       "cell_index": 6
      }
     ]
    },
    "bbc13992cb0d4706abbb447c368f04e3": {
     "views": [
      {
       "cell_index": 5
      }
     ]
    },
    "bcb7c55b6c1f45039df99d0b74f039dc": {
     "views": [
      {
       "cell_index": 6
      }
     ]
    },
    "bdd219dc05434f0db1d56135a6f356d6": {
     "views": [
      {
       "cell_index": 6
      }
     ]
    },
    "beedf02ec68a4bf38819db53087ee381": {
     "views": [
      {
       "cell_index": 6
      }
     ]
    },
    "c4057a78352a4cd9b3a8874cb724050c": {
     "views": [
      {
       "cell_index": 6
      }
     ]
    },
    "c98cb9651c95470d95614e27eb10b045": {
     "views": [
      {
       "cell_index": 6
      }
     ]
    },
    "cb6931148ced4667b60335dbf4667b06": {
     "views": [
      {
       "cell_index": 6
      }
     ]
    },
    "cc32ad0ed0c44c1b8b854bd3b98d2aa5": {
     "views": [
      {
       "cell_index": 6
      }
     ]
    },
    "ce96cf9a63af47e5abcaea9fd63688f3": {
     "views": [
      {
       "cell_index": 6
      }
     ]
    },
    "db4a263478ab4c33b333f71cf786aa45": {
     "views": [
      {
       "cell_index": 6
      }
     ]
    },
    "e2a65d36219b4e219a2eb53d9e2afde4": {
     "views": [
      {
       "cell_index": 6
      }
     ]
    },
    "e48ee6c2511f4231aeb742d900a80f84": {
     "views": [
      {
       "cell_index": 6
      }
     ]
    },
    "e56e3dece9bc451fb7e58ae34eb65d2c": {
     "views": [
      {
       "cell_index": 6
      }
     ]
    },
    "e7473e1b8a924eed9ee3e1e6b49ba24d": {
     "views": [
      {
       "cell_index": 6
      }
     ]
    },
    "e77464a3befb44df86160e644a08df40": {
     "views": [
      {
       "cell_index": 6
      }
     ]
    },
    "e777a7a91a3749598893e6c3a61fb661": {
     "views": [
      {
       "cell_index": 6
      }
     ]
    },
    "e8b2248aeec7474f8a3fe8abd62391dc": {
     "views": [
      {
       "cell_index": 6
      }
     ]
    },
    "e9f2a67d7bc94e1d97dd136db63625f4": {
     "views": [
      {
       "cell_index": 8
      }
     ]
    },
    "eb3d39f0cfbc42f797cd5d1d1453599c": {
     "views": [
      {
       "cell_index": 6
      }
     ]
    },
    "ec613117ab7540c68e3f6ad6e9ffeabc": {
     "views": [
      {
       "cell_index": 6
      }
     ]
    },
    "f16994c6977c4f1696f96652907021ab": {
     "views": [
      {
       "cell_index": 6
      }
     ]
    },
    "f4d0393521484fea9eae949ef122734e": {
     "views": [
      {
       "cell_index": 6
      }
     ]
    },
    "f4f87ad86dae4e56817835e841f557b0": {
     "views": [
      {
       "cell_index": 6
      }
     ]
    },
    "fdaf38047e6a4d38aec4d8fd76880ba4": {
     "views": [
      {
       "cell_index": 6
      }
     ]
    }
   },
   "version": "1.2.0"
  }
 },
 "nbformat": 4,
 "nbformat_minor": 1
}
