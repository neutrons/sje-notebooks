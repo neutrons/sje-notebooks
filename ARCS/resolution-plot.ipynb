{
 "cells": [
  {
   "cell_type": "markdown",
   "metadata": {},
   "source": [
    "# ARCS resolution data plots"
   ]
  },
  {
   "cell_type": "code",
   "execution_count": null,
   "metadata": {},
   "outputs": [],
   "source": [
    "%cd ~/notebooks/ARCS\n",
    "import resolution_plot"
   ]
  },
  {
   "cell_type": "markdown",
   "metadata": {},
   "source": [
    "## Flux vs resolution"
   ]
  },
  {
   "cell_type": "code",
   "execution_count": null,
   "metadata": {},
   "outputs": [],
   "source": [
    "w = resolution_plot.createIntResPlot()"
   ]
  },
  {
   "cell_type": "code",
   "execution_count": null,
   "metadata": {},
   "outputs": [],
   "source": [
    "w"
   ]
  },
  {
   "cell_type": "code",
   "execution_count": null,
   "metadata": {},
   "outputs": [],
   "source": []
  }
 ],
 "metadata": {
  "kernelspec": {
   "display_name": "DGS-powder at jnrk-sns-analysis",
   "language": "python",
   "name": "jnrk-sns-analysis-dgs-powder"
  },
  "language_info": {
   "codemirror_mode": {
    "name": "ipython",
    "version": 2
   },
   "file_extension": ".py",
   "mimetype": "text/x-python",
   "name": "python",
   "nbconvert_exporter": "python",
   "pygments_lexer": "ipython2",
   "version": "2.7.14"
  },
  "toc": {
   "base_numbering": 1,
   "nav_menu": {},
   "number_sections": true,
   "sideBar": true,
   "skip_h1_title": false,
   "title_cell": "Table of Contents",
   "title_sidebar": "Contents",
   "toc_cell": false,
   "toc_position": {},
   "toc_section_display": true,
   "toc_window_display": false
  },
  "widgets": {
   "application/vnd.jupyter.widget-state+json": {
    "state": {
     "137c723bae664602ac34ffb864edd17e": {
      "model_module": "@jupyter-widgets/base",
      "model_module_version": "1.0.0",
      "model_name": "LayoutModel",
      "state": {}
     },
     "1f76bb6c2298472a9bb779492369568b": {
      "model_module": "@jupyter-widgets/base",
      "model_module_version": "1.0.0",
      "model_name": "LayoutModel",
      "state": {}
     },
     "3ca7441b977f46c78ea7ffdd30200b94": {
      "model_module": "@jupyter-widgets/base",
      "model_module_version": "1.0.0",
      "model_name": "DOMWidgetModel",
      "state": {
       "_graph_url": "https://plot.ly/~mcvine/2",
       "_message": "",
       "_model_name": "DOMWidgetModel",
       "_new_url": "",
       "_view_module": "graphWidget",
       "_view_module_version": "",
       "_view_name": "GraphView",
       "layout": "IPY_MODEL_1f76bb6c2298472a9bb779492369568b"
      }
     },
     "8d5bea2d39d4469e9032a453023faef7": {
      "model_module": "@jupyter-widgets/base",
      "model_module_version": "1.0.0",
      "model_name": "LayoutModel",
      "state": {}
     },
     "8f0a5309760047f69223facfc95eeb20": {
      "model_module": "@jupyter-widgets/controls",
      "model_module_version": "1.2.0",
      "model_name": "VBoxModel",
      "state": {
       "children": [
        "IPY_MODEL_c85b3afc14dc4ee58c6ba4eb35e3a2d5",
        "IPY_MODEL_3ca7441b977f46c78ea7ffdd30200b94"
       ],
       "layout": "IPY_MODEL_137c723bae664602ac34ffb864edd17e"
      }
     },
     "c85b3afc14dc4ee58c6ba4eb35e3a2d5": {
      "model_module": "@jupyter-widgets/controls",
      "model_module_version": "1.2.0",
      "model_name": "DropdownModel",
      "state": {
       "_options_labels": [
        "8.0",
        "10.0",
        "12.0",
        "15.0",
        "20.0",
        "30.0",
        "40.0",
        "50.0",
        "60.0",
        "70.0",
        "80.0",
        "90.0",
        "100.0",
        "120.0",
        "150.0",
        "200.0",
        "250.0",
        "300.0",
        "400.0",
        "500.0",
        "600.0",
        "700.0",
        "800.0",
        "900.0",
        "1000.0",
        "1200.0",
        "1500.0",
        "1800.0",
        "2000.0",
        "2500.0",
        "3000.0",
        "3500.0",
        "4000.0",
        "5000.0",
        "6000.0",
        "8000.0",
        "10000.0",
        "25.0",
        "125.0"
       ],
       "description": "Incident energy",
       "index": 12,
       "layout": "IPY_MODEL_8d5bea2d39d4469e9032a453023faef7",
       "style": "IPY_MODEL_e56d3a30e2fc41859c14e3eba4c01df0"
      }
     },
     "e56d3a30e2fc41859c14e3eba4c01df0": {
      "model_module": "@jupyter-widgets/controls",
      "model_module_version": "1.2.0",
      "model_name": "DescriptionStyleModel",
      "state": {
       "description_width": ""
      }
     }
    },
    "version_major": 2,
    "version_minor": 0
   }
  }
 },
 "nbformat": 4,
 "nbformat_minor": 1
}
