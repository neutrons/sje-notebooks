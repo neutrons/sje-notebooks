{
 "cells": [
  {
   "cell_type": "markdown",
   "metadata": {},
   "source": [
    "# Add a kernel running on analysis cluster\n",
    "\n",
    "* `kernel_name`: name of the kernel\n",
    "* `conda_env_bin_path`: path of the kernel. usually the \"bin\" directory of the conda environment. The conda environment must have `ipykernel` installed\n",
    "* `hostname`: should be `analysis.sns.gov`"
   ]
  },
  {
   "cell_type": "code",
   "execution_count": null,
   "metadata": {},
   "outputs": [],
   "source": [
    "import sje\n",
    "sje.add_kernel(\n",
    "    kernel_name='mcvine', \n",
    "    conda_env_bin_path='/SNS/software/miniconda2/envs/mcvine/bin',\n",
    "    hostname='analysis.sns.gov')"
   ]
  }
 ],
 "metadata": {
  "kernelspec": {
   "display_name": "sje",
   "language": "python",
   "name": "sje"
  },
  "language_info": {
   "codemirror_mode": {
    "name": "ipython",
    "version": 2
   },
   "file_extension": ".py",
   "mimetype": "text/x-python",
   "name": "python",
   "nbconvert_exporter": "python",
   "pygments_lexer": "ipython2",
   "version": "2.7.14"
  }
 },
 "nbformat": 4,
 "nbformat_minor": 2
}
