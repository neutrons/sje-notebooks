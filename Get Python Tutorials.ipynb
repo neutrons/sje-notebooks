{
 "cells": [
  {
   "cell_type": "markdown",
   "metadata": {},
   "source": [
    "# Obtain/update Python Tutorials"
   ]
  },
  {
   "cell_type": "code",
   "execution_count": null,
   "metadata": {},
   "outputs": [],
   "source": [
    "!mkdir -p ~/notebooks\n",
    "!rsync -av /EXAMPLES/IPythonNotebookTutorial/notebooks/ ~/notebooks/IPythonNotebookTutorial-notebooks/"
   ]
  }
 ],
 "metadata": {
  "kernelspec": {
   "display_name": "sje",
   "language": "python",
   "name": "sje"
  },
  "language_info": {
   "codemirror_mode": {
    "name": "ipython",
    "version": 2
   },
   "file_extension": ".py",
   "mimetype": "text/x-python",
   "name": "python",
   "nbconvert_exporter": "python",
   "pygments_lexer": "ipython2",
   "version": "2.7.14"
  }
 },
 "nbformat": 4,
 "nbformat_minor": 1
}
