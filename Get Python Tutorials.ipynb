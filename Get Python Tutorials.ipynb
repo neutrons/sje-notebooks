{
 "cells": [
  {
   "cell_type": "markdown",
   "metadata": {},
   "source": [
    "# Obtain/update Python Tutorials\n",
    "** Please note all files in `~/notebooks/IPythonNotebookTutorial-notebooks` and `~/notebooks/IPythonNotebookTutorial-solutions` will be overwritten **"
   ]
  },
  {
   "cell_type": "code",
   "execution_count": null,
   "metadata": {},
   "outputs": [],
   "source": [
    "import getpass\n",
    "user = getpass.getuser()\n",
    "site_url = \"https://jupyter.sns.gov\"\n",
    "!mkdir -p ~/notebooks # should not be necessary\n",
    "BOLD = '\\033[1m'\n",
    "RESET = \"\\033[0m\"\n",
    "BLUE = \"\\033[34m\" \n",
    "# for backup\n",
    "import datetime\n",
    "now = datetime.datetime.now().strftime(\"%Y-%m-%d_%H-%M-%S\")\n",
    "bkup = \".saved-\" + now\n",
    "def fetch(kind='notebooks', label='tutorials'):\n",
    "    print \"* Getting {}...\".format(label)\n",
    "    target_dir = \"notebooks/IPythonNotebookTutorial-{}\".format(kind)\n",
    "    !rsync -av -b --suffix={bkup} /SNS/snfs1/instruments/EXAMPLES/IPythonNotebookTutorial/{kind}/ ~/{target_dir}/\n",
    "    print\n",
    "    print '-'*80\n",
    "    print BOLD+\"Click the following link to open the {}{}{}\".format(BLUE, label, RESET)\n",
    "    print \"%s/user/%s/tree/%s/\" % (site_url, user, target_dir)\n",
    "    print RESET + '-'*80\n",
    "    print\n",
    "fetch('notebooks', 'tutorials')\n",
    "fetch('solutions', 'solutions')"
   ]
  }
 ],
 "metadata": {
  "kernelspec": {
   "display_name": "sje",
   "language": "python",
   "name": "sje"
  },
  "language_info": {
   "codemirror_mode": {
    "name": "ipython",
    "version": 2
   },
   "file_extension": ".py",
   "mimetype": "text/x-python",
   "name": "python",
   "nbconvert_exporter": "python",
   "pygments_lexer": "ipython2",
   "version": "2.7.14"
  },
  "toc": {
   "base_numbering": 1,
   "nav_menu": {},
   "number_sections": true,
   "sideBar": true,
   "skip_h1_title": false,
   "title_cell": "Table of Contents",
   "title_sidebar": "Contents",
   "toc_cell": false,
   "toc_position": {},
   "toc_section_display": true,
   "toc_window_display": false
  }
 },
 "nbformat": 4,
 "nbformat_minor": 1
}
