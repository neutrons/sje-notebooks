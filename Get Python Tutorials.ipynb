{
 "cells": [
  {
   "cell_type": "markdown",
   "metadata": {},
   "source": [
    "# Obtain/update Python Tutorials"
   ]
  },
  {
   "cell_type": "code",
   "execution_count": null,
   "metadata": {},
   "outputs": [],
   "source": [
    "import getpass\n",
    "user = getpass.getuser()\n",
    "site_url = \"https://jupyter.sns.gov\"\n",
    "target_dir = \"notebooks/IPythonNotebookTutorial-notebooks\"\n",
    "\n",
    "!mkdir -p ~/notebooks\n",
    "!rsync -av /EXAMPLES/IPythonNotebookTutorial/notebooks/ ~/{target_dir}/\n",
    "print\n",
    "BOLD = '\\033[1m'\n",
    "print '*'*80\n",
    "print BOLD+\"Click the following link to open the tutorials\"\n",
    "print\n",
    "print \"%s/user/%s/tree/%s/\" % (site_url, user, target_dir)\n",
    "print '*'*80"
   ]
  }
 ],
 "metadata": {
  "kernelspec": {
   "display_name": "sje",
   "language": "python",
   "name": "sje"
  },
  "language_info": {
   "codemirror_mode": {
    "name": "ipython",
    "version": 2
   },
   "file_extension": ".py",
   "mimetype": "text/x-python",
   "name": "python",
   "nbconvert_exporter": "python",
   "pygments_lexer": "ipython2",
   "version": "2.7.14"
  }
 },
 "nbformat": 4,
 "nbformat_minor": 1
}
