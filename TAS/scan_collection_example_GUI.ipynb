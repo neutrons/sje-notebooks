{
 "cells": [
  {
   "cell_type": "markdown",
   "metadata": {},
   "source": [
    "# Plot Multiple scans using Gui widgets"
   ]
  },
  {
   "cell_type": "markdown",
   "metadata": {},
   "source": [
    "To use this notebook:\n",
    " 1. press shift+enter in the first three cells\n",
    " 2. Below Cell 3 Make sure your root directory, inturment and experiment number are correct\n",
    " 3. Press Find scans\n",
    " 4. select the scans you want to plot together\n",
    " 5. Press Load\n",
    " 6. Choose the plot type\n",
    " 7. select the x and y axis. \n",
    "    - The default x is obtained from the first scan. \n",
    "    - There is no default y so be sure to select it\n",
    "    - the color for pcolor or the height in the waterfall is always the detector column.\n",
    "\n",
    "Each time you press plot, another figure will appear\n",
    "\n",
    "Details on accessing the figure for saving are given below the figure panel"
   ]
  },
  {
   "cell_type": "code",
   "execution_count": 1,
   "metadata": {
    "collapsed": true
   },
   "outputs": [],
   "source": [
    "import collections\n",
    "import ipywidgets as ipyw\n",
    "import os\n",
    "import numpy as np\n",
    "import neutronpy as npy\n",
    "%matplotlib inline\n",
    "from IPython.display import display\n",
    "import matplotlib.pyplot as pyplot"
   ]
  },
  {
   "cell_type": "code",
   "execution_count": 2,
   "metadata": {},
   "outputs": [],
   "source": [
    "class axis_parms (object):\n",
    "    def __init__(self,data,axis_label,default_value=None,max_offset=0.0):\n",
    "        self.data=data\n",
    "        self.max_offset=max_offset\n",
    "        jkys=list(data.scans.keys())\n",
    "        #print (jkys)\n",
    "        data_columns=data.scans[jkys[0]].data_columns\n",
    "        # find the maximum length of a column name and determine the width of the selection box\n",
    "        ta=list(map(lambda x: len(x),data_columns))\n",
    "        max_wstr=str(np.array(ta).max()*7)+'px'\n",
    "        # if no column is given as the default value, set the max and min values to 0\n",
    "        # otherwise set it to the maximum and minimum value of the default column.\n",
    "        if default_value==None:\n",
    "            self.axis=ipyw.Select(options=data_columns,layout=ipyw.Layout(width=max_wstr))\n",
    "            min_val=0.\n",
    "            max_val=0.\n",
    "        else:\n",
    "            self.axis=ipyw.Select(options=data_columns,value=default_value,layout=ipyw.Layout(width=max_wstr))\n",
    "            min_val=np.min(self.data.min_col(default_value))\n",
    "            max_val=np.max(self.data.max_col(default_value))+self.max_offset    \n",
    "        self.min=ipyw.FloatText(value=min_val,layout=ipyw.Layout(width='49px'))\n",
    "        self.max=ipyw.FloatText(value=max_val,layout=ipyw.Layout(width='49px'))\n",
    "        #on a change of the axis labels change the maxium and minimum value to correspond to that column.\n",
    "        self.axis.observe(self.max_min_handler,names=\"value\")\n",
    "       #set up the max and min part of the gui\n",
    "        self.min_row=ipyw.HBox([ipyw.Label('Min:'),self.min])\n",
    "        self.max_row=ipyw.HBox([ipyw.Label('Max:'),self.max])\n",
    "        self.lim_col=ipyw.VBox([self.min_row,self.max_row])\n",
    "        self.axis_row=ipyw.HBox([ipyw.Label(axis_label),self.axis,self.lim_col])\n",
    "    \n",
    "    def max_min_handler(self,change):\n",
    "        #upon the change of the column sed new max and min values\n",
    "        if change['type'] == 'change' and change['name'] == 'value':\n",
    "          self.min.value=np.min(self.data.min_col(self.axis.value))\n",
    "          self.max.value=np.max(self.data.max_col(self.axis.value))+self.max_offset\n",
    "\n",
    "class Dir_builder(object):\n",
    "    \n",
    "    def __init__(self,instr_lst=['HB1','HB1A','HB3','CG4C'],root_dir=r\"/HFIR/\",exp_num=718):\n",
    "       \"\"\"\n",
    "       \"\"\"\n",
    "       self.instr_mgn='0px 20px 10px 10px'\n",
    "       self.dir_path=ipyw.Text(value=root_dir)\n",
    "       self.instr_name=ipyw.Dropdown(options=instr_lst,value='HB1A',layout=ipyw.Layout(max_width='70px',margin=self.instr_mgn))\n",
    "       self.exp_name=ipyw.Text(value=str(exp_num),layout=ipyw.Layout(width='50px'),margin='0px 10px 10px 10px')\n",
    "       self.find_button=ipyw.Button(description='Find scans')\n",
    "       self.row1=ipyw.HBox([ipyw.Label('Root Directory'),self.dir_path])\n",
    "       self.row2=ipyw.HBox([ipyw.Label('Instrument'),self.instr_name, ipyw.Label('Experiment #'),self.exp_name])\n",
    "       self.row3=self.find_button\n",
    "       self.scans_info=ipyw.VBox([self.row1,self.row2,self.row3])\n",
    "       display(self.scans_info) \n",
    "       self.find_button.on_click(self.display_scans)\n",
    "       self.sel_fls=None\n",
    "       self.scans_obj=None\n",
    "       self.plot_column=None\n",
    "    \n",
    "    def assemble_directory(self):\n",
    "        \"\"\"\n",
    "        \"\"\"\n",
    "        #print(\"hello\")\n",
    "        #print (self.instr_name.value,self.exp_name.value)\n",
    "        self.data_path=self.dir_path.value+self.instr_name.value+os.sep+'exp'+self.exp_name.value+os.sep+'Datafiles'+os.sep\n",
    "    def display_scans(self,b):\n",
    "        \"\"\"\n",
    "        \"\"\"\n",
    "        self.assemble_directory()\n",
    "        #print (self.data_path)\n",
    "        out_list=scans_list(self.data_path)\n",
    "        #height_str=str(np.int(np.ceil(len(out_list)*16.5)))+'px'\n",
    "        if self.sel_fls==None:\n",
    "            self.Load_button=ipyw.Button(description=\"Load\")\n",
    "            self.sel_fls=ipyw.widgets.SelectMultiple(name='scans',options=out_list,layout=ipyw.Layout(display=\"flex\",flex_flow=\"column\"))\n",
    "            self.col=ipyw.VBox([self.sel_fls,self.Load_button])\n",
    "            display(self.col)\n",
    "            self.Load_button.on_click(self.load_scans)\n",
    "        else:\n",
    "            self.sel_fls.height=height_str\n",
    "            self.sel_fls.options=out_list\n",
    "    \n",
    "    def load_scans(self,b):\n",
    "        scan_dict=collections.OrderedDict()\n",
    "        for fl in self.sel_fls.value:\n",
    "            scan_dict[fl]=npy.fileio.load_data(str(self.data_path+fl))\n",
    "        self.scans_obj=npy.data.Scans(scan_dict)\n",
    "        # determine the column names from the first column.  Need something more general/\n",
    "        self.sing_scan=self.scans_obj.scans[self.sel_fls.value[0]]\n",
    "      \n",
    "        self.plot_type=ipyw.RadioButtons(options=['pcolor','waterfall'],value='pcolor')\n",
    "        self.plot_type.observe(self.plot_options,names='value') \n",
    "        display(self.plot_type)\n",
    "        self.plot_button=ipyw.Button(description=\"Plot\")\n",
    "        self.pcolor_controls()\n",
    "        self.plot_button.on_click(self.make_plot)\n",
    "                                      \n",
    "        \n",
    "    \n",
    "    def make_plot(self,b):\n",
    "        if self.plot_type.value=='pcolor':\n",
    "            self.fig_h=self.scans_obj.pcolor(self.xaxis.axis.value,self.yaxis.axis.value,show_plot=False)\n",
    "            self.set_x_ylims()\n",
    "            pyplot.clim(self.zaxis.min.value,self.zaxis.max.value)\n",
    "            pyplot.show()\n",
    "        if self.plot_type.value=='waterfall':    \n",
    "            self.fig_h=self.scans_obj.waterfall(self.xaxis.axis.value,label_column=self.yaxis.axis.value,offset=self.wfall_spacing.value)\n",
    "            self.set_x_ylims()\n",
    "            \n",
    "    def plot_options(self,b):\n",
    "        if self.plot_column!=None:\n",
    "            self.plot_column.close()\n",
    "        # configure plot column for pcolor plot\n",
    "        if self.plot_type.value=='pcolor':\n",
    "            self.pcolor_controls()\n",
    "        elif self.plot_type.value=='waterfall':\n",
    "        # configure plot column for waterfall plot \n",
    "             self.wfall_controls() \n",
    "            \n",
    "    def pcolor_controls(self):\n",
    "            self.xaxis=axis_parms(self.scans_obj,'x axis',self.sing_scan.plot_default_x)\n",
    "            self.yaxis=axis_parms(self.scans_obj,'variable')\n",
    "            self.zaxis=axis_parms(self.scans_obj,'Intensity',self.sing_scan.plot_default_y)                      \n",
    "            self.axes_row=ipyw.HBox([self.xaxis.axis_row,self.yaxis.axis_row,self.zaxis.axis_row])\n",
    "            self.plot_column=ipyw.VBox([self.axes_row,self.plot_button])\n",
    "            display(self.plot_column)\n",
    "            \n",
    "    def wfall_controls(self): \n",
    "             self.wfall_spacing=ipyw.FloatText(value=5000.0,layout=ipyw.Layout(width='63px'))\n",
    "             offset=self.wfall_spacing.value*len(self.scans_obj.scans)\n",
    "             self.xaxis=axis_parms(self.scans_obj,'x axis',self.sing_scan.plot_default_x)   \n",
    "             self.yaxis=axis_parms(self.scans_obj,'Intensity',self.sing_scan.plot_default_y,max_offset=offset)\n",
    "             self.Wspacing_row=ipyw.HBox([ipyw.Label('Waterfall spacing: '), self.wfall_spacing])           \n",
    "             self.axes_row=ipyw.HBox([self.xaxis.axis_row,self.yaxis.axis_row])\n",
    "             self.plot_column=ipyw.VBox([self.Wspacing_row,self.axes_row,self.plot_button]) \n",
    "             display(self.plot_column)\n",
    "    \n",
    "    def set_x_ylims(self):\n",
    "        self.fig_h.axes[0].set_xlim((self.xaxis.min.value,self.xaxis.max.value))\n",
    "        self.fig_h.axes[0].set_ylim((self.yaxis.min.value,self.yaxis.max.value))\n",
    "    \n",
    "#some helper functions                \n",
    "def scans_list(data_path):\n",
    "    \"\"\"\n",
    "    return a list of files in the given directory with only the .dat extension\n",
    "    \"\"\"\n",
    "    fl_list=os.listdir(data_path)\n",
    "    dat_list=sorted(list(filter(lambda x:x.find('.dat')>0, fl_list)))\n",
    "    return dat_list\n",
    "\n",
    "def box_width(in_lst):\n",
    "    \"\"\"\n",
    "    given a list of strings,  return the length of the longest in pixels\n",
    "    \"\"\"\n",
    "    ta=list(map(lambda x: len(x),in_lst))\n",
    "    wstr=str(np.array(ta).max()*9)+'px'\n",
    "    return wstr\n",
    "\n",
    "    "
   ]
  },
  {
   "cell_type": "code",
   "execution_count": 3,
   "metadata": {},
   "outputs": [
    {
     "data": {
      "application/vnd.jupyter.widget-view+json": {
       "model_id": "a7a89f94a24f40c49084c166b9f00ac9"
      }
     },
     "metadata": {},
     "output_type": "display_data"
    },
    {
     "data": {
      "application/vnd.jupyter.widget-view+json": {
       "model_id": "fd58ddcffc3446b784323b7fcaeeae30"
      }
     },
     "metadata": {},
     "output_type": "display_data"
    },
    {
     "data": {
      "application/vnd.jupyter.widget-view+json": {
       "model_id": "2639049490c44368a5d2956d84215013"
      }
     },
     "metadata": {},
     "output_type": "display_data"
    },
    {
     "data": {
      "application/vnd.jupyter.widget-view+json": {
       "model_id": "181b23b8fae348dc80154cc3e2bef945"
      }
     },
     "metadata": {},
     "output_type": "display_data"
    },
    {
     "data": {
      "image/png": "[encoded data removed]",
      "text/plain": [
       "<matplotlib.figure.Figure at 0x7f1d3292b050>"
      ]
     },
     "metadata": {},
     "output_type": "display_data"
    }
   ],
   "source": [
    "scans_finder=Dir_builder()\n"
   ]
  },
  {
   "cell_type": "markdown",
   "metadata": {},
   "source": [
    "The following command changes to the root directory for saving pictures"
   ]
  },
  {
   "cell_type": "code",
   "execution_count": 4,
   "metadata": {},
   "outputs": [
    {
     "name": "stdout",
     "output_type": "stream",
     "text": [
      "/SNS/users/19g\n"
     ]
    }
   ],
   "source": [
    "cd ~"
   ]
  },
  {
   "cell_type": "markdown",
   "metadata": {},
   "source": [
    "To further manipulate the figure, you need to grab the figure handle. The handle is the fig_h attribute of the scans_finder object. or scans_finder.fig_h.  The following command is an example that saves the figure."
   ]
  },
  {
   "cell_type": "code",
   "execution_count": 5,
   "metadata": {
    "collapsed": true
   },
   "outputs": [],
   "source": [
    "scans_finder.fig_h.savefig('test2.pdf')\n",
    "    \n",
    "    \n"
   ]
  },
  {
   "cell_type": "markdown",
   "metadata": {},
   "source": [
    "The following commands show how to set a title and then re display the figure.  Note you can use latex syntax to get specical caharacters."
   ]
  },
  {
   "cell_type": "code",
   "execution_count": 6,
   "metadata": {},
   "outputs": [
    {
     "data": {
      "text/plain": [
       "<matplotlib.text.Text at 0x7f1d2f2c0dd0>"
      ]
     },
     "execution_count": 6,
     "metadata": {},
     "output_type": "execute_result"
    }
   ],
   "source": [
    "scans_finder.fig_h.axes[0].set_title('$H_{scan}$')\n"
   ]
  },
  {
   "cell_type": "code",
   "execution_count": 7,
   "metadata": {},
   "outputs": [
    {
     "data": {
      "image/png": "[encoded data removed]",
      "text/plain": [
       "<matplotlib.figure.Figure at 0x7f1d3292b050>"
      ]
     },
     "execution_count": 7,
     "metadata": {},
     "output_type": "execute_result"
    }
   ],
   "source": [
    "scans_finder.fig_h"
   ]
  },
  {
   "cell_type": "code",
   "execution_count": null,
   "metadata": {
    "collapsed": true
   },
   "outputs": [],
   "source": []
  }
 ],
 "metadata": {
  "kernelspec": {
   "display_name": "TAS at jnrk-analysis",
   "language": "python",
   "name": "jnrk-analysis-tas"
  },
  "language_info": {
   "codemirror_mode": {
    "name": "ipython",
    "version": 2
   },
   "file_extension": ".py",
   "mimetype": "text/x-python",
   "name": "python",
   "nbconvert_exporter": "python",
   "pygments_lexer": "ipython2",
   "version": "2.7.13"
  },
  "widgets": {
   "state": {
    "06444ca515e64036839f8fb56719d42c": {
     "views": [
      {
       "cell_index": 4
      }
     ]
    },
    "48d6b7706b794f67846559fbdb44ae86": {
     "views": [
      {
       "cell_index": 4
      }
     ]
    },
    "5e4c088a81874f1a9ec9b2b180360a2b": {
     "views": [
      {
       "cell_index": 4
      }
     ]
    },
    "f3b1dded564d4eea8205e469df0e2718": {
     "views": [
      {
       "cell_index": 4
      }
     ]
    }
   },
   "version": "1.2.0"
  }
 },
 "nbformat": 4,
 "nbformat_minor": 1
}
