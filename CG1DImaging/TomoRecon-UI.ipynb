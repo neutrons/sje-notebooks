{
 "cells": [
  {
   "cell_type": "markdown",
   "metadata": {},
   "source": [
    "# Quick Interface Instructions:\n",
    "* Before start, make sure the circle indicating kernel status on the top-right corner is open (meaning jupyter kernel is ready)\n",
    "* Run the cells below sequentially\n",
    "* ** Shift-enter ** to run a cell\n",
    "* When cell number is '*', the kernel is busy calculating for you. Please wait.\n",
    "* Click a cell to edit"
   ]
  },
  {
   "cell_type": "markdown",
   "metadata": {},
   "source": [
    "# Import useful tools"
   ]
  },
  {
   "cell_type": "code",
   "execution_count": null,
   "metadata": {
    "collapsed": false
   },
   "outputs": [],
   "source": [
    "# Be patient, this may take a little while\n",
    "# If you see \"In [*]\" to the left of this cell, it means it is busy computing, just wait a bit longer\n",
    "import os, imars3d, numpy as np, glob, time, pickle as pkl\n",
    "from imars3d.jnbui import ct_wizard\n",
    "from imars3d.ImageFile import ImageFile"
   ]
  },
  {
   "cell_type": "code",
   "execution_count": null,
   "metadata": {
    "collapsed": false
   },
   "outputs": [],
   "source": [
    "# Be patient, this may take a little while too\n",
    "# %matplotlib notebook\n",
    "%matplotlib inline\n",
    "from matplotlib import pyplot as plt"
   ]
  },
  {
   "cell_type": "code",
   "execution_count": null,
   "metadata": {
    "collapsed": true
   },
   "outputs": [],
   "source": [
    "import ipywidgets as ipyw\n",
    "from IPython.display import display, HTML, clear_output"
   ]
  },
  {
   "cell_type": "markdown",
   "metadata": {},
   "source": [
    "# Configuration Wizard\n",
    "The following inputs work:\n",
    "* IPTS number:    15518\n",
    "* Scan name:      derek_inj\n",
    "* CT signature:   Derek_injec\n",
    "* DF/OB files:    all files under df/ob dir"
   ]
  },
  {
   "cell_type": "code",
   "execution_count": null,
   "metadata": {
    "collapsed": false
   },
   "outputs": [],
   "source": [
    "config = ct_wizard.config()\n",
    "ct_wizard.WizardPanel(ct_wizard.IPTSpanel(config))"
   ]
  },
  {
   "cell_type": "markdown",
   "metadata": {},
   "source": [
    "## Change directory"
   ]
  },
  {
   "cell_type": "code",
   "execution_count": null,
   "metadata": {
    "collapsed": false
   },
   "outputs": [],
   "source": [
    "%mkdir -p {config.outdir}\n",
    "%cd {config.outdir}"
   ]
  },
  {
   "cell_type": "markdown",
   "metadata": {},
   "source": [
    "## Save configuration"
   ]
  },
  {
   "cell_type": "code",
   "execution_count": null,
   "metadata": {
    "collapsed": false
   },
   "outputs": [],
   "source": [
    "pkl.dump(config, open('recon-config.pkl', 'wb'))"
   ]
  },
  {
   "cell_type": "markdown",
   "metadata": {
    "collapsed": true
   },
   "source": [
    "## Print configuration"
   ]
  },
  {
   "cell_type": "code",
   "execution_count": null,
   "metadata": {
    "collapsed": false
   },
   "outputs": [],
   "source": [
    "for k, v in config.__dict__.items():\n",
    "    if k.startswith('_'): continue\n",
    "    sv = str(v)\n",
    "    if len(sv) > 60:\n",
    "        sv = sv[:50] + '...'\n",
    "    print \"{0:20}{1:<}\".format(k,sv)"
   ]
  },
  {
   "cell_type": "markdown",
   "metadata": {},
   "source": [
    "# Create CT data object"
   ]
  },
  {
   "cell_type": "code",
   "execution_count": null,
   "metadata": {
    "collapsed": true
   },
   "outputs": [],
   "source": [
    "# import the CT class\n",
    "from imars3d.CT import CT"
   ]
  },
  {
   "cell_type": "code",
   "execution_count": null,
   "metadata": {
    "collapsed": true
   },
   "outputs": [],
   "source": [
    "# ask for help\n",
    "# CT?"
   ]
  },
  {
   "cell_type": "code",
   "execution_count": null,
   "metadata": {
    "collapsed": false
   },
   "outputs": [],
   "source": [
    "ct = CT(config.datadir, \n",
    "        CT_subdir=\"ct_scans/%s\" % config.ct_subdir, CT_identifier=config.ct_sig,\n",
    "        workdir=config.workdir, outdir=config.outdir,\n",
    "        ob_files=config.ob_files, df_files=config.df_files,\n",
    "        # ob_identifier=ob_sig, df_identifier=df_sig\n",
    "       )"
   ]
  },
  {
   "cell_type": "markdown",
   "metadata": {},
   "source": [
    "# Preprocess - this takes a while"
   ]
  },
  {
   "cell_type": "code",
   "execution_count": null,
   "metadata": {
    "collapsed": false
   },
   "outputs": [],
   "source": [
    "%%time\n",
    "ppd = ct.preprocess()"
   ]
  },
  {
   "cell_type": "markdown",
   "metadata": {},
   "source": [
    "# Find region of interests (ROI)"
   ]
  },
  {
   "cell_type": "code",
   "execution_count": null,
   "metadata": {
    "collapsed": false
   },
   "outputs": [],
   "source": [
    "# Inspect the pre-processed image files \n",
    "# print ppd"
   ]
  },
  {
   "cell_type": "code",
   "execution_count": null,
   "metadata": {
    "collapsed": false
   },
   "outputs": [],
   "source": [
    "# Inspect one image. Change the index below to see a different image\n",
    "index = 0\n",
    "ppd_img0 = ppd.getData(ppd.identifiers[index])\n",
    "plt.pcolormesh(ppd_img0, cmap='gray')\n",
    "plt.colorbar()\n",
    "# adjust the following to make better plot\n",
    "# plt.clim(0, 30)"
   ]
  },
  {
   "cell_type": "code",
   "execution_count": null,
   "metadata": {
    "collapsed": false
   },
   "outputs": [],
   "source": [
    "# Randomly pick some preprocessed files and average them\n",
    "samples = np.random.choice(len(ppd.identifiers), 10)\n",
    "data = 0\n",
    "for sample in samples:\n",
    "    data1 = ppd.getData(ppd.identifiers[sample])\n",
    "    data += data1\n",
    "    continue\n",
    "data/=len(samples)\n",
    "\n",
    "# then plot\n",
    "plt.pcolormesh(data, cmap='gray')\n",
    "plt.colorbar()\n",
    "# adjust the following to make a better plot\n",
    "# plt.clim(0, 30)"
   ]
  },
  {
   "cell_type": "markdown",
   "metadata": {},
   "source": [
    "Please look at the image and find the ROI.\n",
    "Write down the bounding box for the ROI.\n",
    "\n",
    "** For this sample, we can define the ROI as xmin=500, ymin=0, xmax=1600, ymax=2047 **"
   ]
  },
  {
   "cell_type": "markdown",
   "metadata": {},
   "source": [
    "## Run reconstruction"
   ]
  },
  {
   "cell_type": "code",
   "execution_count": null,
   "metadata": {
    "collapsed": false,
    "scrolled": true
   },
   "outputs": [],
   "source": [
    "%%time\n",
    "# Now run the reconstruction. \n",
    "# Make sure to modify the crop_window and use the numbers obtained from above\n",
    "# The reconstruction will take 5-60 minutes.\n",
    "ct.recon(crop_window=(500,0,1600,2047))"
   ]
  },
  {
   "cell_type": "markdown",
   "metadata": {},
   "source": [
    "# Check output"
   ]
  },
  {
   "cell_type": "markdown",
   "metadata": {},
   "source": [
    "## The reconstruction output directory"
   ]
  },
  {
   "cell_type": "code",
   "execution_count": null,
   "metadata": {
    "collapsed": false
   },
   "outputs": [],
   "source": [
    "print config.outdir"
   ]
  },
  {
   "cell_type": "markdown",
   "metadata": {},
   "source": [
    "## The reconstruction output files"
   ]
  },
  {
   "cell_type": "code",
   "execution_count": null,
   "metadata": {
    "collapsed": false
   },
   "outputs": [],
   "source": [
    "!ls -l {config.outdir} | head -n 10"
   ]
  },
  {
   "cell_type": "markdown",
   "metadata": {},
   "source": [
    "## The temporay work directory"
   ]
  },
  {
   "cell_type": "code",
   "execution_count": null,
   "metadata": {
    "collapsed": false
   },
   "outputs": [],
   "source": [
    "print config.workdir"
   ]
  },
  {
   "cell_type": "code",
   "execution_count": null,
   "metadata": {
    "collapsed": false
   },
   "outputs": [],
   "source": [
    "!ls -l {config.workdir}"
   ]
  },
  {
   "cell_type": "markdown",
   "metadata": {},
   "source": [
    "** Please note that the temporary working directory will be pruned after a certain period of time. If you want to retain those files, please copy them to your home directory or the experiment IPTS folder **"
   ]
  },
  {
   "cell_type": "markdown",
   "metadata": {},
   "source": [
    "## Example of temp output - sinograms"
   ]
  },
  {
   "cell_type": "code",
   "execution_count": null,
   "metadata": {
    "collapsed": false
   },
   "outputs": [],
   "source": [
    "!ls -l {config.workdir}/sinogram | head -n 10"
   ]
  },
  {
   "cell_type": "markdown",
   "metadata": {},
   "source": [
    "# Visualization"
   ]
  },
  {
   "cell_type": "markdown",
   "metadata": {},
   "source": [
    "ImageJ. To start, open a terminal and type\n",
    "```\n",
    "$ /HFIR/CG1DImaging/shared/Fiji.app/ImageJ-linux64\n",
    "```"
   ]
  }
 ],
 "metadata": {
  "kernelspec": {
   "display_name": "python2-cg1d at jnrk-cg1d-analysis2",
   "language": "python",
   "name": "jnrk-cg1d-analysis2-python2-cg1d"
  },
  "language_info": {
   "codemirror_mode": {
    "name": "ipython",
    "version": 2
   },
   "file_extension": ".py",
   "mimetype": "text/x-python",
   "name": "python",
   "nbconvert_exporter": "python",
   "pygments_lexer": "ipython2",
   "version": "2.7.12"
  },
  "widgets": {
   "state": {
    "63384b4ce3974052ba7139a16623a321": {
     "views": [
      {
       "cell_index": 6
      }
     ]
    },
    "b56a42896e784684b9ca0c84a48afe16": {
     "views": [
      {
       "cell_index": 6
      }
     ]
    },
    "d3d3b80cfcc44a26a0e622a11de6e2de": {
     "views": [
      {
       "cell_index": 6
      }
     ]
    },
    "fd182aad856f4304be73bb8bdc40b0ed": {
     "views": [
      {
       "cell_index": 6
      }
     ]
    }
   },
   "version": "1.2.0"
  }
 },
 "nbformat": 4,
 "nbformat_minor": 0
}
