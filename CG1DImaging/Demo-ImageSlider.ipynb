{
 "cells": [
  {
   "cell_type": "code",
   "execution_count": null,
   "metadata": {
    "collapsed": true
   },
   "outputs": [],
   "source": [
    "# Be patient, this may take a little while\n",
    "# If you see \"In [*]\" to the left of this cell, it means it is busy computing, just wait a bit longer\n",
    "import os, imars3d, numpy as np, glob, time, pickle as pkl\n",
    "from imars3d.jnbui import imageslider"
   ]
  },
  {
   "cell_type": "code",
   "execution_count": null,
   "metadata": {},
   "outputs": [],
   "source": [
    "recon = imars3d.io.ImageFileSeries(\n",
    "    filename_template=\"/SNS/users/lj7/imaging/injectorG/out/recon_%i.tiff\", \n",
    "    identifiers=range(500))\n",
    "\n",
    "w = imageslider.ImageSlider('injectorG', recon, 400, 400)\n",
    "\n",
    "w.show()"
   ]
  }
 ],
 "metadata": {
  "kernelspec": {
   "display_name": "python2-cg1d at jnrk-cg1d-analysis2",
   "language": "python",
   "name": "jnrk-cg1d-analysis2-python2-cg1d"
  },
  "language_info": {
   "codemirror_mode": {
    "name": "ipython",
    "version": 2
   },
   "file_extension": ".py",
   "mimetype": "text/x-python",
   "name": "python",
   "nbconvert_exporter": "python",
   "pygments_lexer": "ipython2",
   "version": "2.7.12"
  },
  "widgets": {
   "state": {
    "179753c7b95c40ca8b83fc3598734d9a": {
     "views": [
      {
       "cell_index": 8
      }
     ]
    },
    "2a5127dbb22947fba14d2514f2eef722": {
     "views": [
      {
       "cell_index": 8
      }
     ]
    },
    "2a5c20e161b940a3beadf22f66e9e9ce": {
     "views": [
      {
       "cell_index": 8
      }
     ]
    },
    "3bb5ae0baf2c45bb829a67e69847c5f6": {
     "views": [
      {
       "cell_index": 8
      }
     ]
    },
    "56258aa53a404b238b90bb12fca99135": {
     "views": [
      {
       "cell_index": 8
      }
     ]
    },
    "70a3f3125fd04772a29d0876e2b9bdf5": {
     "views": [
      {
       "cell_index": 8
      }
     ]
    },
    "9e5370a7001445368fb19e800ffc1681": {
     "views": [
      {
       "cell_index": 8
      }
     ]
    },
    "d1af2971b77649bc9614786149a83ebd": {
     "views": [
      {
       "cell_index": 8
      }
     ]
    },
    "f8b43172e3f74969af587bbd432de484": {
     "views": [
      {
       "cell_index": 8
      }
     ]
    }
   },
   "version": "1.2.0"
  }
 },
 "nbformat": 4,
 "nbformat_minor": 2
}
