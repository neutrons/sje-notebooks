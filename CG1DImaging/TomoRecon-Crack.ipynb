{
 "cells": [
  {
   "cell_type": "markdown",
   "metadata": {},
   "source": [
    "## -1. Instructions:\n",
    "* Run the cells below sequentially\n",
    "* Click a cell to edit\n",
    "* ** Shift-enter ** to run a cell"
   ]
  },
  {
   "cell_type": "markdown",
   "metadata": {},
   "source": [
    "## 0. Import useful tools"
   ]
  },
  {
   "cell_type": "code",
   "execution_count": null,
   "metadata": {
    "collapsed": false
   },
   "outputs": [],
   "source": [
    "# Be patient, this may take a little while\n",
    "# If you see \"In [*]\" to the left of this cell, it means it is busy computing, just wait a bit longer\n",
    "import os, imars3d, numpy as np"
   ]
  },
  {
   "cell_type": "code",
   "execution_count": null,
   "metadata": {
    "collapsed": false
   },
   "outputs": [],
   "source": [
    "# Be patient, this may take a little while too\n",
    "# %matplotlib notebook\n",
    "%matplotlib inline\n",
    "from matplotlib import pyplot as plt"
   ]
  },
  {
   "cell_type": "markdown",
   "metadata": {},
   "source": [
    "## 1. Define data paths\n",
    "** Modify these paths to suit your need **"
   ]
  },
  {
   "cell_type": "code",
   "execution_count": null,
   "metadata": {
    "collapsed": true
   },
   "outputs": [],
   "source": [
    "# use your experiment IPTS number\n",
    "iptsdir = \"/HFIR/CG1DImaging/IPTS-17413/\""
   ]
  },
  {
   "cell_type": "code",
   "execution_count": null,
   "metadata": {
    "collapsed": true
   },
   "outputs": [],
   "source": [
    "# path to the directory with ct, ob, and df data files or subdirs\n",
    "datadir = os.path.join(iptsdir,\"raw/\")"
   ]
  },
  {
   "cell_type": "code",
   "execution_count": null,
   "metadata": {
    "collapsed": false
   },
   "outputs": [],
   "source": [
    "# temporary working directory. \n",
    "# !!! should be /SNSlocal2/<yourusername>/<experimentname> !!!\n",
    "workdir = \"/SNSlocal2/lj7/crack3-try1\"\n",
    "# !rm -rf {workdir}\n",
    "!mkdir -p {workdir}"
   ]
  },
  {
   "cell_type": "code",
   "execution_count": null,
   "metadata": {
    "collapsed": true
   },
   "outputs": [],
   "source": [
    "# path to save output results (reconstructed slices)\n",
    "outdir = os.path.join(iptsdir, \"shared/processed_data/crack3-try1\")"
   ]
  },
  {
   "cell_type": "markdown",
   "metadata": {},
   "source": [
    "## 2. Create CT data object"
   ]
  },
  {
   "cell_type": "code",
   "execution_count": null,
   "metadata": {
    "collapsed": false
   },
   "outputs": [],
   "source": [
    "# check CT scan data files.\n",
    "# You will need to make sure the\n",
    "# \"CT_identifier\" string you choose is correct.\n",
    "# In this example, the CT_identifier is \"Cracked_3_CT\"\n",
    "!ls {datadir}/ct_scans/Cracked_3/*Cracked_3_CT* | sed -n \"1,6p\""
   ]
  },
  {
   "cell_type": "code",
   "execution_count": null,
   "metadata": {
    "collapsed": false
   },
   "outputs": [],
   "source": [
    "# check OB data files.\n",
    "# You will need to make sure the\n",
    "# \"ob_identifier\" string you choose is correct.\n",
    "# In this example, the ob_identifier is \"Cracked_3\"\n",
    "!ls {datadir}/ob/*Cracked_3*"
   ]
  },
  {
   "cell_type": "code",
   "execution_count": null,
   "metadata": {
    "collapsed": false
   },
   "outputs": [],
   "source": [
    "# check DF data files\n",
    "# You will need to make sure the\n",
    "# \"df_identifier\" string you choose is correct.\n",
    "# In this example, the df_identifier is \"Cracked_2_DF\"\n",
    "!ls {datadir}/df/*Cracked_2_DF*"
   ]
  },
  {
   "cell_type": "code",
   "execution_count": null,
   "metadata": {
    "collapsed": true
   },
   "outputs": [],
   "source": [
    "# import the CT class\n",
    "from imars3d.CT import CT"
   ]
  },
  {
   "cell_type": "code",
   "execution_count": null,
   "metadata": {
    "collapsed": true
   },
   "outputs": [],
   "source": [
    "# ask for help\n",
    "CT?"
   ]
  },
  {
   "cell_type": "code",
   "execution_count": null,
   "metadata": {
    "collapsed": false
   },
   "outputs": [],
   "source": [
    "# Once the filename patterns are confirmed, \n",
    "# you can create the ct object.\n",
    "ct = CT(datadir, \n",
    "        CT_subdir=\"ct_scans/Cracked_3\", CT_identifier=\"Cracked_3_CT\", \n",
    "        workdir=workdir, outdir=outdir,\n",
    "        ob_identifier=\"Cracked_3\", df_identifier=\"Cracked_2_DF\"\n",
    "       )"
   ]
  },
  {
   "cell_type": "markdown",
   "metadata": {},
   "source": [
    "## 3. Find region of interests"
   ]
  },
  {
   "cell_type": "code",
   "execution_count": null,
   "metadata": {
    "collapsed": true
   },
   "outputs": [],
   "source": [
    "# compute an average image in order to obtain ROI\n",
    "# it may take a minute\n",
    "ave = ct.estimateAverage(ct.ct_series)"
   ]
  },
  {
   "cell_type": "code",
   "execution_count": null,
   "metadata": {
    "collapsed": false
   },
   "outputs": [],
   "source": [
    "# plot the average image. it may take a few seconds\n",
    "plt.pcolormesh(ave, cmap=\"gray\")\n",
    "plt.colorbar()"
   ]
  },
  {
   "cell_type": "markdown",
   "metadata": {},
   "source": [
    "** For this sample, we can define the ROI as xmin=750, ymin=0, xmax=1300, ymax=2047 **"
   ]
  },
  {
   "cell_type": "markdown",
   "metadata": {},
   "source": [
    "## 4. Run reconstruction"
   ]
  },
  {
   "cell_type": "code",
   "execution_count": null,
   "metadata": {
    "collapsed": false,
    "scrolled": true
   },
   "outputs": [],
   "source": [
    "# Now run the reconstruction. \n",
    "# Make sure to modify the crop_window and use the numbers obtained from above\n",
    "# This will take 10-60 minutes.\n",
    "ct.recon(crop_window=(750,0,1300,2047))"
   ]
  },
  {
   "cell_type": "markdown",
   "metadata": {},
   "source": [
    "** Check output **"
   ]
  },
  {
   "cell_type": "code",
   "execution_count": null,
   "metadata": {
    "collapsed": false
   },
   "outputs": [],
   "source": [
    "# recon output\n",
    "!ls -l {outdir} |head -n 10"
   ]
  },
  {
   "cell_type": "code",
   "execution_count": null,
   "metadata": {
    "collapsed": false
   },
   "outputs": [],
   "source": [
    "# temporary results\n",
    "!ls -l {workdir}"
   ]
  },
  {
   "cell_type": "code",
   "execution_count": null,
   "metadata": {
    "collapsed": false
   },
   "outputs": [],
   "source": [
    "# sinograms\n",
    "!ls {workdir}/sinogram | head -n 10"
   ]
  },
  {
   "cell_type": "markdown",
   "metadata": {},
   "source": [
    "** Visualization **"
   ]
  },
  {
   "cell_type": "markdown",
   "metadata": {},
   "source": [
    "ImageJ. To start, open a terminal and type\n",
    "```\n",
    "$ /HFIR/CG1DImaging/shared/Fiji.app/ImageJ-linux64\n",
    "```"
   ]
  }
 ],
 "metadata": {
  "kernelspec": {
   "display_name": "python2-cg1d at jnrk-cg1d-analysis2",
   "language": "python",
   "name": "jnrk-cg1d-analysis2-python2-cg1d"
  },
  "language_info": {
   "codemirror_mode": {
    "name": "ipython",
    "version": 2
   },
   "file_extension": ".py",
   "mimetype": "text/x-python",
   "name": "python",
   "nbconvert_exporter": "python",
   "pygments_lexer": "ipython2",
   "version": "2.7.12"
  }
 },
 "nbformat": 4,
 "nbformat_minor": 0
}
