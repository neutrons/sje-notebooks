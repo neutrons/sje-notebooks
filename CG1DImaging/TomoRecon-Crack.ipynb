{
 "cells": [
  {
   "cell_type": "markdown",
   "metadata": {},
   "source": [
    "## Quick Interface Instructions:\n",
    "* Run the cells below sequentially\n",
    "* Click a cell to edit\n",
    "* ** Shift-enter ** to run a cell"
   ]
  },
  {
   "cell_type": "markdown",
   "metadata": {},
   "source": [
    "## Import useful tools"
   ]
  },
  {
   "cell_type": "code",
   "execution_count": null,
   "metadata": {
    "collapsed": false
   },
   "outputs": [],
   "source": [
    "# Be patient, this may take a little while\n",
    "# If you see \"In [*]\" to the left of this cell, it means it is busy computing, just wait a bit longer\n",
    "import os, imars3d, numpy as np, glob"
   ]
  },
  {
   "cell_type": "code",
   "execution_count": null,
   "metadata": {
    "collapsed": false
   },
   "outputs": [],
   "source": [
    "# Be patient, this may take a little while too\n",
    "# %matplotlib notebook\n",
    "%matplotlib inline\n",
    "from matplotlib import pyplot as plt"
   ]
  },
  {
   "cell_type": "code",
   "execution_count": null,
   "metadata": {
    "collapsed": true
   },
   "outputs": [],
   "source": [
    "import ipywidgets as ipyw\n",
    "from IPython.display import display"
   ]
  },
  {
   "cell_type": "markdown",
   "metadata": {},
   "source": [
    "## Define data paths\n",
    "* In this section we gather information and set up some directories to save the final reconstructed data, as well as some intermediate results. \n",
    "* The information needed are \n",
    " - IPTS number\n",
    " - sample name"
   ]
  },
  {
   "cell_type": "markdown",
   "metadata": {},
   "source": [
    "** Please input the experiment IPTS number below **\n",
    "\n",
    "* Execute the cell, it will prompt you to enter the IPTS number\n",
    "* In this example, it should be 17413"
   ]
  },
  {
   "cell_type": "code",
   "execution_count": null,
   "metadata": {
    "collapsed": false
   },
   "outputs": [],
   "source": [
    "ipts = raw_input()\n",
    "ipts = int(ipts)"
   ]
  },
  {
   "cell_type": "markdown",
   "metadata": {},
   "source": [
    "** Please input the name of the sample **\n",
    "\n",
    "In this example, it should be \"crack3\""
   ]
  },
  {
   "cell_type": "code",
   "execution_count": null,
   "metadata": {
    "collapsed": false
   },
   "outputs": [],
   "source": [
    "sample = raw_input()"
   ]
  },
  {
   "cell_type": "markdown",
   "metadata": {},
   "source": [
    "** Input data directories **"
   ]
  },
  {
   "cell_type": "code",
   "execution_count": null,
   "metadata": {
    "collapsed": true
   },
   "outputs": [],
   "source": [
    "# use your experiment IPTS number\n",
    "iptsdir = \"/HFIR/CG1DImaging/IPTS-%s/\" % ipts\n",
    "\n",
    "# path to the directory with ct, ob, and df data files or subdirs\n",
    "datadir = os.path.join(iptsdir,\"raw/\")"
   ]
  },
  {
   "cell_type": "markdown",
   "metadata": {},
   "source": [
    "** Output dir for intermediater results **"
   ]
  },
  {
   "cell_type": "code",
   "execution_count": null,
   "metadata": {
    "collapsed": false
   },
   "outputs": [],
   "source": [
    "# temporary working directory. \n",
    "# !!! should be /SNSlocal2/<yourusername>/<experimentname> !!!\n",
    "import getpass\n",
    "username = getpass.getuser()\n",
    "workdir = \"/SNSlocal2/%s/%s\" % (username, sample)\n",
    "# !rm -rf {workdir}\n",
    "if os.path.exists(workdir):\n",
    "    print \"%s already exists\" % workdir\n",
    "    clean = raw_input(\"remove it?\")\n",
    "    if clean.lower() in ['y', 'yes']:\n",
    "        !rm -rf {workdir}\n",
    "else:\n",
    "    !mkdir -p {workdir}\n",
    "print \"workdir=\", workdir"
   ]
  },
  {
   "cell_type": "markdown",
   "metadata": {},
   "source": [
    "** Output dir for final results **"
   ]
  },
  {
   "cell_type": "code",
   "execution_count": null,
   "metadata": {
    "collapsed": false
   },
   "outputs": [],
   "source": [
    "# path to save output results (reconstructed slices)\n",
    "outdir = os.path.join(iptsdir, \"shared/processed_data/%s\" % sample)\n",
    "if os.path.exists(outdir):\n",
    "    print \"%s already exists\" % outdir\n",
    "    outdir = raw_input(\"Please input a path manually. The path should not exist yet: \")\n",
    "    outdir = os.path.abspath(outdir)\n",
    "print 'outdir=', outdir"
   ]
  },
  {
   "cell_type": "markdown",
   "metadata": {},
   "source": [
    "## Information about the CT scan"
   ]
  },
  {
   "cell_type": "code",
   "execution_count": null,
   "metadata": {
    "collapsed": true
   },
   "outputs": [],
   "source": [
    "ct_info = {}"
   ]
  },
  {
   "cell_type": "markdown",
   "metadata": {},
   "source": [
    "### CT subdirectory\n",
    "* CT scan files are stored under one of the subdirectories under IPTS-#####/raw/ct_scans\n",
    "* Please choose the subdirectory that you want to reconstruct"
   ]
  },
  {
   "cell_type": "code",
   "execution_count": null,
   "metadata": {
    "collapsed": false
   },
   "outputs": [],
   "source": [
    "ct_scan_root = os.path.join(datadir, 'ct_scans')\n",
    "ct_scan_subdirs = [d for d in os.listdir(ct_scan_root) if os.path.isdir(os.path.join(ct_scan_root, d))]\n",
    "assert (ct_scan_subdirs), \"No subdir in ct_scans\"\n",
    "\n",
    "ct_scan_select = ipyw.Select(options=ct_scan_subdirs, value=ct_scan_subdirs[0], description=\"CT scans\")\n",
    "button = ipyw.Button(description='Select')\n",
    "def on_select(s):\n",
    "    ct_info['ct_subdir'] = ct_scan_select.value\n",
    "    print \"selected %s\" % ct_scan_select.value\n",
    "button.on_click(on_select)\n",
    "display(ct_scan_select, button)"
   ]
  },
  {
   "cell_type": "markdown",
   "metadata": {},
   "source": [
    "### CT filename signature\n",
    "The CT filenames have a common substring that can be used as a signature.\n",
    "In the following cell this signature will be calculated. \n",
    "Please confirm it is the correct signature so that all relevant CT projection\n",
    "files will be included in the reconstruction."
   ]
  },
  {
   "cell_type": "code",
   "execution_count": null,
   "metadata": {
    "collapsed": false
   },
   "outputs": [],
   "source": [
    "# all files\n",
    "ct_dir = os.path.join(ct_scan_root, ct_info['ct_subdir'])\n",
    "ct_files = os.listdir(ct_dir)\n",
    "# assume all files start with date like 20160918\n",
    "files_without_dates = [f[9:] for f in ct_files]\n",
    "# find common prefix\n",
    "ct_sig0 = os.path.commonprefix(files_without_dates).strip()\n",
    "ct_sig = '_'.join(ct_sig0.split('_')[:-2])\n",
    "print \"* Example CT scan filenames:\"\n",
    "for f in ct_files[:10]:\n",
    "    print '  -', f\n",
    "print\n",
    "print \"* Found signature string for CT to be %r\" % ct_sig"
   ]
  },
  {
   "cell_type": "code",
   "execution_count": null,
   "metadata": {
    "collapsed": true
   },
   "outputs": [],
   "source": [
    "# Please verify that the signature string computed above is correct with the example filenames.\n",
    "# If it is incorrect, please manually set the value of ct_sig\"\n",
    "\n",
    "# ct_sig = \"XXXX\""
   ]
  },
  {
   "cell_type": "markdown",
   "metadata": {},
   "source": [
    "### Signature of Open beam filenames\n",
    "* All open beam files are under IPTS-#####/raw/ob.\n",
    "* Only some OB files are for this sample. Those files have a common signature. Please find that signature and assign it to variable \"ob_sig\""
   ]
  },
  {
   "cell_type": "code",
   "execution_count": null,
   "metadata": {
    "collapsed": true
   },
   "outputs": [],
   "source": [
    "ob_dir = os.path.join(datadir, 'ob')"
   ]
  },
  {
   "cell_type": "code",
   "execution_count": null,
   "metadata": {
    "collapsed": false,
    "scrolled": true
   },
   "outputs": [],
   "source": [
    "# the output of this cell shows all OB files\n",
    "!ls {ob_dir}"
   ]
  },
  {
   "cell_type": "code",
   "execution_count": null,
   "metadata": {
    "collapsed": true
   },
   "outputs": [],
   "source": [
    "# find the signature and assign it to ob_sig\n",
    "# for this example, it is Cracked_3 \n",
    "ob_sig = \"Cracked_3\""
   ]
  },
  {
   "cell_type": "code",
   "execution_count": null,
   "metadata": {
    "collapsed": false
   },
   "outputs": [],
   "source": [
    "# print the OB files with the given signature\n",
    "ob_files = [os.path.basename(f) for f in glob.glob(os.path.join(ob_dir, '*%s*.tiff' % ob_sig))]\n",
    "for f in ob_files: print f"
   ]
  },
  {
   "cell_type": "markdown",
   "metadata": {},
   "source": [
    "### Signature of dark field filenames\n",
    "* All dark field files are under IPTS-#####/raw/df.\n",
    "* Only some DF files are for this sample. Those files have a common signature. Please find that signature and assign it to variable \"df_sig\""
   ]
  },
  {
   "cell_type": "code",
   "execution_count": null,
   "metadata": {
    "collapsed": true
   },
   "outputs": [],
   "source": [
    "df_dir = os.path.join(datadir, 'df')"
   ]
  },
  {
   "cell_type": "code",
   "execution_count": null,
   "metadata": {
    "collapsed": false
   },
   "outputs": [],
   "source": [
    "# the output of this cell shows all DF files\n",
    "!ls {df_dir}"
   ]
  },
  {
   "cell_type": "code",
   "execution_count": null,
   "metadata": {
    "collapsed": true
   },
   "outputs": [],
   "source": [
    "# find the signature and assign it to df_sig\n",
    "# for this example, it is Cracked_2_DF\n",
    "df_sig = \"Cracked_2_DF\""
   ]
  },
  {
   "cell_type": "code",
   "execution_count": null,
   "metadata": {
    "collapsed": false
   },
   "outputs": [],
   "source": [
    "# print the DF files with the given signature\n",
    "df_files = [os.path.basename(f) for f in glob.glob(os.path.join(df_dir, '*%s*.tiff' % df_sig))]\n",
    "for f in df_files: print f"
   ]
  },
  {
   "cell_type": "markdown",
   "metadata": {},
   "source": [
    "## Create CT data object"
   ]
  },
  {
   "cell_type": "code",
   "execution_count": null,
   "metadata": {
    "collapsed": true
   },
   "outputs": [],
   "source": [
    "# import the CT class\n",
    "from imars3d.CT import CT"
   ]
  },
  {
   "cell_type": "code",
   "execution_count": null,
   "metadata": {
    "collapsed": true
   },
   "outputs": [],
   "source": [
    "# ask for help\n",
    "CT?"
   ]
  },
  {
   "cell_type": "code",
   "execution_count": null,
   "metadata": {
    "collapsed": false
   },
   "outputs": [],
   "source": [
    "# Once the filename patterns are confirmed, \n",
    "# you can create the ct object.\n",
    "ct = CT(datadir, \n",
    "        CT_subdir=\"ct_scans/%s\" % ct_info['ct_subdir'], CT_identifier=ct_sig, \n",
    "        workdir=workdir, outdir=outdir,\n",
    "        ob_identifier=ob_sig, df_identifier=df_sig\n",
    "       )"
   ]
  },
  {
   "cell_type": "markdown",
   "metadata": {},
   "source": [
    "## Find region of interests"
   ]
  },
  {
   "cell_type": "code",
   "execution_count": null,
   "metadata": {
    "collapsed": true
   },
   "outputs": [],
   "source": [
    "# compute an average image in order to obtain ROI\n",
    "# it may take a minute\n",
    "ave = ct.estimateAverage(ct.ct_series)"
   ]
  },
  {
   "cell_type": "code",
   "execution_count": null,
   "metadata": {
    "collapsed": false
   },
   "outputs": [],
   "source": [
    "# plot the average image. it may take a few seconds\n",
    "plt.pcolormesh(ave, cmap=\"gray\")\n",
    "plt.colorbar()"
   ]
  },
  {
   "cell_type": "markdown",
   "metadata": {},
   "source": [
    "** For this sample, we can define the ROI as xmin=750, ymin=0, xmax=1300, ymax=2047 **"
   ]
  },
  {
   "cell_type": "markdown",
   "metadata": {},
   "source": [
    "## Run reconstruction"
   ]
  },
  {
   "cell_type": "code",
   "execution_count": null,
   "metadata": {
    "collapsed": false,
    "scrolled": true
   },
   "outputs": [],
   "source": [
    "%%time\n",
    "# Now run the reconstruction. \n",
    "# Make sure to modify the crop_window and use the numbers obtained from above\n",
    "# This will take 10-60 minutes.\n",
    "ct.recon(crop_window=(750,0,1300,2047))"
   ]
  },
  {
   "cell_type": "markdown",
   "metadata": {},
   "source": [
    "** Check output **"
   ]
  },
  {
   "cell_type": "code",
   "execution_count": null,
   "metadata": {
    "collapsed": false
   },
   "outputs": [],
   "source": [
    "print outdir"
   ]
  },
  {
   "cell_type": "code",
   "execution_count": null,
   "metadata": {
    "collapsed": false
   },
   "outputs": [],
   "source": [
    "# recon output\n",
    "!ls -l {outdir} |head -n 10"
   ]
  },
  {
   "cell_type": "code",
   "execution_count": null,
   "metadata": {
    "collapsed": false
   },
   "outputs": [],
   "source": [
    "# temporary results\n",
    "!ls -l {workdir}"
   ]
  },
  {
   "cell_type": "code",
   "execution_count": null,
   "metadata": {
    "collapsed": false
   },
   "outputs": [],
   "source": [
    "# sinograms\n",
    "!ls {workdir}/sinogram | head -n 10"
   ]
  },
  {
   "cell_type": "markdown",
   "metadata": {},
   "source": [
    "** Visualization **"
   ]
  },
  {
   "cell_type": "markdown",
   "metadata": {},
   "source": [
    "ImageJ. To start, open a terminal and type\n",
    "```\n",
    "$ /HFIR/CG1DImaging/shared/Fiji.app/ImageJ-linux64\n",
    "```"
   ]
  }
 ],
 "metadata": {
  "kernelspec": {
   "display_name": "python2-cg1d at jnrk-cg1d-analysis2",
   "language": "python",
   "name": "jnrk-cg1d-analysis2-python2-cg1d"
  },
  "language_info": {
   "codemirror_mode": {
    "name": "ipython",
    "version": 2
   },
   "file_extension": ".py",
   "mimetype": "text/x-python",
   "name": "python",
   "nbconvert_exporter": "python",
   "pygments_lexer": "ipython2",
   "version": "2.7.12"
  },
  "widgets": {
   "state": {
    "06a2b414932f4feabed0ffd4125b89db": {
     "views": [
      {
       "cell_index": 19
      }
     ]
    },
    "08b3c2b8f190415393befe446874aa71": {
     "views": [
      {
       "cell_index": 25
      }
     ]
    },
    "0ffb0900f74a42d59a836b7b7ad2d449": {
     "views": [
      {
       "cell_index": 18
      }
     ]
    },
    "4224a9d3dbcb4bf7b75af4359518865c": {
     "views": [
      {
       "cell_index": 19
      }
     ]
    },
    "4a245443996e439c972f21b97da0b2ac": {
     "views": [
      {
       "cell_index": 25
      }
     ]
    },
    "543ab992ce9a44d5b6fcc17fc62466d8": {
     "views": [
      {
       "cell_index": 25
      }
     ]
    },
    "69a1a82cd6c64d588a9e6787bffbb5d6": {
     "views": [
      {
       "cell_index": 25
      }
     ]
    },
    "6bef4a94f73f41a89978b61da2ca62ed": {
     "views": [
      {
       "cell_index": 25
      }
     ]
    },
    "bf314a5974ab42718bba5c4f603787df": {
     "views": [
      {
       "cell_index": 25
      }
     ]
    },
    "c7fe54068e84478f881607ef8b674ad2": {
     "views": [
      {
       "cell_index": 19
      }
     ]
    },
    "e787c0c62f08413a86218e67494cc311": {
     "views": [
      {
       "cell_index": 19
      }
     ]
    },
    "ede2b35e71994bce92ebf4661465f998": {
     "views": [
      {
       "cell_index": 25
      }
     ]
    }
   },
   "version": "1.2.0"
  }
 },
 "nbformat": 4,
 "nbformat_minor": 0
}
