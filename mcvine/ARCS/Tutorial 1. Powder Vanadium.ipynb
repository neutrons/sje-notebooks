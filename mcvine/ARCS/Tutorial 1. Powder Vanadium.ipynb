{
 "cells": [
  {
   "cell_type": "markdown",
   "metadata": {},
   "source": [
    "# Simulation of ARCS powder experiment"
   ]
  },
  {
   "cell_type": "code",
   "execution_count": 1,
   "metadata": {
    "collapsed": true
   },
   "outputs": [],
   "source": [
    "# some goodies\n",
    "%matplotlib notebook\n",
    "from matplotlib import pyplot as plt\n",
    "import numpy as np, histogram.hdf as hh, histogram as H"
   ]
  },
  {
   "cell_type": "markdown",
   "metadata": {},
   "source": [
    "## Create workflow"
   ]
  },
  {
   "cell_type": "code",
   "execution_count": 2,
   "metadata": {
    "collapsed": false
   },
   "outputs": [
    {
     "name": "stdout",
     "output_type": "stream",
     "text": [
      "/SNS/users/lj7/simulations/ARCS/powder-demo2\n"
     ]
    }
   ],
   "source": [
    "# Change me\n",
    "workdir = \"/SNS/users/lj7/simulations/ARCS/powder-demo2\"\n",
    "!mkdir -p {workdir}\n",
    "%cd {workdir}"
   ]
  },
  {
   "cell_type": "code",
   "execution_count": 4,
   "metadata": {
    "collapsed": false
   },
   "outputs": [
    {
     "name": "stdout",
     "output_type": "stream",
     "text": [
      "/SNS/users/lj7/software/miniconda2/envs/mcvine/lib/python2.7/site-packages/mcvine/deployment_info.py:41: UserWarning: Neither environment variable MCVINE_DIR nor DANSE_DIR was defined. Assumed that it is /SNS/users/lj7/software/miniconda2/envs/mcvine.\r\n",
      "  warnings.warn(msg)\r\n"
     ]
    }
   ],
   "source": [
    "!mcvine workflow powder --instrument=ARCS --sample=V --workdir=mysim"
   ]
  },
  {
   "cell_type": "code",
   "execution_count": 5,
   "metadata": {
    "collapsed": false
   },
   "outputs": [
    {
     "name": "stdout",
     "output_type": "stream",
     "text": [
      "beam\t    debug-scatter  reduce2iqe\t   scatter  sss.pml\r\n",
      "create-nxs  Makefile\t   sampleassembly  sss\t    test-scatter\r\n"
     ]
    }
   ],
   "source": [
    "!ls mysim/"
   ]
  },
  {
   "cell_type": "markdown",
   "metadata": {},
   "source": [
    "## Beam simulation"
   ]
  },
  {
   "cell_type": "code",
   "execution_count": 10,
   "metadata": {
    "collapsed": false
   },
   "outputs": [
    {
     "name": "stdout",
     "output_type": "stream",
     "text": [
      "/SNS/users/lj7/simulations/ARCS/powder-demo2/mysim/beam\n"
     ]
    }
   ],
   "source": [
    "# change to beam sim directory\n",
    "%cd {workdir}/mysim/beam"
   ]
  },
  {
   "cell_type": "code",
   "execution_count": 11,
   "metadata": {
    "collapsed": false
   },
   "outputs": [
    {
     "name": "stdout",
     "output_type": "stream",
     "text": [
      "#!/usr/bin/env bash\r\n",
      "\r\n",
      "mcvine instruments arcs beam --keep-in-cache --use-cache -E=70 --ncount=1e6"
     ]
    }
   ],
   "source": [
    "# show the simulation script\n",
    "!cat run-beam.sh"
   ]
  },
  {
   "cell_type": "code",
   "execution_count": 14,
   "metadata": {
    "collapsed": true
   },
   "outputs": [],
   "source": [
    "# modify the simulation script (desired incident energy, neutron count)"
   ]
  },
  {
   "cell_type": "code",
   "execution_count": 15,
   "metadata": {
    "collapsed": false
   },
   "outputs": [
    {
     "name": "stdout",
     "output_type": "stream",
     "text": [
      "Overwriting run-beam.sh\n"
     ]
    }
   ],
   "source": [
    "%%file run-beam.sh\n",
    "#!/usr/bin/env bash\n",
    "\n",
    "mcvine instruments arcs beam --keep-in-cache --use-cache -E=70 --ncount=1e6"
   ]
  },
  {
   "cell_type": "code",
   "execution_count": 16,
   "metadata": {
    "collapsed": false
   },
   "outputs": [
    {
     "name": "stdout",
     "output_type": "stream",
     "text": [
      "#!/usr/bin/env bash\r\n",
      "\r\n",
      "mcvine instruments arcs beam --keep-in-cache --use-cache -E=70 --ncount=1e6"
     ]
    }
   ],
   "source": [
    "# show the simulation script again\n",
    "!cat run-beam.sh"
   ]
  },
  {
   "cell_type": "code",
   "execution_count": 17,
   "metadata": {
    "collapsed": true
   },
   "outputs": [
    {
     "name": "stdout",
     "output_type": "stream",
     "text": [
      "/SNS/users/lj7/software/miniconda2/envs/mcvine/lib/python2.7/site-packages/mcvine/deployment_info.py:41: UserWarning: Neither environment variable MCVINE_DIR nor DANSE_DIR was defined. Assumed that it is /SNS/users/lj7/software/miniconda2/envs/mcvine.\n",
      "  warnings.warn(msg)\n",
      "Generating pml for arcs beam instrument...\n",
      " -> running mcvine instruments arcs m2s --with_moderator_angling=True --E=70.0 --T0_nu=60.0 --emission_time=-1.0 --fermi_nu=600.0 --fermi_chopper=100-1.5-SMI --- -dump-pml=yes -h...\n",
      "moderator emission time for neutron of energy 70.0 is 6.1060677979e-07\n",
      "moderator emission time for neutron of energy 70.0 is 6.1060677979e-07\n",
      "/SNS/users/lj7/software/miniconda2/envs/mcvine/lib/python2.7/site-packages/mcni/pyre_support/MpiApplication.py:87: UserWarning: no point to run in parallel mode when using just one node\n",
      "  warnings.warn(\"no point to run in parallel mode when using just one node\")\n",
      "------------------------------------------------------------\n",
      "* Instrument simulation application 'arcs_moderator2sample'\n",
      "------------------------------------------------------------\n",
      "* Sequence of components:\n",
      "   [moderator(sources/SNS_source_r1)] --> [core_vessel_insert(optics/Guide_channeled)] --> [shutter_guide(optics/Guide_channeled)] --> [guide111(optics/Guide_channeled)] --> [guide112(optics/Guide_channeled)] --> [guide113(optics/Guide_channeled)] --> [guide121(optics/Guide_channeled)] --> [guide122(optics/Guide_channeled)] --> [guide123(optics/Guide_channeled)] --> [guide131(optics/Guide_channeled)] --> [guide132(optics/Guide_channeled)] --> [guide133(optics/Guide_channeled)] --> [t0chopper(optics/Vertical_T0)] --> [guide211(optics/Guide_channeled)] --> [guide212(optics/Guide_channeled)] --> [guide213(optics/Guide_channeled)] --> [guide214(optics/Guide_channeled)] --> [guide215(optics/Guide_channeled)] --> [fermichopper(fermichopper-100-1.5-SMI)] --> [monitor1(monitors/TOF_monitor2)] --> [guide311(optics/Guide_channeled)] --> [guide411(optics/Guide_channeled)] --> [guide412(optics/Guide_channeled)] --> [guide511(optics/Dummy)] --> [monitor(monitors/NeutronToStorage)] --> [monitor2(monitors/TOF_monitor2)]\n",
      "------------------------------------------------------------\n",
      "* Command:\n",
      " $ arcs_moderator2sample  \\\n",
      "  --dump-instrument=<dump-instrument> \\\n",
      "  --output-dir=<output directory> \\\n",
      "  --ncount=<number of total neutrons generated by source> \\\n",
      "  --launcher=<launcher> \\\n",
      "  --mode=<mode> \\\n",
      "  --tracer=<tracer> \\\n",
      "  --dumpconfiguration=<If set, dump configuration to a pml file> \\\n",
      "  --dumpconfiguration-output=<Output file path of dumped configuration file (pml)> \\\n",
      "  --dump-registry=<if true, dump the pyre registry to a pkl file> \\\n",
      "  --multiple-scattering=<if true, enable multiple scattering> \\\n",
      "  --buffer_size=<size of neutron buffer. This is for optimizing the preformance of the simulation. When it is too large, it will occupy too much memory. When it is too small, the simulation will be slow. If you are not sure, please just leave it unset so that the default value will be used.> \\\n",
      "  --dump-pml=<filename of output configuration (pml) file. if empty, ignored. if the given value is 'yes' or 'on', a default filename will be used.> \\\n",
      "  --overwrite-datafiles=<overwrite data files?> \\\n",
      "  --geometer.moderator=<position>,<orientation> \\\n",
      "  --geometer.core_vessel_insert=<position>,<orientation> \\\n",
      "  --geometer.shutter_guide=<position>,<orientation> \\\n",
      "  --geometer.guide111=<position>,<orientation> \\\n",
      "  --geometer.guide112=<position>,<orientation> \\\n",
      "  --geometer.guide113=<position>,<orientation> \\\n",
      "  --geometer.guide121=<position>,<orientation> \\\n",
      "  --geometer.guide122=<position>,<orientation> \\\n",
      "  --geometer.guide123=<position>,<orientation> \\\n",
      "  --geometer.guide131=<position>,<orientation> \\\n",
      "  --geometer.guide132=<position>,<orientation> \\\n",
      "  --geometer.guide133=<position>,<orientation> \\\n",
      "  --geometer.t0chopper=<position>,<orientation> \\\n",
      "  --geometer.guide211=<position>,<orientation> \\\n",
      "  --geometer.guide212=<position>,<orientation> \\\n",
      "  --geometer.guide213=<position>,<orientation> \\\n",
      "  --geometer.guide214=<position>,<orientation> \\\n",
      "  --geometer.guide215=<position>,<orientation> \\\n",
      "  --geometer.fermichopper=<position>,<orientation> \\\n",
      "  --geometer.monitor1=<position>,<orientation> \\\n",
      "  --geometer.guide311=<position>,<orientation> \\\n",
      "  --geometer.guide411=<position>,<orientation> \\\n",
      "  --geometer.guide412=<position>,<orientation> \\\n",
      "  --geometer.guide511=<position>,<orientation> \\\n",
      "  --geometer.monitor=<position>,<orientation> \\\n",
      "  --geometer.monitor2=<position>,<orientation> \\\n",
      "  --moderator=<component type> \\\n",
      "  --core_vessel_insert=<component type> \\\n",
      "  --shutter_guide=<component type> \\\n",
      "  --guide111=<component type> \\\n",
      "  --guide112=<component type> \\\n",
      "  --guide113=<component type> \\\n",
      "  --guide121=<component type> \\\n",
      "  --guide122=<component type> \\\n",
      "  --guide123=<component type> \\\n",
      "  --guide131=<component type> \\\n",
      "  --guide132=<component type> \\\n",
      "  --guide133=<component type> \\\n",
      "  --t0chopper=<component type> \\\n",
      "  --guide211=<component type> \\\n",
      "  --guide212=<component type> \\\n",
      "  --guide213=<component type> \\\n",
      "  --guide214=<component type> \\\n",
      "  --guide215=<component type> \\\n",
      "  --fermichopper=<component type> \\\n",
      "  --monitor1=<component type> \\\n",
      "  --guide311=<component type> \\\n",
      "  --guide411=<component type> \\\n",
      "  --guide412=<component type> \\\n",
      "  --guide511=<component type> \\\n",
      "  --monitor=<component type> \\\n",
      "  --monitor2=<component type> \\\n",
      "  --moderator.yh=<(m)   Height of focusing rectangle> \\\n",
      "  --moderator.dist=<(m)   Distance from source to the focusing rectangle> \\\n",
      "  --moderator.Emin=<(meV)   minimum energy of neutron to generate> \\\n",
      "  --moderator.Emax=<(meV)   maximum energy of neutron to generate> \\\n",
      "  --moderator.S_filename=<Filename of source data> \\\n",
      "  --moderator.width=<(m)   width of moderator> \\\n",
      "  --moderator.angling=<(deg) rotation angle of moderator. Ref. pg 300, Windsor. Positive means the moderator is rotated counter-clockwise looking from above> \\\n",
      "  --moderator.height=<(m)   height of moderator> \\\n",
      "  --moderator.xw=<(m)   Width of focusing rectangle> \\\n",
      "  --core_vessel_insert.R0=<(1)    Low-angle reflectivity> \\\n",
      "  --core_vessel_insert.alphay=<(AA)   Slope of reflectivity for top and bottom mirrors> \\\n",
      "  --core_vessel_insert.Qcx=<(AA-1) Critical scattering vector for left and right vertical> \\\n",
      "  --core_vessel_insert.Qcy=<(AA-1) Critical scattering vector for top and bottom mirrors> \\\n",
      "  --core_vessel_insert.h1=<(m)    Height at the guide entry> \\\n",
      "  --core_vessel_insert.l=<(m)    Length of guide> \\\n",
      "  --core_vessel_insert.d=<(m)    Thickness of subdividing walls> \\\n",
      "  --core_vessel_insert.W=<(AA-1) Width of supermirror cut-off for all mirrors> \\\n",
      "  --core_vessel_insert.h2=<(m)    Height at the guide exit> \\\n",
      "  --core_vessel_insert.w1=<(m)    Width at the guide entry> \\\n",
      "  --core_vessel_insert.mx=<(1)    m-value of material for left and right vertical mirrors> \\\n",
      "  --core_vessel_insert.k=<(1)    Number of channels in the guide (>= 1)> \\\n",
      "  --core_vessel_insert.my=<(1)    m-value of material for top and bottom mirrors. Zero> \\\n",
      "  --core_vessel_insert.alphax=<(AA)   Slope of reflectivity for left and right vertical> \\\n",
      "  --core_vessel_insert.w2=<(m)    Width at the guide exit> \\\n",
      "  --shutter_guide.R0=<(1)    Low-angle reflectivity> \\\n",
      "  --shutter_guide.alphay=<(AA)   Slope of reflectivity for top and bottom mirrors> \\\n",
      "  --shutter_guide.Qcx=<(AA-1) Critical scattering vector for left and right vertical> \\\n",
      "  --shutter_guide.Qcy=<(AA-1) Critical scattering vector for top and bottom mirrors> \\\n",
      "  --shutter_guide.h1=<(m)    Height at the guide entry> \\\n",
      "  --shutter_guide.l=<(m)    Length of guide> \\\n",
      "  --shutter_guide.d=<(m)    Thickness of subdividing walls> \\\n",
      "  --shutter_guide.W=<(AA-1) Width of supermirror cut-off for all mirrors> \\\n",
      "  --shutter_guide.h2=<(m)    Height at the guide exit> \\\n",
      "  --shutter_guide.w1=<(m)    Width at the guide entry> \\\n",
      "  --shutter_guide.mx=<(1)    m-value of material for left and right vertical mirrors> \\\n",
      "  --shutter_guide.k=<(1)    Number of channels in the guide (>= 1)> \\\n",
      "  --shutter_guide.my=<(1)    m-value of material for top and bottom mirrors. Zero> \\\n",
      "  --shutter_guide.alphax=<(AA)   Slope of reflectivity for left and right vertical> \\\n",
      "  --shutter_guide.w2=<(m)    Width at the guide exit> \\\n",
      "  --guide111.R0=<(1)    Low-angle reflectivity> \\\n",
      "  --guide111.alphay=<(AA)   Slope of reflectivity for top and bottom mirrors> \\\n",
      "  --guide111.Qcx=<(AA-1) Critical scattering vector for left and right vertical> \\\n",
      "  --guide111.Qcy=<(AA-1) Critical scattering vector for top and bottom mirrors> \\\n",
      "  --guide111.h1=<(m)    Height at the guide entry> \\\n",
      "  --guide111.l=<(m)    Length of guide> \\\n",
      "  --guide111.d=<(m)    Thickness of subdividing walls> \\\n",
      "  --guide111.W=<(AA-1) Width of supermirror cut-off for all mirrors> \\\n",
      "  --guide111.h2=<(m)    Height at the guide exit> \\\n",
      "  --guide111.w1=<(m)    Width at the guide entry> \\\n",
      "  --guide111.mx=<(1)    m-value of material for left and right vertical mirrors> \\\n",
      "  --guide111.k=<(1)    Number of channels in the guide (>= 1)> \\\n",
      "  --guide111.my=<(1)    m-value of material for top and bottom mirrors. Zero> \\\n",
      "  --guide111.alphax=<(AA)   Slope of reflectivity for left and right vertical> \\\n",
      "  --guide111.w2=<(m)    Width at the guide exit> \\\n",
      "  --guide112.R0=<(1)    Low-angle reflectivity> \\\n",
      "  --guide112.alphay=<(AA)   Slope of reflectivity for top and bottom mirrors> \\\n",
      "  --guide112.Qcx=<(AA-1) Critical scattering vector for left and right vertical> \\\n",
      "  --guide112.Qcy=<(AA-1) Critical scattering vector for top and bottom mirrors> \\\n",
      "  --guide112.h1=<(m)    Height at the guide entry> \\\n",
      "  --guide112.l=<(m)    Length of guide> \\\n",
      "  --guide112.d=<(m)    Thickness of subdividing walls> \\\n",
      "  --guide112.W=<(AA-1) Width of supermirror cut-off for all mirrors> \\\n",
      "  --guide112.h2=<(m)    Height at the guide exit> \\\n",
      "  --guide112.w1=<(m)    Width at the guide entry> \\\n",
      "  --guide112.mx=<(1)    m-value of material for left and right vertical mirrors> \\\n",
      "  --guide112.k=<(1)    Number of channels in the guide (>= 1)> \\\n",
      "  --guide112.my=<(1)    m-value of material for top and bottom mirrors. Zero> \\\n",
      "  --guide112.alphax=<(AA)   Slope of reflectivity for left and right vertical> \\\n",
      "  --guide112.w2=<(m)    Width at the guide exit> \\\n",
      "  --guide113.R0=<(1)    Low-angle reflectivity> \\\n",
      "  --guide113.alphay=<(AA)   Slope of reflectivity for top and bottom mirrors> \\\n",
      "  --guide113.Qcx=<(AA-1) Critical scattering vector for left and right vertical> \\\n",
      "  --guide113.Qcy=<(AA-1) Critical scattering vector for top and bottom mirrors> \\\n",
      "  --guide113.h1=<(m)    Height at the guide entry> \\\n",
      "  --guide113.l=<(m)    Length of guide> \\\n",
      "  --guide113.d=<(m)    Thickness of subdividing walls> \\\n",
      "  --guide113.W=<(AA-1) Width of supermirror cut-off for all mirrors> \\\n",
      "  --guide113.h2=<(m)    Height at the guide exit> \\\n",
      "  --guide113.w1=<(m)    Width at the guide entry> \\\n",
      "  --guide113.mx=<(1)    m-value of material for left and right vertical mirrors> \\\n",
      "  --guide113.k=<(1)    Number of channels in the guide (>= 1)> \\\n",
      "  --guide113.my=<(1)    m-value of material for top and bottom mirrors. Zero> \\\n",
      "  --guide113.alphax=<(AA)   Slope of reflectivity for left and right vertical> \\\n",
      "  --guide113.w2=<(m)    Width at the guide exit> \\\n",
      "  --guide121.R0=<(1)    Low-angle reflectivity> \\\n",
      "  --guide121.alphay=<(AA)   Slope of reflectivity for top and bottom mirrors> \\\n",
      "  --guide121.Qcx=<(AA-1) Critical scattering vector for left and right vertical> \\\n",
      "  --guide121.Qcy=<(AA-1) Critical scattering vector for top and bottom mirrors> \\\n",
      "  --guide121.h1=<(m)    Height at the guide entry> \\\n",
      "  --guide121.l=<(m)    Length of guide> \\\n",
      "  --guide121.d=<(m)    Thickness of subdividing walls> \\\n",
      "  --guide121.W=<(AA-1) Width of supermirror cut-off for all mirrors> \\\n",
      "  --guide121.h2=<(m)    Height at the guide exit> \\\n",
      "  --guide121.w1=<(m)    Width at the guide entry> \\\n",
      "  --guide121.mx=<(1)    m-value of material for left and right vertical mirrors> \\\n",
      "  --guide121.k=<(1)    Number of channels in the guide (>= 1)> \\\n",
      "  --guide121.my=<(1)    m-value of material for top and bottom mirrors. Zero> \\\n",
      "  --guide121.alphax=<(AA)   Slope of reflectivity for left and right vertical> \\\n",
      "  --guide121.w2=<(m)    Width at the guide exit> \\\n",
      "  --guide122.R0=<(1)    Low-angle reflectivity> \\\n",
      "  --guide122.alphay=<(AA)   Slope of reflectivity for top and bottom mirrors> \\\n",
      "  --guide122.Qcx=<(AA-1) Critical scattering vector for left and right vertical> \\\n",
      "  --guide122.Qcy=<(AA-1) Critical scattering vector for top and bottom mirrors> \\\n",
      "  --guide122.h1=<(m)    Height at the guide entry> \\\n",
      "  --guide122.l=<(m)    Length of guide> \\\n",
      "  --guide122.d=<(m)    Thickness of subdividing walls> \\\n",
      "  --guide122.W=<(AA-1) Width of supermirror cut-off for all mirrors> \\\n",
      "  --guide122.h2=<(m)    Height at the guide exit> \\\n",
      "  --guide122.w1=<(m)    Width at the guide entry> \\\n",
      "  --guide122.mx=<(1)    m-value of material for left and right vertical mirrors> \\\n",
      "  --guide122.k=<(1)    Number of channels in the guide (>= 1)> \\\n",
      "  --guide122.my=<(1)    m-value of material for top and bottom mirrors. Zero> \\\n",
      "  --guide122.alphax=<(AA)   Slope of reflectivity for left and right vertical> \\\n",
      "  --guide122.w2=<(m)    Width at the guide exit> \\\n",
      "  --guide123.R0=<(1)    Low-angle reflectivity> \\\n",
      "  --guide123.alphay=<(AA)   Slope of reflectivity for top and bottom mirrors> \\\n",
      "  --guide123.Qcx=<(AA-1) Critical scattering vector for left and right vertical> \\\n",
      "  --guide123.Qcy=<(AA-1) Critical scattering vector for top and bottom mirrors> \\\n",
      "  --guide123.h1=<(m)    Height at the guide entry> \\\n",
      "  --guide123.l=<(m)    Length of guide> \\\n",
      "  --guide123.d=<(m)    Thickness of subdividing walls> \\\n",
      "  --guide123.W=<(AA-1) Width of supermirror cut-off for all mirrors> \\\n",
      "  --guide123.h2=<(m)    Height at the guide exit> \\\n",
      "  --guide123.w1=<(m)    Width at the guide entry> \\\n",
      "  --guide123.mx=<(1)    m-value of material for left and right vertical mirrors> \\\n",
      "  --guide123.k=<(1)    Number of channels in the guide (>= 1)> \\\n",
      "  --guide123.my=<(1)    m-value of material for top and bottom mirrors. Zero> \\\n",
      "  --guide123.alphax=<(AA)   Slope of reflectivity for left and right vertical> \\\n",
      "  --guide123.w2=<(m)    Width at the guide exit> \\\n",
      "  --guide131.R0=<(1)    Low-angle reflectivity> \\\n",
      "  --guide131.alphay=<(AA)   Slope of reflectivity for top and bottom mirrors> \\\n",
      "  --guide131.Qcx=<(AA-1) Critical scattering vector for left and right vertical> \\\n",
      "  --guide131.Qcy=<(AA-1) Critical scattering vector for top and bottom mirrors> \\\n",
      "  --guide131.h1=<(m)    Height at the guide entry> \\\n",
      "  --guide131.l=<(m)    Length of guide> \\\n",
      "  --guide131.d=<(m)    Thickness of subdividing walls> \\\n",
      "  --guide131.W=<(AA-1) Width of supermirror cut-off for all mirrors> \\\n",
      "  --guide131.h2=<(m)    Height at the guide exit> \\\n",
      "  --guide131.w1=<(m)    Width at the guide entry> \\\n",
      "  --guide131.mx=<(1)    m-value of material for left and right vertical mirrors> \\\n",
      "  --guide131.k=<(1)    Number of channels in the guide (>= 1)> \\\n",
      "  --guide131.my=<(1)    m-value of material for top and bottom mirrors. Zero> \\\n",
      "  --guide131.alphax=<(AA)   Slope of reflectivity for left and right vertical> \\\n",
      "  --guide131.w2=<(m)    Width at the guide exit> \\\n",
      "  --guide132.R0=<(1)    Low-angle reflectivity> \\\n",
      "  --guide132.alphay=<(AA)   Slope of reflectivity for top and bottom mirrors> \\\n",
      "  --guide132.Qcx=<(AA-1) Critical scattering vector for left and right vertical> \\\n",
      "  --guide132.Qcy=<(AA-1) Critical scattering vector for top and bottom mirrors> \\\n",
      "  --guide132.h1=<(m)    Height at the guide entry> \\\n",
      "  --guide132.l=<(m)    Length of guide> \\\n",
      "  --guide132.d=<(m)    Thickness of subdividing walls> \\\n",
      "  --guide132.W=<(AA-1) Width of supermirror cut-off for all mirrors> \\\n",
      "  --guide132.h2=<(m)    Height at the guide exit> \\\n",
      "  --guide132.w1=<(m)    Width at the guide entry> \\\n",
      "  --guide132.mx=<(1)    m-value of material for left and right vertical mirrors> \\\n",
      "  --guide132.k=<(1)    Number of channels in the guide (>= 1)> \\\n",
      "  --guide132.my=<(1)    m-value of material for top and bottom mirrors. Zero> \\\n",
      "  --guide132.alphax=<(AA)   Slope of reflectivity for left and right vertical> \\\n",
      "  --guide132.w2=<(m)    Width at the guide exit> \\\n",
      "  --guide133.R0=<(1)    Low-angle reflectivity> \\\n",
      "  --guide133.alphay=<(AA)   Slope of reflectivity for top and bottom mirrors> \\\n",
      "  --guide133.Qcx=<(AA-1) Critical scattering vector for left and right vertical> \\\n",
      "  --guide133.Qcy=<(AA-1) Critical scattering vector for top and bottom mirrors> \\\n",
      "  --guide133.h1=<(m)    Height at the guide entry> \\\n",
      "  --guide133.l=<(m)    Length of guide> \\\n",
      "  --guide133.d=<(m)    Thickness of subdividing walls> \\\n",
      "  --guide133.W=<(AA-1) Width of supermirror cut-off for all mirrors> \\\n",
      "  --guide133.h2=<(m)    Height at the guide exit> \\\n",
      "  --guide133.w1=<(m)    Width at the guide entry> \\\n",
      "  --guide133.mx=<(1)    m-value of material for left and right vertical mirrors> \\\n",
      "  --guide133.k=<(1)    Number of channels in the guide (>= 1)> \\\n",
      "  --guide133.my=<(1)    m-value of material for top and bottom mirrors. Zero> \\\n",
      "  --guide133.alphax=<(AA)   Slope of reflectivity for left and right vertical> \\\n",
      "  --guide133.w2=<(m)    Width at the guide exit> \\\n",
      "  --t0chopper.w2=<edgewidth> \\\n",
      "  --t0chopper.len=<length of slot (m)> \\\n",
      "  --t0chopper.tc=<time when desired neutron is at the center of the chopper (sec)> \\\n",
      "  --t0chopper.ymax=<Upper y bound (m)> \\\n",
      "  --t0chopper.w1=<center width (m)> \\\n",
      "  --t0chopper.delta=<time from edge of chopper to center Phase angle (sec)> \\\n",
      "  --t0chopper.ymin=<Lower y bound (m)> \\\n",
      "  --t0chopper.nu=<frequency (Hz)> \\\n",
      "  --guide211.R0=<(1)    Low-angle reflectivity> \\\n",
      "  --guide211.alphay=<(AA)   Slope of reflectivity for top and bottom mirrors> \\\n",
      "  --guide211.Qcx=<(AA-1) Critical scattering vector for left and right vertical> \\\n",
      "  --guide211.Qcy=<(AA-1) Critical scattering vector for top and bottom mirrors> \\\n",
      "  --guide211.h1=<(m)    Height at the guide entry> \\\n",
      "  --guide211.l=<(m)    Length of guide> \\\n",
      "  --guide211.d=<(m)    Thickness of subdividing walls> \\\n",
      "  --guide211.W=<(AA-1) Width of supermirror cut-off for all mirrors> \\\n",
      "  --guide211.h2=<(m)    Height at the guide exit> \\\n",
      "  --guide211.w1=<(m)    Width at the guide entry> \\\n",
      "  --guide211.mx=<(1)    m-value of material for left and right vertical mirrors> \\\n",
      "  --guide211.k=<(1)    Number of channels in the guide (>= 1)> \\\n",
      "  --guide211.my=<(1)    m-value of material for top and bottom mirrors. Zero> \\\n",
      "  --guide211.alphax=<(AA)   Slope of reflectivity for left and right vertical> \\\n",
      "  --guide211.w2=<(m)    Width at the guide exit> \\\n",
      "  --guide212.R0=<(1)    Low-angle reflectivity> \\\n",
      "  --guide212.alphay=<(AA)   Slope of reflectivity for top and bottom mirrors> \\\n",
      "  --guide212.Qcx=<(AA-1) Critical scattering vector for left and right vertical> \\\n",
      "  --guide212.Qcy=<(AA-1) Critical scattering vector for top and bottom mirrors> \\\n",
      "  --guide212.h1=<(m)    Height at the guide entry> \\\n",
      "  --guide212.l=<(m)    Length of guide> \\\n",
      "  --guide212.d=<(m)    Thickness of subdividing walls> \\\n",
      "  --guide212.W=<(AA-1) Width of supermirror cut-off for all mirrors> \\\n",
      "  --guide212.h2=<(m)    Height at the guide exit> \\\n",
      "  --guide212.w1=<(m)    Width at the guide entry> \\\n",
      "  --guide212.mx=<(1)    m-value of material for left and right vertical mirrors> \\\n",
      "  --guide212.k=<(1)    Number of channels in the guide (>= 1)> \\\n",
      "  --guide212.my=<(1)    m-value of material for top and bottom mirrors. Zero> \\\n",
      "  --guide212.alphax=<(AA)   Slope of reflectivity for left and right vertical> \\\n",
      "  --guide212.w2=<(m)    Width at the guide exit> \\\n",
      "  --guide213.R0=<(1)    Low-angle reflectivity> \\\n",
      "  --guide213.alphay=<(AA)   Slope of reflectivity for top and bottom mirrors> \\\n",
      "  --guide213.Qcx=<(AA-1) Critical scattering vector for left and right vertical> \\\n",
      "  --guide213.Qcy=<(AA-1) Critical scattering vector for top and bottom mirrors> \\\n",
      "  --guide213.h1=<(m)    Height at the guide entry> \\\n",
      "  --guide213.l=<(m)    Length of guide> \\\n",
      "  --guide213.d=<(m)    Thickness of subdividing walls> \\\n",
      "  --guide213.W=<(AA-1) Width of supermirror cut-off for all mirrors> \\\n",
      "  --guide213.h2=<(m)    Height at the guide exit> \\\n",
      "  --guide213.w1=<(m)    Width at the guide entry> \\\n",
      "  --guide213.mx=<(1)    m-value of material for left and right vertical mirrors> \\\n",
      "  --guide213.k=<(1)    Number of channels in the guide (>= 1)> \\\n",
      "  --guide213.my=<(1)    m-value of material for top and bottom mirrors. Zero> \\\n",
      "  --guide213.alphax=<(AA)   Slope of reflectivity for left and right vertical> \\\n",
      "  --guide213.w2=<(m)    Width at the guide exit> \\\n",
      "  --guide214.R0=<(1)    Low-angle reflectivity> \\\n",
      "  --guide214.alphay=<(AA)   Slope of reflectivity for top and bottom mirrors> \\\n",
      "  --guide214.Qcx=<(AA-1) Critical scattering vector for left and right vertical> \\\n",
      "  --guide214.Qcy=<(AA-1) Critical scattering vector for top and bottom mirrors> \\\n",
      "  --guide214.h1=<(m)    Height at the guide entry> \\\n",
      "  --guide214.l=<(m)    Length of guide> \\\n",
      "  --guide214.d=<(m)    Thickness of subdividing walls> \\\n",
      "  --guide214.W=<(AA-1) Width of supermirror cut-off for all mirrors> \\\n",
      "  --guide214.h2=<(m)    Height at the guide exit> \\\n",
      "  --guide214.w1=<(m)    Width at the guide entry> \\\n",
      "  --guide214.mx=<(1)    m-value of material for left and right vertical mirrors> \\\n",
      "  --guide214.k=<(1)    Number of channels in the guide (>= 1)> \\\n",
      "  --guide214.my=<(1)    m-value of material for top and bottom mirrors. Zero> \\\n",
      "  --guide214.alphax=<(AA)   Slope of reflectivity for left and right vertical> \\\n",
      "  --guide214.w2=<(m)    Width at the guide exit> \\\n",
      "  --guide215.R0=<(1)    Low-angle reflectivity> \\\n",
      "  --guide215.alphay=<(AA)   Slope of reflectivity for top and bottom mirrors> \\\n",
      "  --guide215.Qcx=<(AA-1) Critical scattering vector for left and right vertical> \\\n",
      "  --guide215.Qcy=<(AA-1) Critical scattering vector for top and bottom mirrors> \\\n",
      "  --guide215.h1=<(m)    Height at the guide entry> \\\n",
      "  --guide215.l=<(m)    Length of guide> \\\n",
      "  --guide215.d=<(m)    Thickness of subdividing walls> \\\n",
      "  --guide215.W=<(AA-1) Width of supermirror cut-off for all mirrors> \\\n",
      "  --guide215.h2=<(m)    Height at the guide exit> \\\n",
      "  --guide215.w1=<(m)    Width at the guide entry> \\\n",
      "  --guide215.mx=<(1)    m-value of material for left and right vertical mirrors> \\\n",
      "  --guide215.k=<(1)    Number of channels in the guide (>= 1)> \\\n",
      "  --guide215.my=<(1)    m-value of material for top and bottom mirrors. Zero> \\\n",
      "  --guide215.alphax=<(AA)   Slope of reflectivity for left and right vertical> \\\n",
      "  --guide215.w2=<(m)    Width at the guide exit> \\\n",
      "  --fermichopper.ymax=<Upper y bound (m)> \\\n",
      "  --fermichopper.max_iter=<max_iter> \\\n",
      "  --fermichopper.len=<slit package length (m)> \\\n",
      "  --fermichopper.tc=<time when desired neutron is at the center of the chopper (sec)> \\\n",
      "  --fermichopper.w=<slit package width (m)> \\\n",
      "  --fermichopper.nchan=<number of channels in chopper (1)> \\\n",
      "  --fermichopper.bw=<blade width (m)> \\\n",
      "  --fermichopper.delta=<time from edge of chopper to center Phase angle (sec)> \\\n",
      "  --fermichopper.ymin=<Lower y bound (m)> \\\n",
      "  --fermichopper.nu=<frequency (Hz)> \\\n",
      "  --fermichopper.blader=<blade radius (m)> \\\n",
      "  --monitor1.tmin=<lower t bound of detector (s)> \\\n",
      "  --monitor1.tmax=<upper t bound of detector (s)> \\\n",
      "  --monitor1.restore_neutron=<restore_neutron> \\\n",
      "  --monitor1.filename=<Name of file in which to store the detector image (text)> \\\n",
      "  --monitor1.nchan=<number of time bins (1)> \\\n",
      "  --monitor1.xmax=<Upper x bound of detector opening (m)> \\\n",
      "  --monitor1.xmin=<Lower x bound of detector opening (m)> \\\n",
      "  --monitor1.ymin=<Lower y bound of detector opening (m)> \\\n",
      "  --monitor1.ymax=<Upper y bound of detector opening (m)> \\\n",
      "  --guide311.R0=<(1)    Low-angle reflectivity> \\\n",
      "  --guide311.alphay=<(AA)   Slope of reflectivity for top and bottom mirrors> \\\n",
      "  --guide311.Qcx=<(AA-1) Critical scattering vector for left and right vertical> \\\n",
      "  --guide311.Qcy=<(AA-1) Critical scattering vector for top and bottom mirrors> \\\n",
      "  --guide311.h1=<(m)    Height at the guide entry> \\\n",
      "  --guide311.l=<(m)    Length of guide> \\\n",
      "  --guide311.d=<(m)    Thickness of subdividing walls> \\\n",
      "  --guide311.W=<(AA-1) Width of supermirror cut-off for all mirrors> \\\n",
      "  --guide311.h2=<(m)    Height at the guide exit> \\\n",
      "  --guide311.w1=<(m)    Width at the guide entry> \\\n",
      "  --guide311.mx=<(1)    m-value of material for left and right vertical mirrors> \\\n",
      "  --guide311.k=<(1)    Number of channels in the guide (>= 1)> \\\n",
      "  --guide311.my=<(1)    m-value of material for top and bottom mirrors. Zero> \\\n",
      "  --guide311.alphax=<(AA)   Slope of reflectivity for left and right vertical> \\\n",
      "  --guide311.w2=<(m)    Width at the guide exit> \\\n",
      "  --guide411.R0=<(1)    Low-angle reflectivity> \\\n",
      "  --guide411.alphay=<(AA)   Slope of reflectivity for top and bottom mirrors> \\\n",
      "  --guide411.Qcx=<(AA-1) Critical scattering vector for left and right vertical> \\\n",
      "  --guide411.Qcy=<(AA-1) Critical scattering vector for top and bottom mirrors> \\\n",
      "  --guide411.h1=<(m)    Height at the guide entry> \\\n",
      "  --guide411.l=<(m)    Length of guide> \\\n",
      "  --guide411.d=<(m)    Thickness of subdividing walls> \\\n",
      "  --guide411.W=<(AA-1) Width of supermirror cut-off for all mirrors> \\\n",
      "  --guide411.h2=<(m)    Height at the guide exit> \\\n",
      "  --guide411.w1=<(m)    Width at the guide entry> \\\n",
      "  --guide411.mx=<(1)    m-value of material for left and right vertical mirrors> \\\n",
      "  --guide411.k=<(1)    Number of channels in the guide (>= 1)> \\\n",
      "  --guide411.my=<(1)    m-value of material for top and bottom mirrors. Zero> \\\n",
      "  --guide411.alphax=<(AA)   Slope of reflectivity for left and right vertical> \\\n",
      "  --guide411.w2=<(m)    Width at the guide exit> \\\n",
      "  --guide412.R0=<(1)    Low-angle reflectivity> \\\n",
      "  --guide412.alphay=<(AA)   Slope of reflectivity for top and bottom mirrors> \\\n",
      "  --guide412.Qcx=<(AA-1) Critical scattering vector for left and right vertical> \\\n",
      "  --guide412.Qcy=<(AA-1) Critical scattering vector for top and bottom mirrors> \\\n",
      "  --guide412.h1=<(m)    Height at the guide entry> \\\n",
      "  --guide412.l=<(m)    Length of guide> \\\n",
      "  --guide412.d=<(m)    Thickness of subdividing walls> \\\n",
      "  --guide412.W=<(AA-1) Width of supermirror cut-off for all mirrors> \\\n",
      "  --guide412.h2=<(m)    Height at the guide exit> \\\n",
      "  --guide412.w1=<(m)    Width at the guide entry> \\\n",
      "  --guide412.mx=<(1)    m-value of material for left and right vertical mirrors> \\\n",
      "  --guide412.k=<(1)    Number of channels in the guide (>= 1)> \\\n",
      "  --guide412.my=<(1)    m-value of material for top and bottom mirrors. Zero> \\\n",
      "  --guide412.alphax=<(AA)   Slope of reflectivity for left and right vertical> \\\n",
      "  --guide412.w2=<(m)    Width at the guide exit> \\\n",
      "  --monitor.path=<The path where neutrons will be saved. This must be a relative path within the output directory of the instrument simulation application.> \\\n",
      "  --monitor2.tmin=<lower t bound of detector (s)> \\\n",
      "  --monitor2.tmax=<upper t bound of detector (s)> \\\n",
      "  --monitor2.restore_neutron=<restore_neutron> \\\n",
      "  --monitor2.filename=<Name of file in which to store the detector image (text)> \\\n",
      "  --monitor2.nchan=<number of time bins (1)> \\\n",
      "  --monitor2.xmax=<Upper x bound of detector opening (m)> \\\n",
      "  --monitor2.xmin=<Lower x bound of detector opening (m)> \\\n",
      "  --monitor2.ymin=<Lower y bound of detector opening (m)> \\\n",
      "  --monitor2.ymax=<Upper y bound of detector opening (m)>\n",
      "------------------------------------------------------------\n",
      "done.\n",
      " -> running mcvine instruments arcs mod2sample --ncount=1000000.0 --buffer_size=100000 --output-dir=_m2sout --moderator.S_filename=/SNS/users/lj7/software/miniconda2/envs/mcvine/share/mcvine/resources/instruments/ARCS/moderator/source_sct521_bu_17_1.dat...\n",
      "/SNS/users/lj7/software/miniconda2/envs/mcvine/lib/python2.7/site-packages/mcni/pyre_support/MpiApplication.py:87: UserWarning: no point to run in parallel mode when using just one node\n",
      "  warnings.warn(\"no point to run in parallel mode when using just one node\")\n",
      "Loading moderator file /SNS/users/lj7/software/miniconda2/envs/mcvine/share/mcvine/resources/instruments/ARCS/moderator/source_sct521_bu_17_1.dat\n",
      "/SNS/users/lj7/software/miniconda2/envs/mcvine/share/mcvine/resources/instruments/ARCS/moderator/source_sct521_bu_17_1.dat\n",
      "total vals: 12690\n",
      "idx3 = 1\n",
      "totalvals = 12690\n",
      "Ecoltmp[0] = 1e-05\n",
      "tcoltmp[0] = 0\n",
      "Start calculating probability distribution\n",
      "0 \n",
      "nEvals = 140, ntvals = 90\n",
      "Finished calculating probability distribution\n",
      "* initialize Fermi_chop2\n",
      " + w=0.060364, len=0.1, ymax=0.0325, ymin=-0.0325, nu=600, delta=0\n",
      " + tc=0.00317318,bw=0.00041,nchan=31,blader=0.5801\n",
      "sw: 0.001524 rad: 0.0595477\n",
      "finalize component \"monitor1\"\n",
      "/SNS/users/lj7/software/miniconda2/envs/mcvine/lib/python2.7/site-packages/mcni/AbstractComponent.py:40: UserWarning: In NeutronToStorage: Deprecated. should use self.simulation_context.overwrite_datafiles\n",
      "  warnings.warn(msg)\n",
      "finalize component \"monitor2\"\n",
      "finalize component \"monitor1\"\n",
      "finalize component \"monitor2\"\n",
      "finalize component \"monitor1\"\n",
      "finalize component \"monitor2\"\n",
      "finalize component \"monitor1\"\n",
      "finalize component \"monitor2\"\n",
      "finalize component \"monitor1\"\n",
      "finalize component \"monitor2\"\n",
      "finalize component \"monitor1\"\n",
      "finalize component \"monitor2\"\n",
      "finalize component \"monitor1\"\n",
      "finalize component \"monitor2\"\n",
      "finalize component \"monitor1\"\n",
      "finalize component \"monitor2\"\n",
      "finalize component \"monitor1\"\n",
      "finalize component \"monitor2\"\n",
      "finalize component \"monitor1\"\n",
      "finalize component \"monitor2\"\n",
      "(37.29, 0.99, 0.0, 0.01, 14949092.55)\n",
      "finalize component \"guide411\"\n",
      "finalize component \"shutter_guide\"\n",
      "finalize component \"moderator\"\n",
      "finalize component \"guide122\"\n",
      "finalize component \"guide121\"\n",
      "finalize component \"guide412\"\n",
      "finalize component \"fermichopper-100-1.5-SMI\"\n",
      "finalize component \"guide311\"\n",
      "finalize component \"t0chopper\"\n",
      "finalize component \"guide215\"\n",
      "finalize component \"guide214\"\n",
      "finalize component \"guide211\"\n",
      "finalize component \"guide213\"\n",
      "finalize component \"guide212\"\n",
      "finalize component \"core_vessel_insert\"\n",
      "finalize component \"guide131\"\n",
      "finalize component \"guide132\"\n",
      "finalize component \"guide133\"\n",
      "finalize component \"guide112\"\n",
      "finalize component \"guide113\"\n",
      "finalize component \"guide111\"\n",
      "finalize component \"monitor2\"\n",
      "finalize component \"monitor1\"\n",
      "finalize component \"guide123\"\n",
      "Running beam monitors...\n",
      " -> running mcvine instruments arcs analyze_beam --output-dir=out --ncount=325 --buffer_size=325 --source.path=_m2sout/neutrons --monitor.mtof.tofmin=0.00334472378045 --monitor.mtof.tofmax=0.00408799573167 --monitor.mtof.ntof=1000 --monitor.menergy.energymin=63.0 --monitor.menergy.energymax=77.0 --monitor.menergy.nenergy=1000...\n",
      "/SNS/users/lj7/software/miniconda2/envs/mcvine/lib/python2.7/site-packages/mcni/pyre_support/MpiApplication.py:87: UserWarning: no point to run in parallel mode when using just one node\n",
      "  warnings.warn(\"no point to run in parallel mode when using just one node\")\n",
      "(0.42, 0.17, 0.0, 0.0, 14949278.58)\n",
      "/SNS/users/lj7/software/miniconda2/envs/mcvine/lib/python2.7/site-packages/histogram/hdf/Loader.py:129: FutureWarning: elementwise comparison failed; returning scalar instead, but in the future will perform elementwise comparison\n",
      "  if 'storage' in list(dataGroup): # this uses the 'storage' convention\n",
      "done.\n"
     ]
    }
   ],
   "source": [
    "# run simulation\n",
    "!./run-beam.sh"
   ]
  },
  {
   "cell_type": "markdown",
   "metadata": {},
   "source": [
    "After the beam simulation is done\n",
    "* The main output are in the new folder \"out\".\n",
    "* The \".h5\" files are histograms of various sorts.\n",
    "* The \"neutron\" file is the simulated neutrons of the beam incident on the sample"
   ]
  },
  {
   "cell_type": "code",
   "execution_count": 18,
   "metadata": {
    "collapsed": false
   },
   "outputs": [
    {
     "name": "stdout",
     "output_type": "stream",
     "text": [
      "ienergy.h5  ix_divy.h5\tiy_divy.h5\t      neutrons\r\n",
      "itof.h5     ix_y.h5\tmon1-itof-focused.h5  props.json\r\n",
      "ix_divx.h5  iy_divx.h5\tmon2-itof-focused.h5  rank0-step0\r\n"
     ]
    }
   ],
   "source": [
    "!ls out"
   ]
  },
  {
   "cell_type": "code",
   "execution_count": 19,
   "metadata": {
    "collapsed": false
   },
   "outputs": [
    {
     "data": {
      "text/plain": [
       "[<matplotlib.lines.Line2D at 0x7f27b3b662d0>]"
      ]
     },
     "execution_count": 19,
     "metadata": {},
     "output_type": "execute_result"
    },
    {
     "data": {
      "image/png": "[encoded data removed]",
      "text/plain": [
       "<matplotlib.figure.Figure at 0x7f27b5c7bb50>"
      ]
     },
     "metadata": {},
     "output_type": "display_data"
    }
   ],
   "source": [
    "# plot I(E) spectrum\n",
    "ie = hh.load(\"out/ienergy.h5\")\n",
    "plt.plot(ie.energy, ie.I)"
   ]
  },
  {
   "cell_type": "code",
   "execution_count": 20,
   "metadata": {
    "collapsed": false
   },
   "outputs": [
    {
     "data": {
      "text/plain": [
       "[<matplotlib.lines.Line2D at 0x7f27b3808110>]"
      ]
     },
     "execution_count": 20,
     "metadata": {},
     "output_type": "execute_result"
    },
    {
     "data": {
      "image/png": "[encoded data removed]",
      "text/plain": [
       "<matplotlib.figure.Figure at 0x7f27b38cb690>"
      ]
     },
     "metadata": {},
     "output_type": "display_data"
    }
   ],
   "source": [
    "# plot monitor 1 I(tof) spectrum\n",
    "m1 = hh.load(\"out/mon1-itof-focused.h5\")\n",
    "plt.plot(m1.tof, m1.I)"
   ]
  },
  {
   "cell_type": "markdown",
   "metadata": {},
   "source": [
    "## Scattering simulation and reduction"
   ]
  },
  {
   "cell_type": "markdown",
   "metadata": {},
   "source": [
    "The simulation directory contains a Makefile and various scripts to make it easy to run the simulation and analsysis."
   ]
  },
  {
   "cell_type": "code",
   "execution_count": 21,
   "metadata": {
    "collapsed": false
   },
   "outputs": [
    {
     "name": "stdout",
     "output_type": "stream",
     "text": [
      "/SNS/users/lj7/simulations/ARCS/powder-demo2/mysim\n",
      "beam\t    debug-scatter  reduce2iqe\t   scatter  sss.pml\r\n",
      "create-nxs  Makefile\t   sampleassembly  sss\t    test-scatter\r\n"
     ]
    }
   ],
   "source": [
    "%cd {workdir}/mysim\n",
    "!ls"
   ]
  },
  {
   "cell_type": "code",
   "execution_count": 22,
   "metadata": {
    "collapsed": false
   },
   "outputs": [
    {
     "name": "stdout",
     "output_type": "stream",
     "text": [
      "#!/usr/bin/env bash\r\n",
      "\r\n",
      "LAUNCHER=`python -c \"from mcni.pyre_support.MpiApplication import mpi_launcher_choice as l; print l\"`\r\n",
      "rm -rf out && ./sss --ncount=1e5 --multiple-scattering=on --$LAUNCHER.nodes=2 --buffer_size=10000\r\n",
      "\r\n",
      "#--journal.debug.phonon_incoherent_inelastic_kernel\r\n"
     ]
    }
   ],
   "source": [
    "# scatter is the script for sample scattering simulation\n",
    "!cat scatter"
   ]
  },
  {
   "cell_type": "code",
   "execution_count": 23,
   "metadata": {
    "collapsed": true
   },
   "outputs": [],
   "source": [
    "# Change ncount and nodes"
   ]
  },
  {
   "cell_type": "code",
   "execution_count": 24,
   "metadata": {
    "collapsed": false
   },
   "outputs": [
    {
     "name": "stdout",
     "output_type": "stream",
     "text": [
      "Overwriting scatter\n"
     ]
    }
   ],
   "source": [
    "%%file scatter\n",
    "#!/usr/bin/env bash\n",
    "\n",
    "LAUNCHER=`python -c \"from mcni.pyre_support.MpiApplication import mpi_launcher_choice as l; print l\"`\n",
    "rm -rf out && ./sss --ncount=1e6 --multiple-scattering=off --$LAUNCHER.nodes=10 --buffer_size=10000\n"
   ]
  },
  {
   "cell_type": "code",
   "execution_count": 25,
   "metadata": {
    "collapsed": true
   },
   "outputs": [
    {
     "name": "stdout",
     "output_type": "stream",
     "text": [
      "./scatter </dev/null >log.scatter 2>&1\n",
      "./create-nxs </dev/null >log.create-nxs 2>&1\n",
      "cp arcs-sim.nxs arcs-sim-wEidata.nxs &&\\\n",
      "mcvine instruments arcs nxs populate_metadata --type=Ei --nxs=arcs-sim-wEidata.nxs --beam_outdir=beam/out\n",
      "/SNS/users/lj7/software/miniconda2/envs/mcvine/lib/python2.7/site-packages/mcvine/deployment_info.py:41: UserWarning: Neither environment variable MCVINE_DIR nor DANSE_DIR was defined. Assumed that it is /SNS/users/lj7/software/miniconda2/envs/mcvine.\n",
      "  warnings.warn(msg)\n",
      "./reduce2iqe >log.reduce 2>&1\n"
     ]
    }
   ],
   "source": [
    "# run simulation and reduction\n",
    "!chmod +x scatter sss reduce2iqe create-nxs\n",
    "!make"
   ]
  },
  {
   "cell_type": "code",
   "execution_count": 27,
   "metadata": {
    "collapsed": false,
    "scrolled": true
   },
   "outputs": [
    {
     "name": "stdout",
     "output_type": "stream",
     "text": [
      "plot z in (0, 0.0001)\n"
     ]
    },
    {
     "data": {
      "image/png": "[encoded data removed]",
      "text/plain": [
       "<matplotlib.figure.Figure at 0x7f27dc08c990>"
      ]
     },
     "metadata": {},
     "output_type": "display_data"
    },
    {
     "data": {
      "image/png": "[encoded data removed]",
      "text/plain": [
       "<matplotlib.figure.Figure at 0x7f27b38ef4d0>"
      ]
     },
     "metadata": {},
     "output_type": "display_data"
    }
   ],
   "source": [
    "iqe = hh.load(\"iqe.h5\")\n",
    "H.plot(iqe, min=0, max=1e-4)"
   ]
  },
  {
   "cell_type": "code",
   "execution_count": 28,
   "metadata": {
    "collapsed": false
   },
   "outputs": [
    {
     "name": "stdout",
     "output_type": "stream",
     "text": [
      "<SampleAssembly name=\"bcc V powder sample assembly\">\r\n",
      "\r\n",
      "  <PowderSample name=\"V\" type=\"sample\">\r\n",
      "    <Shape>\r\n",
      "      <block width=\"50*mm\" height=\"50*mm\" thickness=\"1.2*mm\" />\r\n",
      "    </Shape>\r\n",
      "    <Phase type=\"crystal\">\r\n",
      "      <ChemicalFormula>V</ChemicalFormula>\r\n",
      "      <xyzfile>V.xyz</xyzfile>\r\n",
      "    </Phase>\r\n",
      "  </PowderSample>\r\n",
      "\r\n",
      "  <LocalGeometer registry-coordinate-system=\"InstrumentScientist\">\r\n",
      "    <Register name=\"V\" position=\"(0,0,0)\" orientation=\"(0,0,0)\"/>\r\n",
      "  </LocalGeometer>\r\n",
      "\r\n",
      "</SampleAssembly>\r\n"
     ]
    }
   ],
   "source": [
    "# Let us look at the sample.\n",
    "# sampleassembly file has the sample geometrical information\n",
    "!cat ./sampleassembly/sampleassembly.xml"
   ]
  },
  {
   "cell_type": "markdown",
   "metadata": {},
   "source": [
    "## Change sample kernel\n",
    "* Here we remove the old results and run a simulation with different kernel\n",
    "* If you want to save the old results, do that now"
   ]
  },
  {
   "cell_type": "code",
   "execution_count": 30,
   "metadata": {
    "collapsed": false
   },
   "outputs": [
    {
     "name": "stdout",
     "output_type": "stream",
     "text": [
      "rm -rf out work-* log.* *~ *.h5 *.nxs\r\n"
     ]
    }
   ],
   "source": [
    "# clean up\n",
    "!make clean"
   ]
  },
  {
   "cell_type": "code",
   "execution_count": 31,
   "metadata": {
    "collapsed": false
   },
   "outputs": [
    {
     "name": "stdout",
     "output_type": "stream",
     "text": [
      "beam\t    debug-scatter  reduce2iqe\t   scatter  sss.pml\r\n",
      "create-nxs  Makefile\t   sampleassembly  sss\t    test-scatter\r\n"
     ]
    }
   ],
   "source": [
    "!ls"
   ]
  },
  {
   "cell_type": "code",
   "execution_count": 32,
   "metadata": {
    "collapsed": false
   },
   "outputs": [
    {
     "name": "stdout",
     "output_type": "stream",
     "text": [
      "<?xml version=\"1.0\"?>\r\n",
      "\r\n",
      "<!DOCTYPE scatterer>\r\n",
      "\r\n",
      "<!-- mcweights: monte-carlo weights for 3 possible processes:\r\n",
      "     absorption, scattering, transmission -->\r\n",
      "<homogeneous_scatterer mcweights=\"0, 1, 0\">\r\n",
      "\r\n",
      "  <KernelContainer average=\"yes\">\r\n",
      "\r\n",
      "    <Phonon_IncoherentElastic_Kernel dw_core='0.00701434948808*angstrom**2'>\r\n",
      "    </Phonon_IncoherentElastic_Kernel>\r\n",
      "\r\n",
      "    <Phonon_IncoherentInelastic_Kernel>\r\n",
      "      <LinearlyInterpolatedDOS idf-data-path=\"phonons/DOS\">\r\n",
      "      </LinearlyInterpolatedDOS>\r\n",
      "    </Phonon_IncoherentInelastic_Kernel>\r\n",
      "\r\n",
      "    <MultiPhonon_Kernel Qmax=\"15/angstrom\">\r\n",
      "      <LinearlyInterpolatedDOS idf-data-path=\"phonons/DOS\"/>\r\n",
      "    </MultiPhonon_Kernel>\r\n",
      "\r\n",
      "  </KernelContainer>\r\n",
      "</homogeneous_scatterer>\r\n",
      "\r\n"
     ]
    }
   ],
   "source": [
    "# Let us look at the old kernel(s)\n",
    "# Three kernels are involved in simulating Vanadium\n",
    "# - Incoherent elastic scattering\n",
    "# - Incoherent single phonon scattering\n",
    "# - Incoherent multiple phonon scattering\n",
    "!cat sampleassembly/V-scatterer.xml"
   ]
  },
  {
   "cell_type": "code",
   "execution_count": 33,
   "metadata": {
    "collapsed": true
   },
   "outputs": [],
   "source": [
    "# Change the kernel to a \"sin-wave\" dispersion E=30+10*sin(Q)"
   ]
  },
  {
   "cell_type": "code",
   "execution_count": 34,
   "metadata": {
    "collapsed": false
   },
   "outputs": [
    {
     "name": "stdout",
     "output_type": "stream",
     "text": [
      "Overwriting sampleassembly/V-scatterer.xml\n"
     ]
    }
   ],
   "source": [
    "%%file sampleassembly/V-scatterer.xml\n",
    "<?xml version=\"1.0\"?>\n",
    "\n",
    "<!DOCTYPE scatterer>\n",
    "\n",
    "<!-- weights: absorption, scattering, transmission -->\n",
    "<homogeneous_scatterer mcweights=\"0, 1, 0\">\n",
    "  \n",
    "  <E_Q_Kernel \n",
    "     E_Q=\"30+10*sin(Q)\" \n",
    "     S_Q=\"1\" \n",
    "     Qmin=\"0./angstrom\"\n",
    "     Qmax=\"10./angstrom\"\n",
    "     />\n",
    "  \n",
    "</homogeneous_scatterer>"
   ]
  },
  {
   "cell_type": "code",
   "execution_count": 27,
   "metadata": {
    "collapsed": false
   },
   "outputs": [
    {
     "name": "stdout",
     "output_type": "stream",
     "text": [
      "./scatter </dev/null >log.scatter 2>&1\n",
      "./create-nxs </dev/null >log.create-nxs 2>&1\n",
      "cp arcs-sim.nxs arcs-sim-wEidata.nxs &&\\\n",
      "mcvine instruments arcs nxs populate_metadata --type=Ei --nxs=arcs-sim-wEidata.nxs --beam_outdir=beam/out\n",
      "/SNS/users/lj7/software/miniconda2/envs/mcvine/lib/python2.7/site-packages/mcvine/deployment_info.py:41: UserWarning: Neither environment variable MCVINE_DIR nor DANSE_DIR was defined. Assumed that it is /SNS/users/lj7/software/miniconda2/envs/mcvine.\n",
      "  warnings.warn(msg)\n",
      "./reduce2iqe >log.reduce 2>&1\n"
     ]
    }
   ],
   "source": [
    "# run simulation and reduction\n",
    "!make"
   ]
  },
  {
   "cell_type": "code",
   "execution_count": 28,
   "metadata": {
    "collapsed": true
   },
   "outputs": [
    {
     "name": "stdout",
     "output_type": "stream",
     "text": [
      "plot z in (0, 0.01)\n"
     ]
    },
    {
     "data": {
      "image/png": "[encoded data removed]",
      "text/plain": [
       "<matplotlib.figure.Figure at 0x7f775c5b9c10>"
      ]
     },
     "metadata": {},
     "output_type": "display_data"
    },
    {
     "data": {
      "image/png": "[encoded data removed]",
      "text/plain": [
       "<matplotlib.figure.Figure at 0x7f775c35fa90>"
      ]
     },
     "metadata": {},
     "output_type": "display_data"
    }
   ],
   "source": [
    "# plot\n",
    "iqe = hh.load(\"iqe.h5\")\n",
    "H.plot(iqe, min=0, max=1e-2)"
   ]
  }
 ],
 "metadata": {
  "kernelspec": {
   "display_name": "python2-default at jnrk-sns-analysis",
   "language": "python",
   "name": "jnrk-sns-analysis-python2-default"
  },
  "language_info": {
   "codemirror_mode": {
    "name": "ipython",
    "version": 2
   },
   "file_extension": ".py",
   "mimetype": "text/x-python",
   "name": "python",
   "nbconvert_exporter": "python",
   "pygments_lexer": "ipython2",
   "version": "2.7.12"
  }
 },
 "nbformat": 4,
 "nbformat_minor": 0
}
