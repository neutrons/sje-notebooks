{
 "cells": [
  {
   "cell_type": "markdown",
   "metadata": {},
   "source": [
    "# Work dir"
   ]
  },
  {
   "cell_type": "code",
   "execution_count": 1,
   "metadata": {
    "collapsed": false
   },
   "outputs": [
    {
     "data": {
      "text/plain": [
       "u'/SNS/users/lj7/notebooks/.rk-work/jnrk-sns-analysis-python2-default'"
      ]
     },
     "execution_count": 1,
     "metadata": {},
     "output_type": "execute_result"
    }
   ],
   "source": [
    "pwd"
   ]
  },
  {
   "cell_type": "code",
   "execution_count": 4,
   "metadata": {
    "collapsed": true
   },
   "outputs": [],
   "source": [
    "workdir = \"/SNS/users/lj7/reduction/SEQ/17106/\""
   ]
  },
  {
   "cell_type": "code",
   "execution_count": 6,
   "metadata": {
    "collapsed": true
   },
   "outputs": [],
   "source": [
    "mkdir -p {workdir}"
   ]
  },
  {
   "cell_type": "code",
   "execution_count": 7,
   "metadata": {
    "collapsed": false
   },
   "outputs": [
    {
     "name": "stdout",
     "output_type": "stream",
     "text": [
      "/SNS/users/lj7/reduction/SEQ/17106\n"
     ]
    }
   ],
   "source": [
    "cd {workdir}"
   ]
  },
  {
   "cell_type": "markdown",
   "metadata": {},
   "source": [
    "# Utils"
   ]
  },
  {
   "cell_type": "code",
   "execution_count": 8,
   "metadata": {
    "collapsed": true
   },
   "outputs": [],
   "source": [
    "import  mantid.simpleapi as msa"
   ]
  },
  {
   "cell_type": "code",
   "execution_count": 9,
   "metadata": {
    "collapsed": true
   },
   "outputs": [],
   "source": [
    "import glob, os, numpy as np"
   ]
  },
  {
   "cell_type": "code",
   "execution_count": 10,
   "metadata": {
    "collapsed": true
   },
   "outputs": [],
   "source": [
    "from matplotlib import pyplot as plt"
   ]
  },
  {
   "cell_type": "code",
   "execution_count": 11,
   "metadata": {
    "collapsed": true
   },
   "outputs": [],
   "source": [
    "%matplotlib notebook"
   ]
  },
  {
   "cell_type": "markdown",
   "metadata": {},
   "source": [
    "# Data inputs"
   ]
  },
  {
   "cell_type": "code",
   "execution_count": 12,
   "metadata": {
    "collapsed": false
   },
   "outputs": [],
   "source": [
    "dir = \"/SNS/SEQ/IPTS-17106/nexus/\""
   ]
  },
  {
   "cell_type": "code",
   "execution_count": 13,
   "metadata": {
    "collapsed": false
   },
   "outputs": [
    {
     "data": {
      "text/plain": [
       "'/SNS/SEQ/IPTS-17106/nexus/'"
      ]
     },
     "execution_count": 13,
     "metadata": {},
     "output_type": "execute_result"
    }
   ],
   "source": [
    "dir"
   ]
  },
  {
   "cell_type": "code",
   "execution_count": 18,
   "metadata": {
    "collapsed": true
   },
   "outputs": [],
   "source": [
    "files1 = [os.path.join(dir, 'SEQ_%s.nxs.h5' % r) for r in range(117510,117594)]"
   ]
  },
  {
   "cell_type": "code",
   "execution_count": 17,
   "metadata": {
    "collapsed": false
   },
   "outputs": [
    {
     "name": "stdout",
     "output_type": "stream",
     "text": [
      "-rw-rw-r-- 1 snsdata adara 57836671 Dec  1 05:46 /SNS/SEQ/IPTS-17106/nexus/SEQ_117510.nxs.h5\r\n"
     ]
    }
   ],
   "source": [
    "ls -l {files1[0]}"
   ]
  },
  {
   "cell_type": "code",
   "execution_count": 19,
   "metadata": {
    "collapsed": true
   },
   "outputs": [],
   "source": [
    "files2 = [os.path.join(dir, 'SEQ_%s.nxs.h5' % r) for r in range(117602,117608)]"
   ]
  },
  {
   "cell_type": "code",
   "execution_count": 20,
   "metadata": {
    "collapsed": true
   },
   "outputs": [],
   "source": [
    "files = files1 + files2"
   ]
  },
  {
   "cell_type": "code",
   "execution_count": 21,
   "metadata": {
    "collapsed": false
   },
   "outputs": [
    {
     "data": {
      "text/plain": [
       "90"
      ]
     },
     "execution_count": 21,
     "metadata": {},
     "output_type": "execute_result"
    }
   ],
   "source": [
    "len(files)"
   ]
  },
  {
   "cell_type": "markdown",
   "metadata": {},
   "source": [
    "# Analysis"
   ]
  },
  {
   "cell_type": "markdown",
   "metadata": {},
   "source": [
    "### Load data"
   ]
  },
  {
   "cell_type": "code",
   "execution_count": 22,
   "metadata": {
    "collapsed": false
   },
   "outputs": [],
   "source": [
    "ws = msa.Load(','.join(files))"
   ]
  },
  {
   "cell_type": "markdown",
   "metadata": {},
   "source": [
    "### Get t0"
   ]
  },
  {
   "cell_type": "code",
   "execution_count": 27,
   "metadata": {
    "collapsed": false
   },
   "outputs": [],
   "source": [
    "mon = msa.LoadNexusMonitors(\"SEQ_117520\")"
   ]
  },
  {
   "cell_type": "code",
   "execution_count": 32,
   "metadata": {
    "collapsed": false
   },
   "outputs": [],
   "source": [
    "Ei,t0 = msa.GetEiT0atSNS(mon, 75)"
   ]
  },
  {
   "cell_type": "code",
   "execution_count": 33,
   "metadata": {
    "collapsed": false
   },
   "outputs": [
    {
     "name": "stdout",
     "output_type": "stream",
     "text": [
      "74.853416482 35.1202165008\n"
     ]
    }
   ],
   "source": [
    "print Ei, t0"
   ]
  },
  {
   "cell_type": "markdown",
   "metadata": {},
   "source": [
    "### Shift all of the time-of-flights by the t0 value just determined\n"
   ]
  },
  {
   "cell_type": "code",
   "execution_count": 34,
   "metadata": {
    "collapsed": false
   },
   "outputs": [],
   "source": [
    "ws = msa.ChangeBinOffset(ws,-t0)"
   ]
  },
  {
   "cell_type": "markdown",
   "metadata": {},
   "source": [
    "### TOF window?"
   ]
  },
  {
   "cell_type": "code",
   "execution_count": 35,
   "metadata": {
    "collapsed": false
   },
   "outputs": [
    {
     "data": {
      "text/plain": [
       "EventWorkspace\n",
       "Title: NCMIstrainglass, T=300K, Ei75 Fch1=240, T0=60\n",
       "Histograms: 115712\n",
       "Bins: 1\n",
       "Histogram\n",
       "X axis: Time-of-flight / microsecond\n",
       "Y axis: Counts\n",
       "Distribution: False\n",
       "Instrument: SEQUOIA (2012-Apr-04 to 2100-Jan-31)Instrument from: /SNS/SEQ/IPTS-17106/nexus/SEQ_117510.nxs.h5\n",
       "\n",
       "Parameters from: /SNS/software/miniconda2/envs/py2/instrument/SEQUOIA_Parameters.xml\n",
       "Run start: 2016-Dec-01 10:39:58\n",
       "Run end:  2016-Dec-01 10:46:42\n",
       "\n",
       "Events: 1592053"
      ]
     },
     "execution_count": 35,
     "metadata": {},
     "output_type": "execute_result"
    }
   ],
   "source": [
    "ws[0]"
   ]
  },
  {
   "cell_type": "code",
   "execution_count": 36,
   "metadata": {
    "collapsed": false
   },
   "outputs": [],
   "source": [
    "tofhist = msa.Rebin(InputWorkspace=ws[0], OutputWorkspace='tofws', Params=\"1000,100,10000\")"
   ]
  },
  {
   "cell_type": "code",
   "execution_count": 37,
   "metadata": {
    "collapsed": false
   },
   "outputs": [],
   "source": [
    "stofhist = msa.SumSpectra(InputWorkspace='tofws', OutputWorkspace='stofws')"
   ]
  },
  {
   "cell_type": "code",
   "execution_count": 38,
   "metadata": {
    "collapsed": false
   },
   "outputs": [
    {
     "data": {
      "text/plain": [
       "1"
      ]
     },
     "execution_count": 38,
     "metadata": {},
     "output_type": "execute_result"
    }
   ],
   "source": [
    "stofhist.getNumberHistograms()"
   ]
  },
  {
   "cell_type": "code",
   "execution_count": 39,
   "metadata": {
    "collapsed": false
   },
   "outputs": [],
   "source": [
    "tof = stofhist.extractX()[0]"
   ]
  },
  {
   "cell_type": "code",
   "execution_count": 40,
   "metadata": {
    "collapsed": false
   },
   "outputs": [
    {
     "data": {
      "text/plain": [
       "91"
      ]
     },
     "execution_count": 40,
     "metadata": {},
     "output_type": "execute_result"
    }
   ],
   "source": [
    "tof.size"
   ]
  },
  {
   "cell_type": "code",
   "execution_count": 41,
   "metadata": {
    "collapsed": false
   },
   "outputs": [
    {
     "data": {
      "text/plain": [
       "(91,)"
      ]
     },
     "execution_count": 41,
     "metadata": {},
     "output_type": "execute_result"
    }
   ],
   "source": [
    "tof.shape"
   ]
  },
  {
   "cell_type": "code",
   "execution_count": 42,
   "metadata": {
    "collapsed": false
   },
   "outputs": [],
   "source": [
    "tof1 = (tof[:-1]+tof[1:])/2"
   ]
  },
  {
   "cell_type": "code",
   "execution_count": 43,
   "metadata": {
    "collapsed": true
   },
   "outputs": [],
   "source": [
    "I = stofhist.extractY()[0]"
   ]
  },
  {
   "cell_type": "code",
   "execution_count": 44,
   "metadata": {
    "collapsed": false
   },
   "outputs": [
    {
     "data": {
      "application/javascript": [
       "/* Put everything inside the global mpl namespace */\n",
       "window.mpl = {};\n",
       "\n",
       "mpl.get_websocket_type = function() {\n",
       "    if (typeof(WebSocket) !== 'undefined') {\n",
       "        return WebSocket;\n",
       "    } else if (typeof(MozWebSocket) !== 'undefined') {\n",
       "        return MozWebSocket;\n",
       "    } else {\n",
       "        alert('Your browser does not have WebSocket support.' +\n",
       "              'Please try Chrome, Safari or Firefox ≥ 6. ' +\n",
       "              'Firefox 4 and 5 are also supported but you ' +\n",
       "              'have to enable WebSockets in about:config.');\n",
       "    };\n",
       "}\n",
       "\n",
       "mpl.figure = function(figure_id, websocket, ondownload, parent_element) {\n",
       "    this.id = figure_id;\n",
       "\n",
       "    this.ws = websocket;\n",
       "\n",
       "    this.supports_binary = (this.ws.binaryType != undefined);\n",
       "\n",
       "    if (!this.supports_binary) {\n",
       "        var warnings = document.getElementById(\"mpl-warnings\");\n",
       "        if (warnings) {\n",
       "            warnings.style.display = 'block';\n",
       "            warnings.textContent = (\n",
       "                \"This browser does not support binary websocket messages. \" +\n",
       "                    \"Performance may be slow.\");\n",
       "        }\n",
       "    }\n",
       "\n",
       "    this.imageObj = new Image();\n",
       "\n",
       "    this.context = undefined;\n",
       "    this.message = undefined;\n",
       "    this.canvas = undefined;\n",
       "    this.rubberband_canvas = undefined;\n",
       "    this.rubberband_context = undefined;\n",
       "    this.format_dropdown = undefined;\n",
       "\n",
       "    this.image_mode = 'full';\n",
       "\n",
       "    this.root = $('<div/>');\n",
       "    this._root_extra_style(this.root)\n",
       "    this.root.attr('style', 'display: inline-block');\n",
       "\n",
       "    $(parent_element).append(this.root);\n",
       "\n",
       "    this._init_header(this);\n",
       "    this._init_canvas(this);\n",
       "    this._init_toolbar(this);\n",
       "\n",
       "    var fig = this;\n",
       "\n",
       "    this.waiting = false;\n",
       "\n",
       "    this.ws.onopen =  function () {\n",
       "            fig.send_message(\"supports_binary\", {value: fig.supports_binary});\n",
       "            fig.send_message(\"send_image_mode\", {});\n",
       "            fig.send_message(\"refresh\", {});\n",
       "        }\n",
       "\n",
       "    this.imageObj.onload = function() {\n",
       "            if (fig.image_mode == 'full') {\n",
       "                // Full images could contain transparency (where diff images\n",
       "                // almost always do), so we need to clear the canvas so that\n",
       "                // there is no ghosting.\n",
       "                fig.context.clearRect(0, 0, fig.canvas.width, fig.canvas.height);\n",
       "            }\n",
       "            fig.context.drawImage(fig.imageObj, 0, 0);\n",
       "        };\n",
       "\n",
       "    this.imageObj.onunload = function() {\n",
       "        this.ws.close();\n",
       "    }\n",
       "\n",
       "    this.ws.onmessage = this._make_on_message_function(this);\n",
       "\n",
       "    this.ondownload = ondownload;\n",
       "}\n",
       "\n",
       "mpl.figure.prototype._init_header = function() {\n",
       "    var titlebar = $(\n",
       "        '<div class=\"ui-dialog-titlebar ui-widget-header ui-corner-all ' +\n",
       "        'ui-helper-clearfix\"/>');\n",
       "    var titletext = $(\n",
       "        '<div class=\"ui-dialog-title\" style=\"width: 100%; ' +\n",
       "        'text-align: center; padding: 3px;\"/>');\n",
       "    titlebar.append(titletext)\n",
       "    this.root.append(titlebar);\n",
       "    this.header = titletext[0];\n",
       "}\n",
       "\n",
       "\n",
       "\n",
       "mpl.figure.prototype._canvas_extra_style = function(canvas_div) {\n",
       "\n",
       "}\n",
       "\n",
       "\n",
       "mpl.figure.prototype._root_extra_style = function(canvas_div) {\n",
       "\n",
       "}\n",
       "\n",
       "mpl.figure.prototype._init_canvas = function() {\n",
       "    var fig = this;\n",
       "\n",
       "    var canvas_div = $('<div/>');\n",
       "\n",
       "    canvas_div.attr('style', 'position: relative; clear: both; outline: 0');\n",
       "\n",
       "    function canvas_keyboard_event(event) {\n",
       "        return fig.key_event(event, event['data']);\n",
       "    }\n",
       "\n",
       "    canvas_div.keydown('key_press', canvas_keyboard_event);\n",
       "    canvas_div.keyup('key_release', canvas_keyboard_event);\n",
       "    this.canvas_div = canvas_div\n",
       "    this._canvas_extra_style(canvas_div)\n",
       "    this.root.append(canvas_div);\n",
       "\n",
       "    var canvas = $('<canvas/>');\n",
       "    canvas.addClass('mpl-canvas');\n",
       "    canvas.attr('style', \"left: 0; top: 0; z-index: 0; outline: 0\")\n",
       "\n",
       "    this.canvas = canvas[0];\n",
       "    this.context = canvas[0].getContext(\"2d\");\n",
       "\n",
       "    var rubberband = $('<canvas/>');\n",
       "    rubberband.attr('style', \"position: absolute; left: 0; top: 0; z-index: 1;\")\n",
       "\n",
       "    var pass_mouse_events = true;\n",
       "\n",
       "    canvas_div.resizable({\n",
       "        start: function(event, ui) {\n",
       "            pass_mouse_events = false;\n",
       "        },\n",
       "        resize: function(event, ui) {\n",
       "            fig.request_resize(ui.size.width, ui.size.height);\n",
       "        },\n",
       "        stop: function(event, ui) {\n",
       "            pass_mouse_events = true;\n",
       "            fig.request_resize(ui.size.width, ui.size.height);\n",
       "        },\n",
       "    });\n",
       "\n",
       "    function mouse_event_fn(event) {\n",
       "        if (pass_mouse_events)\n",
       "            return fig.mouse_event(event, event['data']);\n",
       "    }\n",
       "\n",
       "    rubberband.mousedown('button_press', mouse_event_fn);\n",
       "    rubberband.mouseup('button_release', mouse_event_fn);\n",
       "    // Throttle sequential mouse events to 1 every 20ms.\n",
       "    rubberband.mousemove('motion_notify', mouse_event_fn);\n",
       "\n",
       "    rubberband.mouseenter('figure_enter', mouse_event_fn);\n",
       "    rubberband.mouseleave('figure_leave', mouse_event_fn);\n",
       "\n",
       "    canvas_div.on(\"wheel\", function (event) {\n",
       "        event = event.originalEvent;\n",
       "        event['data'] = 'scroll'\n",
       "        if (event.deltaY < 0) {\n",
       "            event.step = 1;\n",
       "        } else {\n",
       "            event.step = -1;\n",
       "        }\n",
       "        mouse_event_fn(event);\n",
       "    });\n",
       "\n",
       "    canvas_div.append(canvas);\n",
       "    canvas_div.append(rubberband);\n",
       "\n",
       "    this.rubberband = rubberband;\n",
       "    this.rubberband_canvas = rubberband[0];\n",
       "    this.rubberband_context = rubberband[0].getContext(\"2d\");\n",
       "    this.rubberband_context.strokeStyle = \"#000000\";\n",
       "\n",
       "    this._resize_canvas = function(width, height) {\n",
       "        // Keep the size of the canvas, canvas container, and rubber band\n",
       "        // canvas in synch.\n",
       "        canvas_div.css('width', width)\n",
       "        canvas_div.css('height', height)\n",
       "\n",
       "        canvas.attr('width', width);\n",
       "        canvas.attr('height', height);\n",
       "\n",
       "        rubberband.attr('width', width);\n",
       "        rubberband.attr('height', height);\n",
       "    }\n",
       "\n",
       "    // Set the figure to an initial 600x600px, this will subsequently be updated\n",
       "    // upon first draw.\n",
       "    this._resize_canvas(600, 600);\n",
       "\n",
       "    // Disable right mouse context menu.\n",
       "    $(this.rubberband_canvas).bind(\"contextmenu\",function(e){\n",
       "        return false;\n",
       "    });\n",
       "\n",
       "    function set_focus () {\n",
       "        canvas.focus();\n",
       "        canvas_div.focus();\n",
       "    }\n",
       "\n",
       "    window.setTimeout(set_focus, 100);\n",
       "}\n",
       "\n",
       "mpl.figure.prototype._init_toolbar = function() {\n",
       "    var fig = this;\n",
       "\n",
       "    var nav_element = $('<div/>')\n",
       "    nav_element.attr('style', 'width: 100%');\n",
       "    this.root.append(nav_element);\n",
       "\n",
       "    // Define a callback function for later on.\n",
       "    function toolbar_event(event) {\n",
       "        return fig.toolbar_button_onclick(event['data']);\n",
       "    }\n",
       "    function toolbar_mouse_event(event) {\n",
       "        return fig.toolbar_button_onmouseover(event['data']);\n",
       "    }\n",
       "\n",
       "    for(var toolbar_ind in mpl.toolbar_items) {\n",
       "        var name = mpl.toolbar_items[toolbar_ind][0];\n",
       "        var tooltip = mpl.toolbar_items[toolbar_ind][1];\n",
       "        var image = mpl.toolbar_items[toolbar_ind][2];\n",
       "        var method_name = mpl.toolbar_items[toolbar_ind][3];\n",
       "\n",
       "        if (!name) {\n",
       "            // put a spacer in here.\n",
       "            continue;\n",
       "        }\n",
       "        var button = $('<button/>');\n",
       "        button.addClass('ui-button ui-widget ui-state-default ui-corner-all ' +\n",
       "                        'ui-button-icon-only');\n",
       "        button.attr('role', 'button');\n",
       "        button.attr('aria-disabled', 'false');\n",
       "        button.click(method_name, toolbar_event);\n",
       "        button.mouseover(tooltip, toolbar_mouse_event);\n",
       "\n",
       "        var icon_img = $('<span/>');\n",
       "        icon_img.addClass('ui-button-icon-primary ui-icon');\n",
       "        icon_img.addClass(image);\n",
       "        icon_img.addClass('ui-corner-all');\n",
       "\n",
       "        var tooltip_span = $('<span/>');\n",
       "        tooltip_span.addClass('ui-button-text');\n",
       "        tooltip_span.html(tooltip);\n",
       "\n",
       "        button.append(icon_img);\n",
       "        button.append(tooltip_span);\n",
       "\n",
       "        nav_element.append(button);\n",
       "    }\n",
       "\n",
       "    var fmt_picker_span = $('<span/>');\n",
       "\n",
       "    var fmt_picker = $('<select/>');\n",
       "    fmt_picker.addClass('mpl-toolbar-option ui-widget ui-widget-content');\n",
       "    fmt_picker_span.append(fmt_picker);\n",
       "    nav_element.append(fmt_picker_span);\n",
       "    this.format_dropdown = fmt_picker[0];\n",
       "\n",
       "    for (var ind in mpl.extensions) {\n",
       "        var fmt = mpl.extensions[ind];\n",
       "        var option = $(\n",
       "            '<option/>', {selected: fmt === mpl.default_extension}).html(fmt);\n",
       "        fmt_picker.append(option)\n",
       "    }\n",
       "\n",
       "    // Add hover states to the ui-buttons\n",
       "    $( \".ui-button\" ).hover(\n",
       "        function() { $(this).addClass(\"ui-state-hover\");},\n",
       "        function() { $(this).removeClass(\"ui-state-hover\");}\n",
       "    );\n",
       "\n",
       "    var status_bar = $('<span class=\"mpl-message\"/>');\n",
       "    nav_element.append(status_bar);\n",
       "    this.message = status_bar[0];\n",
       "}\n",
       "\n",
       "mpl.figure.prototype.request_resize = function(x_pixels, y_pixels) {\n",
       "    // Request matplotlib to resize the figure. Matplotlib will then trigger a resize in the client,\n",
       "    // which will in turn request a refresh of the image.\n",
       "    this.send_message('resize', {'width': x_pixels, 'height': y_pixels});\n",
       "}\n",
       "\n",
       "mpl.figure.prototype.send_message = function(type, properties) {\n",
       "    properties['type'] = type;\n",
       "    properties['figure_id'] = this.id;\n",
       "    this.ws.send(JSON.stringify(properties));\n",
       "}\n",
       "\n",
       "mpl.figure.prototype.send_draw_message = function() {\n",
       "    if (!this.waiting) {\n",
       "        this.waiting = true;\n",
       "        this.ws.send(JSON.stringify({type: \"draw\", figure_id: this.id}));\n",
       "    }\n",
       "}\n",
       "\n",
       "\n",
       "mpl.figure.prototype.handle_save = function(fig, msg) {\n",
       "    var format_dropdown = fig.format_dropdown;\n",
       "    var format = format_dropdown.options[format_dropdown.selectedIndex].value;\n",
       "    fig.ondownload(fig, format);\n",
       "}\n",
       "\n",
       "\n",
       "mpl.figure.prototype.handle_resize = function(fig, msg) {\n",
       "    var size = msg['size'];\n",
       "    if (size[0] != fig.canvas.width || size[1] != fig.canvas.height) {\n",
       "        fig._resize_canvas(size[0], size[1]);\n",
       "        fig.send_message(\"refresh\", {});\n",
       "    };\n",
       "}\n",
       "\n",
       "mpl.figure.prototype.handle_rubberband = function(fig, msg) {\n",
       "    var x0 = msg['x0'];\n",
       "    var y0 = fig.canvas.height - msg['y0'];\n",
       "    var x1 = msg['x1'];\n",
       "    var y1 = fig.canvas.height - msg['y1'];\n",
       "    x0 = Math.floor(x0) + 0.5;\n",
       "    y0 = Math.floor(y0) + 0.5;\n",
       "    x1 = Math.floor(x1) + 0.5;\n",
       "    y1 = Math.floor(y1) + 0.5;\n",
       "    var min_x = Math.min(x0, x1);\n",
       "    var min_y = Math.min(y0, y1);\n",
       "    var width = Math.abs(x1 - x0);\n",
       "    var height = Math.abs(y1 - y0);\n",
       "\n",
       "    fig.rubberband_context.clearRect(\n",
       "        0, 0, fig.canvas.width, fig.canvas.height);\n",
       "\n",
       "    fig.rubberband_context.strokeRect(min_x, min_y, width, height);\n",
       "}\n",
       "\n",
       "mpl.figure.prototype.handle_figure_label = function(fig, msg) {\n",
       "    // Updates the figure title.\n",
       "    fig.header.textContent = msg['label'];\n",
       "}\n",
       "\n",
       "mpl.figure.prototype.handle_cursor = function(fig, msg) {\n",
       "    var cursor = msg['cursor'];\n",
       "    switch(cursor)\n",
       "    {\n",
       "    case 0:\n",
       "        cursor = 'pointer';\n",
       "        break;\n",
       "    case 1:\n",
       "        cursor = 'default';\n",
       "        break;\n",
       "    case 2:\n",
       "        cursor = 'crosshair';\n",
       "        break;\n",
       "    case 3:\n",
       "        cursor = 'move';\n",
       "        break;\n",
       "    }\n",
       "    fig.rubberband_canvas.style.cursor = cursor;\n",
       "}\n",
       "\n",
       "mpl.figure.prototype.handle_message = function(fig, msg) {\n",
       "    fig.message.textContent = msg['message'];\n",
       "}\n",
       "\n",
       "mpl.figure.prototype.handle_draw = function(fig, msg) {\n",
       "    // Request the server to send over a new figure.\n",
       "    fig.send_draw_message();\n",
       "}\n",
       "\n",
       "mpl.figure.prototype.handle_image_mode = function(fig, msg) {\n",
       "    fig.image_mode = msg['mode'];\n",
       "}\n",
       "\n",
       "mpl.figure.prototype.updated_canvas_event = function() {\n",
       "    // Called whenever the canvas gets updated.\n",
       "    this.send_message(\"ack\", {});\n",
       "}\n",
       "\n",
       "// A function to construct a web socket function for onmessage handling.\n",
       "// Called in the figure constructor.\n",
       "mpl.figure.prototype._make_on_message_function = function(fig) {\n",
       "    return function socket_on_message(evt) {\n",
       "        if (evt.data instanceof Blob) {\n",
       "            /* FIXME: We get \"Resource interpreted as Image but\n",
       "             * transferred with MIME type text/plain:\" errors on\n",
       "             * Chrome.  But how to set the MIME type?  It doesn't seem\n",
       "             * to be part of the websocket stream */\n",
       "            evt.data.type = \"image/png\";\n",
       "\n",
       "            /* Free the memory for the previous frames */\n",
       "            if (fig.imageObj.src) {\n",
       "                (window.URL || window.webkitURL).revokeObjectURL(\n",
       "                    fig.imageObj.src);\n",
       "            }\n",
       "\n",
       "            fig.imageObj.src = (window.URL || window.webkitURL).createObjectURL(\n",
       "                evt.data);\n",
       "            fig.updated_canvas_event();\n",
       "            fig.waiting = false;\n",
       "            return;\n",
       "        }\n",
       "        else if (typeof evt.data === 'string' && evt.data.slice(0, 21) == \"data:image/png;base64\") {\n",
       "            fig.imageObj.src = evt.data;\n",
       "            fig.updated_canvas_event();\n",
       "            fig.waiting = false;\n",
       "            return;\n",
       "        }\n",
       "\n",
       "        var msg = JSON.parse(evt.data);\n",
       "        var msg_type = msg['type'];\n",
       "\n",
       "        // Call the  \"handle_{type}\" callback, which takes\n",
       "        // the figure and JSON message as its only arguments.\n",
       "        try {\n",
       "            var callback = fig[\"handle_\" + msg_type];\n",
       "        } catch (e) {\n",
       "            console.log(\"No handler for the '\" + msg_type + \"' message type: \", msg);\n",
       "            return;\n",
       "        }\n",
       "\n",
       "        if (callback) {\n",
       "            try {\n",
       "                // console.log(\"Handling '\" + msg_type + \"' message: \", msg);\n",
       "                callback(fig, msg);\n",
       "            } catch (e) {\n",
       "                console.log(\"Exception inside the 'handler_\" + msg_type + \"' callback:\", e, e.stack, msg);\n",
       "            }\n",
       "        }\n",
       "    };\n",
       "}\n",
       "\n",
       "// from http://stackoverflow.com/questions/1114465/getting-mouse-location-in-canvas\n",
       "mpl.findpos = function(e) {\n",
       "    //this section is from http://www.quirksmode.org/js/events_properties.html\n",
       "    var targ;\n",
       "    if (!e)\n",
       "        e = window.event;\n",
       "    if (e.target)\n",
       "        targ = e.target;\n",
       "    else if (e.srcElement)\n",
       "        targ = e.srcElement;\n",
       "    if (targ.nodeType == 3) // defeat Safari bug\n",
       "        targ = targ.parentNode;\n",
       "\n",
       "    // jQuery normalizes the pageX and pageY\n",
       "    // pageX,Y are the mouse positions relative to the document\n",
       "    // offset() returns the position of the element relative to the document\n",
       "    var x = e.pageX - $(targ).offset().left;\n",
       "    var y = e.pageY - $(targ).offset().top;\n",
       "\n",
       "    return {\"x\": x, \"y\": y};\n",
       "};\n",
       "\n",
       "/*\n",
       " * return a copy of an object with only non-object keys\n",
       " * we need this to avoid circular references\n",
       " * http://stackoverflow.com/a/24161582/3208463\n",
       " */\n",
       "function simpleKeys (original) {\n",
       "  return Object.keys(original).reduce(function (obj, key) {\n",
       "    if (typeof original[key] !== 'object')\n",
       "        obj[key] = original[key]\n",
       "    return obj;\n",
       "  }, {});\n",
       "}\n",
       "\n",
       "mpl.figure.prototype.mouse_event = function(event, name) {\n",
       "    var canvas_pos = mpl.findpos(event)\n",
       "\n",
       "    if (name === 'button_press')\n",
       "    {\n",
       "        this.canvas.focus();\n",
       "        this.canvas_div.focus();\n",
       "    }\n",
       "\n",
       "    var x = canvas_pos.x;\n",
       "    var y = canvas_pos.y;\n",
       "\n",
       "    this.send_message(name, {x: x, y: y, button: event.button,\n",
       "                             step: event.step,\n",
       "                             guiEvent: simpleKeys(event)});\n",
       "\n",
       "    /* This prevents the web browser from automatically changing to\n",
       "     * the text insertion cursor when the button is pressed.  We want\n",
       "     * to control all of the cursor setting manually through the\n",
       "     * 'cursor' event from matplotlib */\n",
       "    event.preventDefault();\n",
       "    return false;\n",
       "}\n",
       "\n",
       "mpl.figure.prototype._key_event_extra = function(event, name) {\n",
       "    // Handle any extra behaviour associated with a key event\n",
       "}\n",
       "\n",
       "mpl.figure.prototype.key_event = function(event, name) {\n",
       "\n",
       "    // Prevent repeat events\n",
       "    if (name == 'key_press')\n",
       "    {\n",
       "        if (event.which === this._key)\n",
       "            return;\n",
       "        else\n",
       "            this._key = event.which;\n",
       "    }\n",
       "    if (name == 'key_release')\n",
       "        this._key = null;\n",
       "\n",
       "    var value = '';\n",
       "    if (event.ctrlKey && event.which != 17)\n",
       "        value += \"ctrl+\";\n",
       "    if (event.altKey && event.which != 18)\n",
       "        value += \"alt+\";\n",
       "    if (event.shiftKey && event.which != 16)\n",
       "        value += \"shift+\";\n",
       "\n",
       "    value += 'k';\n",
       "    value += event.which.toString();\n",
       "\n",
       "    this._key_event_extra(event, name);\n",
       "\n",
       "    this.send_message(name, {key: value,\n",
       "                             guiEvent: simpleKeys(event)});\n",
       "    return false;\n",
       "}\n",
       "\n",
       "mpl.figure.prototype.toolbar_button_onclick = function(name) {\n",
       "    if (name == 'download') {\n",
       "        this.handle_save(this, null);\n",
       "    } else {\n",
       "        this.send_message(\"toolbar_button\", {name: name});\n",
       "    }\n",
       "};\n",
       "\n",
       "mpl.figure.prototype.toolbar_button_onmouseover = function(tooltip) {\n",
       "    this.message.textContent = tooltip;\n",
       "};\n",
       "mpl.toolbar_items = [[\"Home\", \"Reset original view\", \"fa fa-home icon-home\", \"home\"], [\"Back\", \"Back to  previous view\", \"fa fa-arrow-left icon-arrow-left\", \"back\"], [\"Forward\", \"Forward to next view\", \"fa fa-arrow-right icon-arrow-right\", \"forward\"], [\"\", \"\", \"\", \"\"], [\"Pan\", \"Pan axes with left mouse, zoom with right\", \"fa fa-arrows icon-move\", \"pan\"], [\"Zoom\", \"Zoom to rectangle\", \"fa fa-square-o icon-check-empty\", \"zoom\"], [\"\", \"\", \"\", \"\"], [\"Download\", \"Download plot\", \"fa fa-floppy-o icon-save\", \"download\"]];\n",
       "\n",
       "mpl.extensions = [\"eps\", \"pdf\", \"png\", \"ps\", \"raw\", \"svg\"];\n",
       "\n",
       "mpl.default_extension = \"png\";var comm_websocket_adapter = function(comm) {\n",
       "    // Create a \"websocket\"-like object which calls the given IPython comm\n",
       "    // object with the appropriate methods. Currently this is a non binary\n",
       "    // socket, so there is still some room for performance tuning.\n",
       "    var ws = {};\n",
       "\n",
       "    ws.close = function() {\n",
       "        comm.close()\n",
       "    };\n",
       "    ws.send = function(m) {\n",
       "        //console.log('sending', m);\n",
       "        comm.send(m);\n",
       "    };\n",
       "    // Register the callback with on_msg.\n",
       "    comm.on_msg(function(msg) {\n",
       "        //console.log('receiving', msg['content']['data'], msg);\n",
       "        // Pass the mpl event to the overriden (by mpl) onmessage function.\n",
       "        ws.onmessage(msg['content']['data'])\n",
       "    });\n",
       "    return ws;\n",
       "}\n",
       "\n",
       "mpl.mpl_figure_comm = function(comm, msg) {\n",
       "    // This is the function which gets called when the mpl process\n",
       "    // starts-up an IPython Comm through the \"matplotlib\" channel.\n",
       "\n",
       "    var id = msg.content.data.id;\n",
       "    // Get hold of the div created by the display call when the Comm\n",
       "    // socket was opened in Python.\n",
       "    var element = $(\"#\" + id);\n",
       "    var ws_proxy = comm_websocket_adapter(comm)\n",
       "\n",
       "    function ondownload(figure, format) {\n",
       "        window.open(figure.imageObj.src);\n",
       "    }\n",
       "\n",
       "    var fig = new mpl.figure(id, ws_proxy,\n",
       "                           ondownload,\n",
       "                           element.get(0));\n",
       "\n",
       "    // Call onopen now - mpl needs it, as it is assuming we've passed it a real\n",
       "    // web socket which is closed, not our websocket->open comm proxy.\n",
       "    ws_proxy.onopen();\n",
       "\n",
       "    fig.parent_element = element.get(0);\n",
       "    fig.cell_info = mpl.find_output_cell(\"<div id='\" + id + \"'></div>\");\n",
       "    if (!fig.cell_info) {\n",
       "        console.error(\"Failed to find cell for figure\", id, fig);\n",
       "        return;\n",
       "    }\n",
       "\n",
       "    var output_index = fig.cell_info[2]\n",
       "    var cell = fig.cell_info[0];\n",
       "\n",
       "};\n",
       "\n",
       "mpl.figure.prototype.handle_close = function(fig, msg) {\n",
       "    fig.root.unbind('remove')\n",
       "\n",
       "    // Update the output cell to use the data from the current canvas.\n",
       "    fig.push_to_output();\n",
       "    var dataURL = fig.canvas.toDataURL();\n",
       "    // Re-enable the keyboard manager in IPython - without this line, in FF,\n",
       "    // the notebook keyboard shortcuts fail.\n",
       "    IPython.keyboard_manager.enable()\n",
       "    $(fig.parent_element).html('<img src=\"' + dataURL + '\">');\n",
       "    fig.close_ws(fig, msg);\n",
       "}\n",
       "\n",
       "mpl.figure.prototype.close_ws = function(fig, msg){\n",
       "    fig.send_message('closing', msg);\n",
       "    // fig.ws.close()\n",
       "}\n",
       "\n",
       "mpl.figure.prototype.push_to_output = function(remove_interactive) {\n",
       "    // Turn the data on the canvas into data in the output cell.\n",
       "    var dataURL = this.canvas.toDataURL();\n",
       "    this.cell_info[1]['text/html'] = '<img src=\"' + dataURL + '\">';\n",
       "}\n",
       "\n",
       "mpl.figure.prototype.updated_canvas_event = function() {\n",
       "    // Tell IPython that the notebook contents must change.\n",
       "    IPython.notebook.set_dirty(true);\n",
       "    this.send_message(\"ack\", {});\n",
       "    var fig = this;\n",
       "    // Wait a second, then push the new image to the DOM so\n",
       "    // that it is saved nicely (might be nice to debounce this).\n",
       "    setTimeout(function () { fig.push_to_output() }, 1000);\n",
       "}\n",
       "\n",
       "mpl.figure.prototype._init_toolbar = function() {\n",
       "    var fig = this;\n",
       "\n",
       "    var nav_element = $('<div/>')\n",
       "    nav_element.attr('style', 'width: 100%');\n",
       "    this.root.append(nav_element);\n",
       "\n",
       "    // Define a callback function for later on.\n",
       "    function toolbar_event(event) {\n",
       "        return fig.toolbar_button_onclick(event['data']);\n",
       "    }\n",
       "    function toolbar_mouse_event(event) {\n",
       "        return fig.toolbar_button_onmouseover(event['data']);\n",
       "    }\n",
       "\n",
       "    for(var toolbar_ind in mpl.toolbar_items){\n",
       "        var name = mpl.toolbar_items[toolbar_ind][0];\n",
       "        var tooltip = mpl.toolbar_items[toolbar_ind][1];\n",
       "        var image = mpl.toolbar_items[toolbar_ind][2];\n",
       "        var method_name = mpl.toolbar_items[toolbar_ind][3];\n",
       "\n",
       "        if (!name) { continue; };\n",
       "\n",
       "        var button = $('<button class=\"btn btn-default\" href=\"#\" title=\"' + name + '\"><i class=\"fa ' + image + ' fa-lg\"></i></button>');\n",
       "        button.click(method_name, toolbar_event);\n",
       "        button.mouseover(tooltip, toolbar_mouse_event);\n",
       "        nav_element.append(button);\n",
       "    }\n",
       "\n",
       "    // Add the status bar.\n",
       "    var status_bar = $('<span class=\"mpl-message\" style=\"text-align:right; float: right;\"/>');\n",
       "    nav_element.append(status_bar);\n",
       "    this.message = status_bar[0];\n",
       "\n",
       "    // Add the close button to the window.\n",
       "    var buttongrp = $('<div class=\"btn-group inline pull-right\"></div>');\n",
       "    var button = $('<button class=\"btn btn-mini btn-primary\" href=\"#\" title=\"Stop Interaction\"><i class=\"fa fa-power-off icon-remove icon-large\"></i></button>');\n",
       "    button.click(function (evt) { fig.handle_close(fig, {}); } );\n",
       "    button.mouseover('Stop Interaction', toolbar_mouse_event);\n",
       "    buttongrp.append(button);\n",
       "    var titlebar = this.root.find($('.ui-dialog-titlebar'));\n",
       "    titlebar.prepend(buttongrp);\n",
       "}\n",
       "\n",
       "mpl.figure.prototype._root_extra_style = function(el){\n",
       "    var fig = this\n",
       "    el.on(\"remove\", function(){\n",
       "\tfig.close_ws(fig, {});\n",
       "    });\n",
       "}\n",
       "\n",
       "mpl.figure.prototype._canvas_extra_style = function(el){\n",
       "    // this is important to make the div 'focusable\n",
       "    el.attr('tabindex', 0)\n",
       "    // reach out to IPython and tell the keyboard manager to turn it's self\n",
       "    // off when our div gets focus\n",
       "\n",
       "    // location in version 3\n",
       "    if (IPython.notebook.keyboard_manager) {\n",
       "        IPython.notebook.keyboard_manager.register_events(el);\n",
       "    }\n",
       "    else {\n",
       "        // location in version 2\n",
       "        IPython.keyboard_manager.register_events(el);\n",
       "    }\n",
       "\n",
       "}\n",
       "\n",
       "mpl.figure.prototype._key_event_extra = function(event, name) {\n",
       "    var manager = IPython.notebook.keyboard_manager;\n",
       "    if (!manager)\n",
       "        manager = IPython.keyboard_manager;\n",
       "\n",
       "    // Check for shift+enter\n",
       "    if (event.shiftKey && event.which == 13) {\n",
       "        this.canvas_div.blur();\n",
       "        // select the cell after this one\n",
       "        var index = IPython.notebook.find_cell_index(this.cell_info[0]);\n",
       "        IPython.notebook.select(index + 1);\n",
       "    }\n",
       "}\n",
       "\n",
       "mpl.figure.prototype.handle_save = function(fig, msg) {\n",
       "    fig.ondownload(fig, null);\n",
       "}\n",
       "\n",
       "\n",
       "mpl.find_output_cell = function(html_output) {\n",
       "    // Return the cell and output element which can be found *uniquely* in the notebook.\n",
       "    // Note - this is a bit hacky, but it is done because the \"notebook_saving.Notebook\"\n",
       "    // IPython event is triggered only after the cells have been serialised, which for\n",
       "    // our purposes (turning an active figure into a static one), is too late.\n",
       "    var cells = IPython.notebook.get_cells();\n",
       "    var ncells = cells.length;\n",
       "    for (var i=0; i<ncells; i++) {\n",
       "        var cell = cells[i];\n",
       "        if (cell.cell_type === 'code'){\n",
       "            for (var j=0; j<cell.output_area.outputs.length; j++) {\n",
       "                var data = cell.output_area.outputs[j];\n",
       "                if (data.data) {\n",
       "                    // IPython >= 3 moved mimebundle to data attribute of output\n",
       "                    data = data.data;\n",
       "                }\n",
       "                if (data['text/html'] == html_output) {\n",
       "                    return [cell, data, j];\n",
       "                }\n",
       "            }\n",
       "        }\n",
       "    }\n",
       "}\n",
       "\n",
       "// Register the function which deals with the matplotlib target/channel.\n",
       "// The kernel may be null if the page has been refreshed.\n",
       "if (IPython.notebook.kernel != null) {\n",
       "    IPython.notebook.kernel.comm_manager.register_target('matplotlib', mpl.mpl_figure_comm);\n",
       "}\n"
      ],
      "text/plain": [
       "<IPython.core.display.Javascript object>"
      ]
     },
     "metadata": {},
     "output_type": "display_data"
    },
    {
     "data": {
      "text/html": [
       "<img src=\"data:image/png;base64,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\">"
      ],
      "text/plain": [
       "<IPython.core.display.HTML object>"
      ]
     },
     "metadata": {},
     "output_type": "display_data"
    },
    {
     "data": {
      "text/plain": [
       "[<matplotlib.lines.Line2D at 0x7fe9ed9a5550>]"
      ]
     },
     "execution_count": 44,
     "metadata": {},
     "output_type": "execute_result"
    }
   ],
   "source": [
    "plt.plot(tof1, I)"
   ]
  },
  {
   "cell_type": "code",
   "execution_count": 45,
   "metadata": {
    "collapsed": true
   },
   "outputs": [],
   "source": [
    "ws = msa.CropWorkspace(ws,XMin='6200',XMax='7700')"
   ]
  },
  {
   "cell_type": "markdown",
   "metadata": {},
   "source": [
    "### Set goniometer so that mantid know where to get psi angle"
   ]
  },
  {
   "cell_type": "code",
   "execution_count": 46,
   "metadata": {
    "collapsed": false
   },
   "outputs": [],
   "source": [
    "msa.SetGoniometer(Workspace='ws', Axis0='phi,0,1,0,1')"
   ]
  },
  {
   "cell_type": "markdown",
   "metadata": {},
   "source": [
    "### Convert to Q coordinates. still events"
   ]
  },
  {
   "cell_type": "code",
   "execution_count": 47,
   "metadata": {
    "collapsed": false
   },
   "outputs": [],
   "source": [
    "mdparts = msa.ConvertToMD(\n",
    "    InputWorkspace=ws,\n",
    "    dEAnalysisMode=\"Elastic\",\n",
    "    QDimensions='Q3D',\n",
    "    Q3DFrames=\"Q_sample\",\n",
    "    MinValues=\"-12,-12,-12,-20\",\n",
    "    MaxValues=\"12,12,12,20\")"
   ]
  },
  {
   "cell_type": "code",
   "execution_count": 48,
   "metadata": {
    "collapsed": true
   },
   "outputs": [],
   "source": [
    "msa.DeleteWorkspace('ws')"
   ]
  },
  {
   "cell_type": "code",
   "execution_count": 49,
   "metadata": {
    "collapsed": false
   },
   "outputs": [],
   "source": [
    "mdmerged = msa.MergeMD(InputWorkspaces='mdparts', OutputWorkspace='mdmerged')"
   ]
  },
  {
   "cell_type": "code",
   "execution_count": 50,
   "metadata": {
    "collapsed": true
   },
   "outputs": [],
   "source": [
    "msa.DeleteWorkspace('mdparts')"
   ]
  },
  {
   "cell_type": "code",
   "execution_count": 51,
   "metadata": {
    "collapsed": false
   },
   "outputs": [],
   "source": [
    "# mdmerged"
   ]
  },
  {
   "cell_type": "code",
   "execution_count": null,
   "metadata": {
    "collapsed": false
   },
   "outputs": [],
   "source": [
    "msa.BinMD(InputWorkspace='mdmerged', OutputWorkspace='slice', \n",
    "          AlignedDim0='Q_sample_y,-10,10,200', \n",
    "          AlignedDim1='Q_sample_z,-10,10,200',\n",
    "          AlignedDim2='Q_sample_x,-0.5,0.5,1',\n",
    "         )"
   ]
  },
  {
   "cell_type": "code",
   "execution_count": 204,
   "metadata": {
    "collapsed": true
   },
   "outputs": [],
   "source": [
    "slice = msa.mtd['slice']"
   ]
  },
  {
   "cell_type": "code",
   "execution_count": 209,
   "metadata": {
    "collapsed": false
   },
   "outputs": [],
   "source": [
    "d = slice.getSignalArray()*1.0"
   ]
  },
  {
   "cell_type": "code",
   "execution_count": 210,
   "metadata": {
    "collapsed": true
   },
   "outputs": [],
   "source": [
    "d.shape = 200,200"
   ]
  },
  {
   "cell_type": "code",
   "execution_count": 213,
   "metadata": {
    "collapsed": false
   },
   "outputs": [
    {
     "data": {
      "application/javascript": [
       "/* Put everything inside the global mpl namespace */\n",
       "window.mpl = {};\n",
       "\n",
       "mpl.get_websocket_type = function() {\n",
       "    if (typeof(WebSocket) !== 'undefined') {\n",
       "        return WebSocket;\n",
       "    } else if (typeof(MozWebSocket) !== 'undefined') {\n",
       "        return MozWebSocket;\n",
       "    } else {\n",
       "        alert('Your browser does not have WebSocket support.' +\n",
       "              'Please try Chrome, Safari or Firefox ≥ 6. ' +\n",
       "              'Firefox 4 and 5 are also supported but you ' +\n",
       "              'have to enable WebSockets in about:config.');\n",
       "    };\n",
       "}\n",
       "\n",
       "mpl.figure = function(figure_id, websocket, ondownload, parent_element) {\n",
       "    this.id = figure_id;\n",
       "\n",
       "    this.ws = websocket;\n",
       "\n",
       "    this.supports_binary = (this.ws.binaryType != undefined);\n",
       "\n",
       "    if (!this.supports_binary) {\n",
       "        var warnings = document.getElementById(\"mpl-warnings\");\n",
       "        if (warnings) {\n",
       "            warnings.style.display = 'block';\n",
       "            warnings.textContent = (\n",
       "                \"This browser does not support binary websocket messages. \" +\n",
       "                    \"Performance may be slow.\");\n",
       "        }\n",
       "    }\n",
       "\n",
       "    this.imageObj = new Image();\n",
       "\n",
       "    this.context = undefined;\n",
       "    this.message = undefined;\n",
       "    this.canvas = undefined;\n",
       "    this.rubberband_canvas = undefined;\n",
       "    this.rubberband_context = undefined;\n",
       "    this.format_dropdown = undefined;\n",
       "\n",
       "    this.image_mode = 'full';\n",
       "\n",
       "    this.root = $('<div/>');\n",
       "    this._root_extra_style(this.root)\n",
       "    this.root.attr('style', 'display: inline-block');\n",
       "\n",
       "    $(parent_element).append(this.root);\n",
       "\n",
       "    this._init_header(this);\n",
       "    this._init_canvas(this);\n",
       "    this._init_toolbar(this);\n",
       "\n",
       "    var fig = this;\n",
       "\n",
       "    this.waiting = false;\n",
       "\n",
       "    this.ws.onopen =  function () {\n",
       "            fig.send_message(\"supports_binary\", {value: fig.supports_binary});\n",
       "            fig.send_message(\"send_image_mode\", {});\n",
       "            fig.send_message(\"refresh\", {});\n",
       "        }\n",
       "\n",
       "    this.imageObj.onload = function() {\n",
       "            if (fig.image_mode == 'full') {\n",
       "                // Full images could contain transparency (where diff images\n",
       "                // almost always do), so we need to clear the canvas so that\n",
       "                // there is no ghosting.\n",
       "                fig.context.clearRect(0, 0, fig.canvas.width, fig.canvas.height);\n",
       "            }\n",
       "            fig.context.drawImage(fig.imageObj, 0, 0);\n",
       "        };\n",
       "\n",
       "    this.imageObj.onunload = function() {\n",
       "        this.ws.close();\n",
       "    }\n",
       "\n",
       "    this.ws.onmessage = this._make_on_message_function(this);\n",
       "\n",
       "    this.ondownload = ondownload;\n",
       "}\n",
       "\n",
       "mpl.figure.prototype._init_header = function() {\n",
       "    var titlebar = $(\n",
       "        '<div class=\"ui-dialog-titlebar ui-widget-header ui-corner-all ' +\n",
       "        'ui-helper-clearfix\"/>');\n",
       "    var titletext = $(\n",
       "        '<div class=\"ui-dialog-title\" style=\"width: 100%; ' +\n",
       "        'text-align: center; padding: 3px;\"/>');\n",
       "    titlebar.append(titletext)\n",
       "    this.root.append(titlebar);\n",
       "    this.header = titletext[0];\n",
       "}\n",
       "\n",
       "\n",
       "\n",
       "mpl.figure.prototype._canvas_extra_style = function(canvas_div) {\n",
       "\n",
       "}\n",
       "\n",
       "\n",
       "mpl.figure.prototype._root_extra_style = function(canvas_div) {\n",
       "\n",
       "}\n",
       "\n",
       "mpl.figure.prototype._init_canvas = function() {\n",
       "    var fig = this;\n",
       "\n",
       "    var canvas_div = $('<div/>');\n",
       "\n",
       "    canvas_div.attr('style', 'position: relative; clear: both; outline: 0');\n",
       "\n",
       "    function canvas_keyboard_event(event) {\n",
       "        return fig.key_event(event, event['data']);\n",
       "    }\n",
       "\n",
       "    canvas_div.keydown('key_press', canvas_keyboard_event);\n",
       "    canvas_div.keyup('key_release', canvas_keyboard_event);\n",
       "    this.canvas_div = canvas_div\n",
       "    this._canvas_extra_style(canvas_div)\n",
       "    this.root.append(canvas_div);\n",
       "\n",
       "    var canvas = $('<canvas/>');\n",
       "    canvas.addClass('mpl-canvas');\n",
       "    canvas.attr('style', \"left: 0; top: 0; z-index: 0; outline: 0\")\n",
       "\n",
       "    this.canvas = canvas[0];\n",
       "    this.context = canvas[0].getContext(\"2d\");\n",
       "\n",
       "    var rubberband = $('<canvas/>');\n",
       "    rubberband.attr('style', \"position: absolute; left: 0; top: 0; z-index: 1;\")\n",
       "\n",
       "    var pass_mouse_events = true;\n",
       "\n",
       "    canvas_div.resizable({\n",
       "        start: function(event, ui) {\n",
       "            pass_mouse_events = false;\n",
       "        },\n",
       "        resize: function(event, ui) {\n",
       "            fig.request_resize(ui.size.width, ui.size.height);\n",
       "        },\n",
       "        stop: function(event, ui) {\n",
       "            pass_mouse_events = true;\n",
       "            fig.request_resize(ui.size.width, ui.size.height);\n",
       "        },\n",
       "    });\n",
       "\n",
       "    function mouse_event_fn(event) {\n",
       "        if (pass_mouse_events)\n",
       "            return fig.mouse_event(event, event['data']);\n",
       "    }\n",
       "\n",
       "    rubberband.mousedown('button_press', mouse_event_fn);\n",
       "    rubberband.mouseup('button_release', mouse_event_fn);\n",
       "    // Throttle sequential mouse events to 1 every 20ms.\n",
       "    rubberband.mousemove('motion_notify', mouse_event_fn);\n",
       "\n",
       "    rubberband.mouseenter('figure_enter', mouse_event_fn);\n",
       "    rubberband.mouseleave('figure_leave', mouse_event_fn);\n",
       "\n",
       "    canvas_div.on(\"wheel\", function (event) {\n",
       "        event = event.originalEvent;\n",
       "        event['data'] = 'scroll'\n",
       "        if (event.deltaY < 0) {\n",
       "            event.step = 1;\n",
       "        } else {\n",
       "            event.step = -1;\n",
       "        }\n",
       "        mouse_event_fn(event);\n",
       "    });\n",
       "\n",
       "    canvas_div.append(canvas);\n",
       "    canvas_div.append(rubberband);\n",
       "\n",
       "    this.rubberband = rubberband;\n",
       "    this.rubberband_canvas = rubberband[0];\n",
       "    this.rubberband_context = rubberband[0].getContext(\"2d\");\n",
       "    this.rubberband_context.strokeStyle = \"#000000\";\n",
       "\n",
       "    this._resize_canvas = function(width, height) {\n",
       "        // Keep the size of the canvas, canvas container, and rubber band\n",
       "        // canvas in synch.\n",
       "        canvas_div.css('width', width)\n",
       "        canvas_div.css('height', height)\n",
       "\n",
       "        canvas.attr('width', width);\n",
       "        canvas.attr('height', height);\n",
       "\n",
       "        rubberband.attr('width', width);\n",
       "        rubberband.attr('height', height);\n",
       "    }\n",
       "\n",
       "    // Set the figure to an initial 600x600px, this will subsequently be updated\n",
       "    // upon first draw.\n",
       "    this._resize_canvas(600, 600);\n",
       "\n",
       "    // Disable right mouse context menu.\n",
       "    $(this.rubberband_canvas).bind(\"contextmenu\",function(e){\n",
       "        return false;\n",
       "    });\n",
       "\n",
       "    function set_focus () {\n",
       "        canvas.focus();\n",
       "        canvas_div.focus();\n",
       "    }\n",
       "\n",
       "    window.setTimeout(set_focus, 100);\n",
       "}\n",
       "\n",
       "mpl.figure.prototype._init_toolbar = function() {\n",
       "    var fig = this;\n",
       "\n",
       "    var nav_element = $('<div/>')\n",
       "    nav_element.attr('style', 'width: 100%');\n",
       "    this.root.append(nav_element);\n",
       "\n",
       "    // Define a callback function for later on.\n",
       "    function toolbar_event(event) {\n",
       "        return fig.toolbar_button_onclick(event['data']);\n",
       "    }\n",
       "    function toolbar_mouse_event(event) {\n",
       "        return fig.toolbar_button_onmouseover(event['data']);\n",
       "    }\n",
       "\n",
       "    for(var toolbar_ind in mpl.toolbar_items) {\n",
       "        var name = mpl.toolbar_items[toolbar_ind][0];\n",
       "        var tooltip = mpl.toolbar_items[toolbar_ind][1];\n",
       "        var image = mpl.toolbar_items[toolbar_ind][2];\n",
       "        var method_name = mpl.toolbar_items[toolbar_ind][3];\n",
       "\n",
       "        if (!name) {\n",
       "            // put a spacer in here.\n",
       "            continue;\n",
       "        }\n",
       "        var button = $('<button/>');\n",
       "        button.addClass('ui-button ui-widget ui-state-default ui-corner-all ' +\n",
       "                        'ui-button-icon-only');\n",
       "        button.attr('role', 'button');\n",
       "        button.attr('aria-disabled', 'false');\n",
       "        button.click(method_name, toolbar_event);\n",
       "        button.mouseover(tooltip, toolbar_mouse_event);\n",
       "\n",
       "        var icon_img = $('<span/>');\n",
       "        icon_img.addClass('ui-button-icon-primary ui-icon');\n",
       "        icon_img.addClass(image);\n",
       "        icon_img.addClass('ui-corner-all');\n",
       "\n",
       "        var tooltip_span = $('<span/>');\n",
       "        tooltip_span.addClass('ui-button-text');\n",
       "        tooltip_span.html(tooltip);\n",
       "\n",
       "        button.append(icon_img);\n",
       "        button.append(tooltip_span);\n",
       "\n",
       "        nav_element.append(button);\n",
       "    }\n",
       "\n",
       "    var fmt_picker_span = $('<span/>');\n",
       "\n",
       "    var fmt_picker = $('<select/>');\n",
       "    fmt_picker.addClass('mpl-toolbar-option ui-widget ui-widget-content');\n",
       "    fmt_picker_span.append(fmt_picker);\n",
       "    nav_element.append(fmt_picker_span);\n",
       "    this.format_dropdown = fmt_picker[0];\n",
       "\n",
       "    for (var ind in mpl.extensions) {\n",
       "        var fmt = mpl.extensions[ind];\n",
       "        var option = $(\n",
       "            '<option/>', {selected: fmt === mpl.default_extension}).html(fmt);\n",
       "        fmt_picker.append(option)\n",
       "    }\n",
       "\n",
       "    // Add hover states to the ui-buttons\n",
       "    $( \".ui-button\" ).hover(\n",
       "        function() { $(this).addClass(\"ui-state-hover\");},\n",
       "        function() { $(this).removeClass(\"ui-state-hover\");}\n",
       "    );\n",
       "\n",
       "    var status_bar = $('<span class=\"mpl-message\"/>');\n",
       "    nav_element.append(status_bar);\n",
       "    this.message = status_bar[0];\n",
       "}\n",
       "\n",
       "mpl.figure.prototype.request_resize = function(x_pixels, y_pixels) {\n",
       "    // Request matplotlib to resize the figure. Matplotlib will then trigger a resize in the client,\n",
       "    // which will in turn request a refresh of the image.\n",
       "    this.send_message('resize', {'width': x_pixels, 'height': y_pixels});\n",
       "}\n",
       "\n",
       "mpl.figure.prototype.send_message = function(type, properties) {\n",
       "    properties['type'] = type;\n",
       "    properties['figure_id'] = this.id;\n",
       "    this.ws.send(JSON.stringify(properties));\n",
       "}\n",
       "\n",
       "mpl.figure.prototype.send_draw_message = function() {\n",
       "    if (!this.waiting) {\n",
       "        this.waiting = true;\n",
       "        this.ws.send(JSON.stringify({type: \"draw\", figure_id: this.id}));\n",
       "    }\n",
       "}\n",
       "\n",
       "\n",
       "mpl.figure.prototype.handle_save = function(fig, msg) {\n",
       "    var format_dropdown = fig.format_dropdown;\n",
       "    var format = format_dropdown.options[format_dropdown.selectedIndex].value;\n",
       "    fig.ondownload(fig, format);\n",
       "}\n",
       "\n",
       "\n",
       "mpl.figure.prototype.handle_resize = function(fig, msg) {\n",
       "    var size = msg['size'];\n",
       "    if (size[0] != fig.canvas.width || size[1] != fig.canvas.height) {\n",
       "        fig._resize_canvas(size[0], size[1]);\n",
       "        fig.send_message(\"refresh\", {});\n",
       "    };\n",
       "}\n",
       "\n",
       "mpl.figure.prototype.handle_rubberband = function(fig, msg) {\n",
       "    var x0 = msg['x0'];\n",
       "    var y0 = fig.canvas.height - msg['y0'];\n",
       "    var x1 = msg['x1'];\n",
       "    var y1 = fig.canvas.height - msg['y1'];\n",
       "    x0 = Math.floor(x0) + 0.5;\n",
       "    y0 = Math.floor(y0) + 0.5;\n",
       "    x1 = Math.floor(x1) + 0.5;\n",
       "    y1 = Math.floor(y1) + 0.5;\n",
       "    var min_x = Math.min(x0, x1);\n",
       "    var min_y = Math.min(y0, y1);\n",
       "    var width = Math.abs(x1 - x0);\n",
       "    var height = Math.abs(y1 - y0);\n",
       "\n",
       "    fig.rubberband_context.clearRect(\n",
       "        0, 0, fig.canvas.width, fig.canvas.height);\n",
       "\n",
       "    fig.rubberband_context.strokeRect(min_x, min_y, width, height);\n",
       "}\n",
       "\n",
       "mpl.figure.prototype.handle_figure_label = function(fig, msg) {\n",
       "    // Updates the figure title.\n",
       "    fig.header.textContent = msg['label'];\n",
       "}\n",
       "\n",
       "mpl.figure.prototype.handle_cursor = function(fig, msg) {\n",
       "    var cursor = msg['cursor'];\n",
       "    switch(cursor)\n",
       "    {\n",
       "    case 0:\n",
       "        cursor = 'pointer';\n",
       "        break;\n",
       "    case 1:\n",
       "        cursor = 'default';\n",
       "        break;\n",
       "    case 2:\n",
       "        cursor = 'crosshair';\n",
       "        break;\n",
       "    case 3:\n",
       "        cursor = 'move';\n",
       "        break;\n",
       "    }\n",
       "    fig.rubberband_canvas.style.cursor = cursor;\n",
       "}\n",
       "\n",
       "mpl.figure.prototype.handle_message = function(fig, msg) {\n",
       "    fig.message.textContent = msg['message'];\n",
       "}\n",
       "\n",
       "mpl.figure.prototype.handle_draw = function(fig, msg) {\n",
       "    // Request the server to send over a new figure.\n",
       "    fig.send_draw_message();\n",
       "}\n",
       "\n",
       "mpl.figure.prototype.handle_image_mode = function(fig, msg) {\n",
       "    fig.image_mode = msg['mode'];\n",
       "}\n",
       "\n",
       "mpl.figure.prototype.updated_canvas_event = function() {\n",
       "    // Called whenever the canvas gets updated.\n",
       "    this.send_message(\"ack\", {});\n",
       "}\n",
       "\n",
       "// A function to construct a web socket function for onmessage handling.\n",
       "// Called in the figure constructor.\n",
       "mpl.figure.prototype._make_on_message_function = function(fig) {\n",
       "    return function socket_on_message(evt) {\n",
       "        if (evt.data instanceof Blob) {\n",
       "            /* FIXME: We get \"Resource interpreted as Image but\n",
       "             * transferred with MIME type text/plain:\" errors on\n",
       "             * Chrome.  But how to set the MIME type?  It doesn't seem\n",
       "             * to be part of the websocket stream */\n",
       "            evt.data.type = \"image/png\";\n",
       "\n",
       "            /* Free the memory for the previous frames */\n",
       "            if (fig.imageObj.src) {\n",
       "                (window.URL || window.webkitURL).revokeObjectURL(\n",
       "                    fig.imageObj.src);\n",
       "            }\n",
       "\n",
       "            fig.imageObj.src = (window.URL || window.webkitURL).createObjectURL(\n",
       "                evt.data);\n",
       "            fig.updated_canvas_event();\n",
       "            fig.waiting = false;\n",
       "            return;\n",
       "        }\n",
       "        else if (typeof evt.data === 'string' && evt.data.slice(0, 21) == \"data:image/png;base64\") {\n",
       "            fig.imageObj.src = evt.data;\n",
       "            fig.updated_canvas_event();\n",
       "            fig.waiting = false;\n",
       "            return;\n",
       "        }\n",
       "\n",
       "        var msg = JSON.parse(evt.data);\n",
       "        var msg_type = msg['type'];\n",
       "\n",
       "        // Call the  \"handle_{type}\" callback, which takes\n",
       "        // the figure and JSON message as its only arguments.\n",
       "        try {\n",
       "            var callback = fig[\"handle_\" + msg_type];\n",
       "        } catch (e) {\n",
       "            console.log(\"No handler for the '\" + msg_type + \"' message type: \", msg);\n",
       "            return;\n",
       "        }\n",
       "\n",
       "        if (callback) {\n",
       "            try {\n",
       "                // console.log(\"Handling '\" + msg_type + \"' message: \", msg);\n",
       "                callback(fig, msg);\n",
       "            } catch (e) {\n",
       "                console.log(\"Exception inside the 'handler_\" + msg_type + \"' callback:\", e, e.stack, msg);\n",
       "            }\n",
       "        }\n",
       "    };\n",
       "}\n",
       "\n",
       "// from http://stackoverflow.com/questions/1114465/getting-mouse-location-in-canvas\n",
       "mpl.findpos = function(e) {\n",
       "    //this section is from http://www.quirksmode.org/js/events_properties.html\n",
       "    var targ;\n",
       "    if (!e)\n",
       "        e = window.event;\n",
       "    if (e.target)\n",
       "        targ = e.target;\n",
       "    else if (e.srcElement)\n",
       "        targ = e.srcElement;\n",
       "    if (targ.nodeType == 3) // defeat Safari bug\n",
       "        targ = targ.parentNode;\n",
       "\n",
       "    // jQuery normalizes the pageX and pageY\n",
       "    // pageX,Y are the mouse positions relative to the document\n",
       "    // offset() returns the position of the element relative to the document\n",
       "    var x = e.pageX - $(targ).offset().left;\n",
       "    var y = e.pageY - $(targ).offset().top;\n",
       "\n",
       "    return {\"x\": x, \"y\": y};\n",
       "};\n",
       "\n",
       "/*\n",
       " * return a copy of an object with only non-object keys\n",
       " * we need this to avoid circular references\n",
       " * http://stackoverflow.com/a/24161582/3208463\n",
       " */\n",
       "function simpleKeys (original) {\n",
       "  return Object.keys(original).reduce(function (obj, key) {\n",
       "    if (typeof original[key] !== 'object')\n",
       "        obj[key] = original[key]\n",
       "    return obj;\n",
       "  }, {});\n",
       "}\n",
       "\n",
       "mpl.figure.prototype.mouse_event = function(event, name) {\n",
       "    var canvas_pos = mpl.findpos(event)\n",
       "\n",
       "    if (name === 'button_press')\n",
       "    {\n",
       "        this.canvas.focus();\n",
       "        this.canvas_div.focus();\n",
       "    }\n",
       "\n",
       "    var x = canvas_pos.x;\n",
       "    var y = canvas_pos.y;\n",
       "\n",
       "    this.send_message(name, {x: x, y: y, button: event.button,\n",
       "                             step: event.step,\n",
       "                             guiEvent: simpleKeys(event)});\n",
       "\n",
       "    /* This prevents the web browser from automatically changing to\n",
       "     * the text insertion cursor when the button is pressed.  We want\n",
       "     * to control all of the cursor setting manually through the\n",
       "     * 'cursor' event from matplotlib */\n",
       "    event.preventDefault();\n",
       "    return false;\n",
       "}\n",
       "\n",
       "mpl.figure.prototype._key_event_extra = function(event, name) {\n",
       "    // Handle any extra behaviour associated with a key event\n",
       "}\n",
       "\n",
       "mpl.figure.prototype.key_event = function(event, name) {\n",
       "\n",
       "    // Prevent repeat events\n",
       "    if (name == 'key_press')\n",
       "    {\n",
       "        if (event.which === this._key)\n",
       "            return;\n",
       "        else\n",
       "            this._key = event.which;\n",
       "    }\n",
       "    if (name == 'key_release')\n",
       "        this._key = null;\n",
       "\n",
       "    var value = '';\n",
       "    if (event.ctrlKey && event.which != 17)\n",
       "        value += \"ctrl+\";\n",
       "    if (event.altKey && event.which != 18)\n",
       "        value += \"alt+\";\n",
       "    if (event.shiftKey && event.which != 16)\n",
       "        value += \"shift+\";\n",
       "\n",
       "    value += 'k';\n",
       "    value += event.which.toString();\n",
       "\n",
       "    this._key_event_extra(event, name);\n",
       "\n",
       "    this.send_message(name, {key: value,\n",
       "                             guiEvent: simpleKeys(event)});\n",
       "    return false;\n",
       "}\n",
       "\n",
       "mpl.figure.prototype.toolbar_button_onclick = function(name) {\n",
       "    if (name == 'download') {\n",
       "        this.handle_save(this, null);\n",
       "    } else {\n",
       "        this.send_message(\"toolbar_button\", {name: name});\n",
       "    }\n",
       "};\n",
       "\n",
       "mpl.figure.prototype.toolbar_button_onmouseover = function(tooltip) {\n",
       "    this.message.textContent = tooltip;\n",
       "};\n",
       "mpl.toolbar_items = [[\"Home\", \"Reset original view\", \"fa fa-home icon-home\", \"home\"], [\"Back\", \"Back to  previous view\", \"fa fa-arrow-left icon-arrow-left\", \"back\"], [\"Forward\", \"Forward to next view\", \"fa fa-arrow-right icon-arrow-right\", \"forward\"], [\"\", \"\", \"\", \"\"], [\"Pan\", \"Pan axes with left mouse, zoom with right\", \"fa fa-arrows icon-move\", \"pan\"], [\"Zoom\", \"Zoom to rectangle\", \"fa fa-square-o icon-check-empty\", \"zoom\"], [\"\", \"\", \"\", \"\"], [\"Download\", \"Download plot\", \"fa fa-floppy-o icon-save\", \"download\"]];\n",
       "\n",
       "mpl.extensions = [\"eps\", \"jpeg\", \"pdf\", \"png\", \"ps\", \"raw\", \"svg\", \"tif\"];\n",
       "\n",
       "mpl.default_extension = \"png\";var comm_websocket_adapter = function(comm) {\n",
       "    // Create a \"websocket\"-like object which calls the given IPython comm\n",
       "    // object with the appropriate methods. Currently this is a non binary\n",
       "    // socket, so there is still some room for performance tuning.\n",
       "    var ws = {};\n",
       "\n",
       "    ws.close = function() {\n",
       "        comm.close()\n",
       "    };\n",
       "    ws.send = function(m) {\n",
       "        //console.log('sending', m);\n",
       "        comm.send(m);\n",
       "    };\n",
       "    // Register the callback with on_msg.\n",
       "    comm.on_msg(function(msg) {\n",
       "        //console.log('receiving', msg['content']['data'], msg);\n",
       "        // Pass the mpl event to the overriden (by mpl) onmessage function.\n",
       "        ws.onmessage(msg['content']['data'])\n",
       "    });\n",
       "    return ws;\n",
       "}\n",
       "\n",
       "mpl.mpl_figure_comm = function(comm, msg) {\n",
       "    // This is the function which gets called when the mpl process\n",
       "    // starts-up an IPython Comm through the \"matplotlib\" channel.\n",
       "\n",
       "    var id = msg.content.data.id;\n",
       "    // Get hold of the div created by the display call when the Comm\n",
       "    // socket was opened in Python.\n",
       "    var element = $(\"#\" + id);\n",
       "    var ws_proxy = comm_websocket_adapter(comm)\n",
       "\n",
       "    function ondownload(figure, format) {\n",
       "        window.open(figure.imageObj.src);\n",
       "    }\n",
       "\n",
       "    var fig = new mpl.figure(id, ws_proxy,\n",
       "                           ondownload,\n",
       "                           element.get(0));\n",
       "\n",
       "    // Call onopen now - mpl needs it, as it is assuming we've passed it a real\n",
       "    // web socket which is closed, not our websocket->open comm proxy.\n",
       "    ws_proxy.onopen();\n",
       "\n",
       "    fig.parent_element = element.get(0);\n",
       "    fig.cell_info = mpl.find_output_cell(\"<div id='\" + id + \"'></div>\");\n",
       "    if (!fig.cell_info) {\n",
       "        console.error(\"Failed to find cell for figure\", id, fig);\n",
       "        return;\n",
       "    }\n",
       "\n",
       "    var output_index = fig.cell_info[2]\n",
       "    var cell = fig.cell_info[0];\n",
       "\n",
       "};\n",
       "\n",
       "mpl.figure.prototype.handle_close = function(fig, msg) {\n",
       "    fig.root.unbind('remove')\n",
       "\n",
       "    // Update the output cell to use the data from the current canvas.\n",
       "    fig.push_to_output();\n",
       "    var dataURL = fig.canvas.toDataURL();\n",
       "    // Re-enable the keyboard manager in IPython - without this line, in FF,\n",
       "    // the notebook keyboard shortcuts fail.\n",
       "    IPython.keyboard_manager.enable()\n",
       "    $(fig.parent_element).html('<img src=\"' + dataURL + '\">');\n",
       "    fig.close_ws(fig, msg);\n",
       "}\n",
       "\n",
       "mpl.figure.prototype.close_ws = function(fig, msg){\n",
       "    fig.send_message('closing', msg);\n",
       "    // fig.ws.close()\n",
       "}\n",
       "\n",
       "mpl.figure.prototype.push_to_output = function(remove_interactive) {\n",
       "    // Turn the data on the canvas into data in the output cell.\n",
       "    var dataURL = this.canvas.toDataURL();\n",
       "    this.cell_info[1]['text/html'] = '<img src=\"' + dataURL + '\">';\n",
       "}\n",
       "\n",
       "mpl.figure.prototype.updated_canvas_event = function() {\n",
       "    // Tell IPython that the notebook contents must change.\n",
       "    IPython.notebook.set_dirty(true);\n",
       "    this.send_message(\"ack\", {});\n",
       "    var fig = this;\n",
       "    // Wait a second, then push the new image to the DOM so\n",
       "    // that it is saved nicely (might be nice to debounce this).\n",
       "    setTimeout(function () { fig.push_to_output() }, 1000);\n",
       "}\n",
       "\n",
       "mpl.figure.prototype._init_toolbar = function() {\n",
       "    var fig = this;\n",
       "\n",
       "    var nav_element = $('<div/>')\n",
       "    nav_element.attr('style', 'width: 100%');\n",
       "    this.root.append(nav_element);\n",
       "\n",
       "    // Define a callback function for later on.\n",
       "    function toolbar_event(event) {\n",
       "        return fig.toolbar_button_onclick(event['data']);\n",
       "    }\n",
       "    function toolbar_mouse_event(event) {\n",
       "        return fig.toolbar_button_onmouseover(event['data']);\n",
       "    }\n",
       "\n",
       "    for(var toolbar_ind in mpl.toolbar_items){\n",
       "        var name = mpl.toolbar_items[toolbar_ind][0];\n",
       "        var tooltip = mpl.toolbar_items[toolbar_ind][1];\n",
       "        var image = mpl.toolbar_items[toolbar_ind][2];\n",
       "        var method_name = mpl.toolbar_items[toolbar_ind][3];\n",
       "\n",
       "        if (!name) { continue; };\n",
       "\n",
       "        var button = $('<button class=\"btn btn-default\" href=\"#\" title=\"' + name + '\"><i class=\"fa ' + image + ' fa-lg\"></i></button>');\n",
       "        button.click(method_name, toolbar_event);\n",
       "        button.mouseover(tooltip, toolbar_mouse_event);\n",
       "        nav_element.append(button);\n",
       "    }\n",
       "\n",
       "    // Add the status bar.\n",
       "    var status_bar = $('<span class=\"mpl-message\" style=\"text-align:right; float: right;\"/>');\n",
       "    nav_element.append(status_bar);\n",
       "    this.message = status_bar[0];\n",
       "\n",
       "    // Add the close button to the window.\n",
       "    var buttongrp = $('<div class=\"btn-group inline pull-right\"></div>');\n",
       "    var button = $('<button class=\"btn btn-mini btn-primary\" href=\"#\" title=\"Stop Interaction\"><i class=\"fa fa-power-off icon-remove icon-large\"></i></button>');\n",
       "    button.click(function (evt) { fig.handle_close(fig, {}); } );\n",
       "    button.mouseover('Stop Interaction', toolbar_mouse_event);\n",
       "    buttongrp.append(button);\n",
       "    var titlebar = this.root.find($('.ui-dialog-titlebar'));\n",
       "    titlebar.prepend(buttongrp);\n",
       "}\n",
       "\n",
       "mpl.figure.prototype._root_extra_style = function(el){\n",
       "    var fig = this\n",
       "    el.on(\"remove\", function(){\n",
       "\tfig.close_ws(fig, {});\n",
       "    });\n",
       "}\n",
       "\n",
       "mpl.figure.prototype._canvas_extra_style = function(el){\n",
       "    // this is important to make the div 'focusable\n",
       "    el.attr('tabindex', 0)\n",
       "    // reach out to IPython and tell the keyboard manager to turn it's self\n",
       "    // off when our div gets focus\n",
       "\n",
       "    // location in version 3\n",
       "    if (IPython.notebook.keyboard_manager) {\n",
       "        IPython.notebook.keyboard_manager.register_events(el);\n",
       "    }\n",
       "    else {\n",
       "        // location in version 2\n",
       "        IPython.keyboard_manager.register_events(el);\n",
       "    }\n",
       "\n",
       "}\n",
       "\n",
       "mpl.figure.prototype._key_event_extra = function(event, name) {\n",
       "    var manager = IPython.notebook.keyboard_manager;\n",
       "    if (!manager)\n",
       "        manager = IPython.keyboard_manager;\n",
       "\n",
       "    // Check for shift+enter\n",
       "    if (event.shiftKey && event.which == 13) {\n",
       "        this.canvas_div.blur();\n",
       "        // select the cell after this one\n",
       "        var index = IPython.notebook.find_cell_index(this.cell_info[0]);\n",
       "        IPython.notebook.select(index + 1);\n",
       "    }\n",
       "}\n",
       "\n",
       "mpl.figure.prototype.handle_save = function(fig, msg) {\n",
       "    fig.ondownload(fig, null);\n",
       "}\n",
       "\n",
       "\n",
       "mpl.find_output_cell = function(html_output) {\n",
       "    // Return the cell and output element which can be found *uniquely* in the notebook.\n",
       "    // Note - this is a bit hacky, but it is done because the \"notebook_saving.Notebook\"\n",
       "    // IPython event is triggered only after the cells have been serialised, which for\n",
       "    // our purposes (turning an active figure into a static one), is too late.\n",
       "    var cells = IPython.notebook.get_cells();\n",
       "    var ncells = cells.length;\n",
       "    for (var i=0; i<ncells; i++) {\n",
       "        var cell = cells[i];\n",
       "        if (cell.cell_type === 'code'){\n",
       "            for (var j=0; j<cell.output_area.outputs.length; j++) {\n",
       "                var data = cell.output_area.outputs[j];\n",
       "                if (data.data) {\n",
       "                    // IPython >= 3 moved mimebundle to data attribute of output\n",
       "                    data = data.data;\n",
       "                }\n",
       "                if (data['text/html'] == html_output) {\n",
       "                    return [cell, data, j];\n",
       "                }\n",
       "            }\n",
       "        }\n",
       "    }\n",
       "}\n",
       "\n",
       "// Register the function which deals with the matplotlib target/channel.\n",
       "// The kernel may be null if the page has been refreshed.\n",
       "if (IPython.notebook.kernel != null) {\n",
       "    IPython.notebook.kernel.comm_manager.register_target('matplotlib', mpl.mpl_figure_comm);\n",
       "}\n"
      ],
      "text/plain": [
       "<IPython.core.display.Javascript object>"
      ]
     },
     "metadata": {},
     "output_type": "display_data"
    },
    {
     "data": {
      "text/html": [
       "<img src=\"data:image/png;base64,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\">"
      ],
      "text/plain": [
       "<IPython.core.display.HTML object>"
      ]
     },
     "metadata": {},
     "output_type": "display_data"
    },
    {
     "data": {
      "text/plain": [
       "<matplotlib.colorbar.Colorbar at 0x7f7d5e381510>"
      ]
     },
     "execution_count": 213,
     "metadata": {},
     "output_type": "execute_result"
    }
   ],
   "source": [
    "plt.imshow(d)\n",
    "plt.clim(0,10000)\n",
    "plt.colorbar()"
   ]
  },
  {
   "cell_type": "markdown",
   "metadata": {},
   "source": [
    "### Set approximate lattice params and u/v"
   ]
  },
  {
   "cell_type": "code",
   "execution_count": 52,
   "metadata": {
    "collapsed": false
   },
   "outputs": [],
   "source": [
    "a = 5.98\n",
    "msa.SetUB(mdmerged, a=a, b=a, c=a, alpha=90, beta=90, gamma=90, u=\"1.,1.,0.\", v=\"0,0,1\")"
   ]
  },
  {
   "cell_type": "markdown",
   "metadata": {},
   "source": [
    "### Find peaks"
   ]
  },
  {
   "cell_type": "code",
   "execution_count": 53,
   "metadata": {
    "collapsed": false
   },
   "outputs": [],
   "source": [
    "peaks=msa.FindPeaksMD(InputWorkspace='mdmerged', PeakDistanceThreshold=0.7, DensityThresholdFactor=1000, OutputWorkspace='peaks')"
   ]
  },
  {
   "cell_type": "code",
   "execution_count": 56,
   "metadata": {
    "collapsed": false
   },
   "outputs": [
    {
     "data": {
      "text/plain": [
       "633"
      ]
     },
     "execution_count": 56,
     "metadata": {},
     "output_type": "execute_result"
    }
   ],
   "source": [
    "peaks.getNumberPeaks()"
   ]
  },
  {
   "cell_type": "code",
   "execution_count": 54,
   "metadata": {
    "collapsed": false
   },
   "outputs": [],
   "source": [
    "pk0 = peaks.getPeak(0)"
   ]
  },
  {
   "cell_type": "code",
   "execution_count": 55,
   "metadata": {
    "collapsed": false
   },
   "outputs": [
    {
     "data": {
      "text/plain": [
       "[2.14383,-0.0955245,0.0112773]"
      ]
     },
     "execution_count": 55,
     "metadata": {},
     "output_type": "execute_result"
    }
   ],
   "source": [
    "pk0.getQSampleFrame()"
   ]
  },
  {
   "cell_type": "markdown",
   "metadata": {},
   "source": [
    "#### Peaks not indexed yet"
   ]
  },
  {
   "cell_type": "code",
   "execution_count": 57,
   "metadata": {
    "collapsed": false
   },
   "outputs": [
    {
     "data": {
      "text/plain": [
       "[0,0,0]"
      ]
     },
     "execution_count": 57,
     "metadata": {},
     "output_type": "execute_result"
    }
   ],
   "source": [
    "pk0.getHKL()"
   ]
  },
  {
   "cell_type": "markdown",
   "metadata": {},
   "source": [
    "### Index peaks"
   ]
  },
  {
   "cell_type": "code",
   "execution_count": 61,
   "metadata": {
    "collapsed": false
   },
   "outputs": [
    {
     "data": {
      "text/plain": [
       "(340, 0.0006032500255748604)"
      ]
     },
     "execution_count": 61,
     "metadata": {},
     "output_type": "execute_result"
    }
   ],
   "source": [
    "msa.IndexPeaks(PeaksWorkspace='peaks',  Tolerance=0.25)"
   ]
  },
  {
   "cell_type": "code",
   "execution_count": 62,
   "metadata": {
    "collapsed": false
   },
   "outputs": [
    {
     "data": {
      "text/plain": [
       "[0,0,0]"
      ]
     },
     "execution_count": 62,
     "metadata": {},
     "output_type": "execute_result"
    }
   ],
   "source": [
    "pk0.getHKL()"
   ]
  },
  {
   "cell_type": "markdown",
   "metadata": {},
   "source": [
    "### Remove peaks not indexed (is this necessary?)"
   ]
  },
  {
   "cell_type": "code",
   "execution_count": 63,
   "metadata": {
    "collapsed": false
   },
   "outputs": [],
   "source": [
    "for index in range(peaks.getNumberPeaks()-1, -1, -1):\n",
    "    p = peaks.getPeak(index)\n",
    "    if np.allclose(p.getHKL(), [0,0,0]):\n",
    "        peaks.removePeak(index)"
   ]
  },
  {
   "cell_type": "code",
   "execution_count": 64,
   "metadata": {
    "collapsed": false
   },
   "outputs": [
    {
     "data": {
      "text/plain": [
       "327"
      ]
     },
     "execution_count": 64,
     "metadata": {},
     "output_type": "execute_result"
    }
   ],
   "source": [
    "peaks.getNumberPeaks()"
   ]
  },
  {
   "cell_type": "markdown",
   "metadata": {},
   "source": [
    "### Calculate U matrix"
   ]
  },
  {
   "cell_type": "code",
   "execution_count": 65,
   "metadata": {
    "collapsed": true
   },
   "outputs": [],
   "source": [
    "msa.CalculateUMatrix(peaks, a=a, b=a, c=a, alpha=90, beta=90, gamma=90)"
   ]
  },
  {
   "cell_type": "code",
   "execution_count": 66,
   "metadata": {
    "collapsed": false
   },
   "outputs": [
    {
     "data": {
      "text/plain": [
       "([4.41368,4.03439,0.0595232], [0.114631,-0.213564,5.97509])"
      ]
     },
     "execution_count": 66,
     "metadata": {},
     "output_type": "execute_result"
    }
   ],
   "source": [
    "ol = peaks.sample().getOrientedLattice()\n",
    "ol.getuVector(), ol.getvVector()"
   ]
  },
  {
   "cell_type": "code",
   "execution_count": 67,
   "metadata": {
    "collapsed": false
   },
   "outputs": [
    {
     "data": {
      "text/plain": [
       "array([[ 0.00320552, -0.00597207,  0.16708666],\n",
       "       [ 0.11278399, -0.12329028, -0.00657043],\n",
       "       [ 0.12342361,  0.11281726,  0.0016645 ]])"
      ]
     },
     "execution_count": 67,
     "metadata": {},
     "output_type": "execute_result"
    }
   ],
   "source": [
    "ol.getUB()"
   ]
  },
  {
   "cell_type": "markdown",
   "metadata": {},
   "source": [
    "### Optimize lattice parameters"
   ]
  },
  {
   "cell_type": "code",
   "execution_count": 68,
   "metadata": {
    "collapsed": false
   },
   "outputs": [
    {
     "data": {
      "text/plain": [
       "0.000645013558695903"
      ]
     },
     "execution_count": 68,
     "metadata": {},
     "output_type": "execute_result"
    }
   ],
   "source": [
    "msa.OptimizeLatticeForCellType(peaks,CellType=\"Cubic\")"
   ]
  },
  {
   "cell_type": "code",
   "execution_count": 69,
   "metadata": {
    "collapsed": false
   },
   "outputs": [
    {
     "data": {
      "text/plain": [
       "([4.41758,4.03796,0.0595758], [0.114732,-0.213753,5.98037])"
      ]
     },
     "execution_count": 69,
     "metadata": {},
     "output_type": "execute_result"
    }
   ],
   "source": [
    "ol = peaks.sample().getOrientedLattice()\n",
    "ol.getuVector(), ol.getvVector()"
   ]
  },
  {
   "cell_type": "code",
   "execution_count": 70,
   "metadata": {
    "collapsed": false
   },
   "outputs": [
    {
     "name": "stdout",
     "output_type": "stream",
     "text": [
      "5.98528767688 5.98528767688 5.98528767688\n"
     ]
    }
   ],
   "source": [
    "print ol.a1(), ol.a2(), ol.a3()"
   ]
  },
  {
   "cell_type": "code",
   "execution_count": 71,
   "metadata": {
    "collapsed": false
   },
   "outputs": [
    {
     "name": "stdout",
     "output_type": "stream",
     "text": [
      "90.0 90.0 90.0\n"
     ]
    }
   ],
   "source": [
    "print ol.alpha(), ol.beta(), ol.gamma()"
   ]
  },
  {
   "cell_type": "code",
   "execution_count": 72,
   "metadata": {
    "collapsed": false
   },
   "outputs": [
    {
     "name": "stdout",
     "output_type": "stream",
     "text": [
      "[[ 0.00320269 -0.0059668   0.16693905]\n",
      " [ 0.11268435 -0.12318136 -0.00656462]\n",
      " [ 0.12331458  0.11271759  0.00166303]]\n"
     ]
    }
   ],
   "source": [
    "print peaks.sample().getOrientedLattice().getUB()"
   ]
  },
  {
   "cell_type": "markdown",
   "metadata": {},
   "source": [
    "# Validation"
   ]
  },
  {
   "cell_type": "code",
   "execution_count": 73,
   "metadata": {
    "collapsed": false
   },
   "outputs": [
    {
     "data": {
      "text/plain": [
       "(320, 0.00030248870616628404)"
      ]
     },
     "execution_count": 73,
     "metadata": {},
     "output_type": "execute_result"
    }
   ],
   "source": [
    "msa.IndexPeaks(peaks,RoundHKLs=0, Tolerance=0.25)"
   ]
  },
  {
   "cell_type": "code",
   "execution_count": 74,
   "metadata": {
    "collapsed": false
   },
   "outputs": [
    {
     "data": {
      "text/plain": [
       "[0.997579,-0.99008,1.00125]"
      ]
     },
     "execution_count": 74,
     "metadata": {},
     "output_type": "execute_result"
    }
   ],
   "source": [
    "peaks.getPeak(0).getHKL()"
   ]
  },
  {
   "cell_type": "code",
   "execution_count": 76,
   "metadata": {
    "collapsed": false
   },
   "outputs": [
    {
     "name": "stdout",
     "output_type": "stream",
     "text": [
      "[ 1. -1.  1.] [0.9975789010128755, -0.9900797606146364, 1.0012489334373358]\n",
      "[ 2.  2. -4.] [2.0942419915407258, 2.0139183889297354, -3.9831741671529155]\n",
      "[-0. -0.  2.] [-0.030340868283237052, -0.019496894138133335, 2.0233523828576487]\n",
      "[ 1. -1.  1.] [0.9471646445547353, -1.0475360077039617, 1.0073746206412981]\n",
      "[-0.  2. -4.] [-0.054796950725566396, 1.9545995471529618, -3.9827928430902033]\n",
      "[ 2.  2. -4.] [2.028379273002935, 2.021632448995057, -4.0135198465891495]\n",
      "[ 2.  0. -4.] [1.9980384047196975, 0.0021355548569240773, -3.990167463731501]\n",
      "[ 0.  0.  2.] [0.01738373591734063, 0.01548119032592181, 2.01271083068914]\n",
      "[ 1. -1.  1.] [0.9652325281653191, -1.030962380651844, 0.9745783386217167]\n",
      "[-0.  2. -4.] [-0.017383735917340513, 1.9845188096740785, -4.012710830689143]\n",
      "[ 2.  0. -4.] [2.0173837359173405, 0.015481190325921735, -3.9872891693108587]\n",
      "[-0. -0.  2.] [-0.010283020593671617, -0.0009882540188347185, 2.0552901494490143]\n",
      "[-0. -0.  2.] [-0.010183261366788637, -0.00317847745066401, 2.043956339364862]\n",
      "[-0.  2. -4.] [-0.08333950451268884, 1.8920345760897181, -4.020151317592206]\n",
      "[-0. -0.  2.] [-0.008246504590983748, -0.005319933955398824, 2.0437995434186207]\n",
      "[ 2.  0. -4.] [2.055365760951498, 0.03869371059595942, -4.017218465218223]\n",
      "[ 0.  0.  2.] [0.01518654220960163, 0.01278825219991636, 2.0301665021988553]\n",
      "[ 1. -1.  1.] [0.9615330934282912, -1.0337708014822082, 0.9851609805364242]\n",
      "[-0.  2. -4.] [-0.02328036436210632, 1.979017450717709, -3.9846725172647197]\n",
      "[ 2.  0. -4.] [2.0232803643621056, 0.020982549282291957, -4.0153274827352785]\n",
      "[ 1. -1. -1.] [0.9919061778474957, -1.0081942970823752, -0.9545060150658665]\n",
      "[-0. -0.  2.] [-0.008771826879364201, -0.004208194767592104, 2.030112295077413]\n",
      "[-0.  2. -4.] [-0.00877182687936377, 1.9957918052324075, -3.969887704922588]\n",
      "[ 2.  0. -4.] [2.0087718268793644, 0.004208194767592159, -4.030112295077413]\n",
      "[ 1. -1. -1.] [0.9824563462412711, -1.0084163895351843, -0.9397754098451745]\n",
      "[-0. -0.  2.] [-0.0037351539933739024, -0.005926143613753485, 2.013182546385771]\n",
      "[ 1. -1. -1.] [0.9925296920132518, -1.0118522872275089, -0.973634907228459]\n",
      "[-0.  2. -4.] [-0.0037351539933741223, 1.994073856386247, -3.9868174536142296]\n",
      "[ 2.  0. -4.] [2.0037351539933743, 0.005926143613754736, -4.013182546385771]\n",
      "[ 1. -1. -1.] [0.9803781195057786, -1.0211242775036757, -0.993835407073833]\n",
      "[ 1. -1.  1.] [0.9803781195057791, -1.0211242775036766, 1.006164592926168]\n",
      "[-0.  2. -4.] [-0.019621880494220766, 1.9788757224963245, -3.9938354070738344]\n",
      "[ 2.  0. -4.] [2.01962188049422, 0.02112427750367588, -4.006164592926167]\n",
      "[-0.  2. -4.] [-0.09091832451246745, 1.918405907872016, -4.040228550768004]\n",
      "[ 2.  0. -4.] [2.045712476931338, 0.029112272840287917, -3.9971765592604482]\n",
      "[ 1. -1. -1.] [1.0000000000000009, -1.0, -0.9999999999999996]\n",
      "[ 0.  2. -4.] [2.8271597168564594e-16, 1.9999999999999993, -4.0]\n",
      "[ 2.  0. -4.] [2.0000000000000004, 0.0, -4.0]\n",
      "[-0. -0. -2.] [-0.006535249017467432, -0.009425863598523735, -2.007328690746309]\n",
      "[ 1. -1. -1.] [0.9550938167721839, -0.968436674327672, -0.9827085702328768]\n",
      "[-0.  2. -4.] [-0.022453091613908543, 2.015781662836165, -3.9913542851164387]\n",
      "[ 2. -0. -4.] [2.0224530916139085, -0.015781662836164057, -4.00864571488356]\n",
      "[ 0. -0. -4.] [0.014494170315687812, -0.0031778996188200023, -4.000658512068627]\n",
      "[ 0. -0. -2.] [0.08381968425585785, -0.10441283782368829, -2.0507791179812433]\n",
      "[ 2.  0. -4.] [2.0494486821526587, 0.03687185513174344, -4.007963089040756]\n",
      "[ 0. -0. -2.] [0.014030103079467515, -0.011853168605461753, -2.015106869032163]\n",
      "[ 1. -1. -1.] [0.9719397938410653, -0.9762936627890766, -0.9697862619356742]\n",
      "[-0.  2. -4.] [-0.014030103079467577, 2.011853168605463, -3.984893130967837]\n",
      "[ 2. -0. -4.] [2.014030103079468, -0.011853168605461917, -4.015106869032163]\n",
      "[ 1. -1. -1.] [0.9759403091082618, -0.9858247413215387, -0.9878008558975436]\n",
      "[-0.  2. -4.] [-0.012029845445869582, 2.0070876293392304, -3.993900427948772]\n",
      "[ 2. -0. -4.] [2.0120298454458703, -0.007087629339230954, -4.006099572051229]\n",
      "[ 0. -0. -4.] [0.006014922722934747, -0.0035438146696152957, -4.003049786025612]\n",
      "[ 0. -0. -2.] [0.03742350802360652, -0.05833830806094893, -1.990237169646572]\n",
      "[ 1. -1. -1.] [1.0488322179900482, -0.9421342022818157, -0.9585007459833809]\n",
      "[-1.  1. -1.] [-0.905079979872201, 0.8961831917312234, -1.1295839479291658]\n",
      "[ 0. -0. -4.] [0.08118840889112121, -0.07989603528533687, -3.977132312766978]\n",
      "[ 0. -0. -2.] [0.005366283414475941, -0.024141047723214265, -2.0061085355224133]\n",
      "[ 1. -1. -1.] [0.9764899660570954, -0.9881204252336835, -0.9782699318310875]\n",
      "[-0.  2. -4.] [-0.011755016971452316, 2.0059397873831593, -3.989134965915543]\n",
      "[ 2. -0. -4.] [2.0117550169714526, -0.00593978738315863, -4.010865034084456]\n",
      "[ 0.  0. -4.] [0.0031943667784881946, 0.009100630170027947, -4.002378249281022]\n",
      "[ 1. -1. -1.] [0.9570662338064033, -1.0006535533312864, -0.9905415208813646]\n",
      "[-1.  1. -1.] [-0.9570662338064039, 1.0006535533312872, -1.0094584791186354]\n",
      "[-0.  2. -4.] [-0.04293376619359583, 1.999346446668714, -3.9905415208813646]\n",
      "[ 2.  0. -4.] [2.0429337661935953, 0.0006535533312862303, -4.009458479118635]\n",
      "[ 1. -1. -1.] [0.9966798447668598, -0.986717953066542, -0.9965488352295198]\n",
      "[-1.  1. -1.] [-0.9258206169437445, 1.0142131100363023, -1.0284717818517837]\n",
      "[-0.  2. -4.] [-0.03874976914469752, 1.999534468448578, -3.9840385266888703]\n",
      "[ 2.  0. -4.] [2.0387497691446965, 0.00046553155142328896, -4.0159614733111315]\n",
      "[-0. -0. -4.] [-0.017714806955778907, -0.0068737892424398294, -3.993744845729674]\n",
      "[ 0. -0. -2.] [0.03069153291923335, -0.05032752845545867, -2.0015387579059607]\n",
      "[-0.  2. -4.] [-0.09707867488589703, 1.9254256844135924, -4.0366977891625515]\n",
      "[ 0. -0. -4.] [0.07627736570143154, -0.06960822991855355, -4.010388090990871]\n",
      "[ 0. -0. -2.] [0.01964539697374122, -0.04661765558648792, -1.9776395622673966]\n",
      "[ 1. -1. -1.] [0.989718985275744, -1.0122307791021001, -0.9688009726082191]\n",
      "[ 0.  2.  2.] [0.03421299003275837, 1.9514636951782505, 2.0367168870062335]\n",
      "[-0.  2. -4.] [-0.039353497394887076, 2.0424209152706987, -4.021117373310343]\n",
      "[ 2.  0. -4.] [2.0051405073621282, 0.00611538955105026, -4.01559951369589]\n",
      "[ 0. -0. -4.] [0.04406704024333129, -0.046437934663854596, -3.9639046452049]\n",
      "[ 0. -0. -2.] [0.03381647862537509, -0.04981176871772057, -2.016342720814019]\n",
      "[-0.  2.  2.] [-0.06603365167493398, 1.8677539217386345, 2.1230661354874663]\n",
      "[-0.  2. -4.] [-0.10491731645597924, 1.9156536366266694, -4.022709374597496]\n",
      "[ 0. -0. -4.] [0.0708802982578203, -0.0595236212590546, -4.024638048690947]\n",
      "[ 0. -0. -2.] [0.012545552245082001, -0.04364452847075644, -1.9766219869290613]\n",
      "[ 1. -1. -1.] [1.0428502299099498, -0.9898418609044253, -1.0055261021623323]\n",
      "[ 0.  2.  2.] [0.03975261746551608, 1.9574843693469663, 2.0404821141443126]\n",
      "[-1.  1. -1.] [-0.9571497700900509, 1.010158139095575, -1.005526102162332]\n",
      "[-0.  2. -4.] [-0.039752617465515235, 2.0425156306530337, -4.040482114144313]\n",
      "[ 0. -0. -4.] [0.03193103512075821, -0.04703025129195945, -3.9482027842378318]\n",
      "[ 0. -0. -2.] [0.018459966667892173, -0.04074865975984104, -1.9830842565863305]\n",
      "[ 0.  2.  2.] [0.036564386355472905, 1.9580347878577573, 2.0318043603475897]\n",
      "[-1.  1. -1.] [-1.0000000000000002, 1.0, -1.0]\n",
      "[-0.  2. -4.] [-0.03656438635547319, 2.0419652121422445, -4.03180436034759]\n",
      "[ 0. -0. -4.] [0.04561659619926339, -0.04257348833344483, -3.960751331185452]\n",
      "[-0.  2.  2.] [-0.06637140875223534, 1.865052663569906, 2.1202410464644634]\n",
      "[-0.  2. -4.] [-0.09776308994159101, 1.9258467525499066, -4.0358821382187635]\n",
      "[ 0. -0. -4.] [0.06514753154138045, -0.05115981368491607, -4.027610491659668]\n",
      "[-0.  2.  2.] [-0.0641284423486224, 1.8595449272032372, 2.11913837444718]\n",
      "[-0.  2. -4.] [-0.10126220259940397, 1.9172156196290766, -4.02898945179633]\n",
      "[ 0. -0. -4.] [0.05937516444725141, -0.054510298934971474, -4.003326297651027]\n",
      "[ 0. -0. -2.] [0.0005104032979965831, -0.018112942494957172, -2.0040079335541314]\n",
      "[ 0.  0.  0.] [0.0, 0.0, 0.0]\n",
      "[ 2.  0.  2.] [2.0, 5.654319433712919e-16, 2.000000000000001]\n",
      "[-0.  0. -4.] [-0.00025520164899839315, 0.009056471247478817, -3.9979960332229356]\n",
      "[-0. -0. -2.] [-0.004030577086439149, -0.019202807892529757, -1.9945679359405448]\n",
      "[-0.  2.  2.] [-0.015985477399242824, 1.993293546080693, 2.0393449126614707]\n",
      "[-1.  1. -1.] [-0.9680290452015149, 1.013412907838613, -1.078689825322943]\n",
      "[ 2.  0.  2.] [2.015985477399243, 0.006706453919306622, 1.960655087338529]\n",
      "[-0.  0. -4.] [-0.005977450156401578, 0.006248176986611607, -3.9830435756989897]\n",
      "[-0. -0. -2.] [-0.0327320354050789, -0.04294643201622026, -1.989084246277165]\n",
      "[ 0.  2.  2.] [0.08931171530027536, 2.086273407717295, 2.0170463366519793]\n",
      "[-1.  1. -1.] [-0.9356364585624234, 1.0386931159388562, -1.0835935025320753]\n",
      "[ 0. -2. -4.] [0.12149348601906329, -1.894380034313277, -4.024750414614059]\n",
      "[ 2.  0.  2.] [2.032181770718789, 0.019346557969427965, 1.958203248733963]\n",
      "[-0. -0. -4.] [-0.06047161066638635, -0.04101004581996553, -3.9721842939213703]\n",
      "[-0. -0. -2.] [-0.007666218767077101, -0.0154910002646177, -1.993626580596299]\n",
      "[-0.  2.  2.] [-0.015654966040056662, 1.991876814585466, 2.042895699100102]\n",
      "[-1.  1. -1.] [-0.9686900679198875, 1.0162463708290668, -1.0857913982002048]\n",
      "[ 2.  0.  2.] [2.0156549660400565, 0.008123185414533687, 1.9571043008998974]\n",
      "[-0.  0. -4.] [-0.003994373636489422, 0.003683907425041996, -3.981738860151798]\n",
      "[-0. -0. -2.] [-0.006115465255444114, -0.019829132177807237, -1.991933499837615]\n",
      "[-0.  2.  2.] [-0.016646701952598236, 1.9892398395429391, 2.0340326554738146]\n",
      "[-1.  1. -1.] [-0.9667065960948041, 1.0215203209141208, -1.0680653109476304]\n",
      "[ 2.  0.  2.] [2.016646701952598, 0.010760160457060361, 1.965967344526185]\n",
      "[-0.  0. -4.] [-0.005265618348576956, 0.004534485860373349, -3.9870169223442837]\n",
      "[-0. -0. -2.] [-0.006265177693812006, -0.01859370717062461, -1.9925345920175006]\n",
      "[-0.  2.  2.] [-0.01633995708948535, 1.9928926275753331, 2.036224770198718]\n",
      "[-1.  1. -1.] [-0.967320085821028, 1.0142147448493326, -1.072449540397436]\n",
      "[ 2.  0.  2.] [2.016339957089486, 0.007107372424666265, 1.9637752298012825]\n",
      "[-0.  0. -4.] [-0.005037389697836931, 0.0057431673729791575, -3.9856203188918897]\n",
      "[ 0. -0. -2.] [5.742668174864683e-17, -2.6504622345529306e-17, -2.0000000000000004]\n",
      "[-0.  2.  2.] [-2.8271597168564594e-16, 2.0, 2.0]\n",
      "[ 0.  0.  0.] [0.0, 0.0, 0.0]\n",
      "[ 0. -0. -2.] [0.02239011300893876, -0.04176658965410657, -2.005425241305063]\n",
      "[ 2. -0.  2.] [1.9925344963490037, -0.05992768127846131, 2.0148676232909666]\n",
      "[ 0. -0. -4.] [0.051695454269616886, -0.04807971617613605, -4.003545624490396]\n",
      "[ 0.  0. -2.] [0.00018763961929282283, 0.005747814193749152, -2.0139836508121314]\n",
      "[ 0.  2.  2.] [0.07250569098358188, 1.9238395261119194, 1.9786828864905968]\n",
      "[-2. -0. -4.] [-2.092515450196736, -0.027687183157525375, -3.919435626257182]\n",
      "[ 0.  0.  0.] [0.0, 0.0, 0.0]\n",
      "[ 2. -0.  2.] [1.9799902407868466, -0.1038476570456064, 2.059247260233414]\n",
      "[-1. -1. -3.] [-0.8549886180328358, -1.152320947776162, -3.042634227018806]\n",
      "[ 0.  0. -4.] [0.009911059796930433, 0.049049921425928636, -4.022631804710642]\n",
      "[-0. -2. -4.] [-0.1665923809835514, -2.0984878269334217, -3.909315730578363]\n",
      "[ 0.  0. -2.] [0.015944447393076523, 0.009224909822294, -2.018083334193079]\n",
      "[-0.  2.  2.] [-0.09375766678141645, 1.8817832861690518, 2.0783533174177795]\n",
      "[ 2. -0.  2.] [2.0728347142021346, -0.019728886897525763, 1.9876690479961432]\n",
      "[-1. -1. -3.] [-0.8543305715957302, -1.0394577737950519, -3.024661904007714]\n",
      "[ 0.  0. -4.] [0.038906609694169994, 0.05449590200432699, -4.030134991612351]\n",
      "[-0. -2. -4.] [-0.11145303970570344, -2.088866030105066, -3.917882303261816]\n",
      "[ 0.  0. -2.] [0.11145303970570324, 0.08886603010506615, -2.0821176967381847]\n",
      "[-0.  2.  2.] [-0.11145303970570358, 1.9111339698949357, 2.0821176967381856]\n",
      "[-1. -1. -3.] [-1.0, -1.0000000000000002, -3.0]\n",
      "[-0. -2. -4.] [-0.15174466540060094, -2.130997149668753, -3.922783799554841]\n",
      "[ 0.  0. -2.] [0.032215099994947344, 0.020825181586330142, -2.0186594358537375]\n",
      "[-0.  2.  2.] [-0.08550461415203116, 1.8673277095519847, 2.031600618144084]\n",
      "[-2. -0. -4.] [-2.0843019732946892, -0.0598068578442871, -3.9394428794228173]\n",
      "[ 2. -0.  2.] [1.9819380779538827, -0.06148199862354944, 2.0149415382761076]\n",
      "[-1. -1. -3.] [-0.8675198975028584, -1.003350281558525, -3.0912311646021475]\n",
      "[ 0.  0. -4.] [0.06879574372588627, 0.08582698335298627, -4.036749151433764]\n",
      "[-0. -2. -4.] [-0.07082860503947502, -2.023609461342757, -3.996785073193618]\n",
      "[-0. -0. -2.] [-0.00021585648782947384, -0.014999115154767956, -2.002964141775029]\n",
      "[ 2.  0.  2.] [2.070828605039476, 0.02360946134275691, 1.9967850731936174]\n",
      "[-1. -1. -3.] [-0.8583427899210491, -0.9527810773144856, -3.0064298536127665]\n",
      "[ 0.  0. -4.] [0.00010792824391473913, 0.007499557577383903, -3.9985179291124857]\n",
      "[-0. -2. -4.] [-0.07975843092233702, -2.027937342335019, -3.9605967531995248]\n",
      "[ 0.  0. -2.] [0.01933718964994338, 0.00032660633545532856, -2.015838773539166]\n",
      "[-2. -0. -4.] [-2.100354419317517, -0.07728063409219882, -3.934660954100882]\n",
      "[ 2. -0.  2.] [1.9794040116048204, -0.04934329175717993, 2.025935799098643]\n",
      "[-1. -1. -3.] [-0.8404831381553262, -0.9441253153299604, -3.0788064936009523]\n",
      "[ 0.  0. -4.] [0.040508614833786996, 0.038477013878371796, -4.024750136179977]\n",
      "[-0. -2. -4.] [-0.22825410409932592, -2.0771120554784153, -3.9773185410602343]\n",
      "[ 2. -0.  2.] [2.020795803508127, -0.07853576254376904, 2.0197946465439673]\n",
      "[-1. -1. -3.] [-0.9291758935757101, -0.9590492687296116, -3.090415122878651]\n",
      "[-0. -2. -4.] [-0.23886799195660305, -2.066223085674265, -3.973564880730782]\n",
      "[ 2. -0.  2.] [2.001418477267429, -0.07051767155048135, 2.010788148223103]\n",
      "[-1. -1. -3.] [-0.9312646396619845, -0.9547702340030978, -3.0871723348716573]\n",
      "[ 2. -0.  2.] [2.1181215482796354, -0.10631580081035596, 2.0860367545284673]\n",
      "[-1. -1. -3.] [-0.9240712297218205, -0.9456229207427006, -3.044304122411332]\n",
      "[-0. -2. -4.] [-0.2230429472678029, -2.0728785934862146, -3.9530138492812488]\n",
      "[-1. -1. -3.] [-0.9287700019909498, -0.9454319256257726, -3.056584797111131]\n",
      "[-0. -2. -4.] [-0.22984530824499355, -2.0672160498818855, -3.9525360718497287]\n",
      "[-1. -1. -3.] [-0.9327514794234977, -0.94533609912961, -3.0689295832425]\n",
      "[-0. -2. -4.] [-0.23604724100829752, -2.0624281210261786, -3.9527052084776555]\n",
      "[ 0. -2. -2.] [0.10327562268764512, -1.872493589276257, -2.0768468078257434]\n",
      "[ 0.  0.  0.] [0.0, 0.0, 0.0]\n",
      "[-0. -2. -2.] [-0.04226345422278508, -2.013237773890011, -1.9824355931453936]\n",
      "[-2. -0. -4.] [-2.0422634542227853, -0.013237773890009841, -3.982435593145393]\n",
      "[-1. -1. -3.] [-0.9154730915544301, -0.9735244522199796, -3.0351288137092136]\n",
      "[-0. -2. -4.] [-0.08100456881725626, -2.0719858880850777, -3.9793821175230932]\n",
      "[-2. -0. -2.] [-2.081004568817256, -0.07198588808507785, -1.9793821175230943]\n",
      "[ 0. -2. -2.] [0.004811379742856452, -1.9665597347480717, -1.9883048267074195]\n",
      "[-2.  0. -4.] [-1.9951886202571436, 0.03344026525192802, -3.9883048267074193]\n",
      "[-1. -1. -3.] [-0.8476136218512009, -0.9229087543336998, -3.0646261115389737]\n",
      "[-0. -2. -4.] [-0.2301198464916923, -2.070088752804416, -3.967704106834838]\n",
      "[-2. -0. -2.] [-1.9066590244051362, -0.006412579524143992, -2.0020193675073874]\n",
      "[-1. -1. -3.] [-0.936639693181332, -0.9410751950511387, -3.071737637190238]\n",
      "[-0. -2. -4.] [-0.08652455253204348, -2.0713125155091885, -3.9586889686126296]\n",
      "[-2. -0. -2.] [-2.197680010177709, -0.17603421964941526, -1.8628366755060124]\n",
      "[-0. -2. -2.] [-0.09462660437973514, -2.060148548678978, -1.927503236122468]\n",
      "[-2.  0. -4.] [-1.9834711467340684, 0.04457315546125037, -4.023355529229085]\n",
      "[-2. -2. -4.] [-1.8888445423543339, -1.895278295859773, -4.095852293106617]\n",
      "[-1. -1. -3.] [-0.8600086014677757, -0.9465212799041254, -3.0359110043165685]\n",
      "[-0. -2. -4.] [-0.10064654643037019, -2.0708757570207252, -3.941142397912944]\n",
      "[ 1.  1.  1.] [1.1468096472537523, 1.0637002898563972, 0.9277259116328681]\n",
      "[-2. -0. -2.] [-1.9538368991766177, -0.007175467164327774, -2.0134164862800756]\n",
      "[ 0. -2. -2.] [0.09711790811157034, -1.9313555518427723, -2.0625445004314003]\n",
      "[-2.  0. -4.] [-2.049691739142182, 0.004944158300830796, -3.9902704120642696]\n",
      "[-1. -1. -3.] [-0.8461330761086493, -0.9318370924166081, -3.06490029167844]\n",
      "[-0. -2. -4.] [-0.11493982599407371, -2.0677217629989753, -3.9339152857427626]\n",
      "[ 1.  1.  1.] [1.114939825994073, 1.0677217629989753, 0.9339152857427618]\n",
      "[ 0. -2. -2.] [0.09314905212159512, -1.93202845937731, -2.0604776552485276]\n",
      "[-2.  0. -4.] [-2.0217907738724774, 0.00024977762371406604, -3.9943929409912893]\n",
      "[-1. -1. -3.] [-0.8414786262609699, -0.9327777922484538, -3.077298832274657]\n",
      "[ 0.  0.  0.] [0.0, 0.0, 0.0]\n",
      "[ 1.  1.  1.] [1.0, 0.9999999999999997, 0.9999999999999997]\n",
      "[-0. -2. -2.] [-2.8271597168564594e-16, -2.0000000000000004, -2.0]\n",
      "[ 0.  0.  0.] [0.0, 0.0, 0.0]\n",
      "[-2. -0. -2.] [-2.0, -1.4135798584282297e-16, -2.0]\n",
      "[-1. -1. -3.] [-0.9999999999999997, -1.0000000000000002, -3.0000000000000004]\n",
      "[-0. -2. -4.] [-0.10841822352064011, -2.072814653993141, -3.9615992462291194]\n",
      "[ 1.  1.  1.] [1.1410901437694354, 1.0653162364290572, 0.9206165722890283]\n",
      "[-2. -0. -2.] [-1.967328079751205, -0.0074984175640827044, -2.040982673940093]\n",
      "[ 0. -2. -2.] [0.10194974792527535, -1.9285433169519106, -2.047800297501297]\n",
      "[-2.  0. -4.] [-2.0391403958441607, 0.006140446619032061, -3.9684168697903264]\n",
      "[-1. -1. -3.] [-0.8459729050398336, -0.9319678216808398, -3.0605843402501347]\n",
      "[-0. -2. -4.] [-0.10246795838991896, -2.074619311343332, -3.950371546647544]\n",
      "[ 1.  1.  1.] [1.1419912094906184, 1.0709085716391233, 0.9296627729162347]\n",
      "[-2. -0. -2.] [-1.9604767488993016, -0.0037107397042091196, -2.0207087737313105]\n",
      "[ 0. -2. -2.] [0.09964341716478589, -1.9267884918960063, -2.0532535392874225]\n",
      "[-2.  0. -4.] [-2.042347792325833, 0.002302936464871375, -3.982916312203658]\n",
      "[-1. -1. -3.] [-0.8523597080591157, -0.9262758218822019, -3.063087055213827]\n",
      "[-0. -2. -4.] [-0.04373828333991666, -2.03509435860735, -3.9904729720165673]\n",
      "[-2. -2. -4.] [-2.092260235793102, -2.0782151327059704, -3.9085234430797415]\n",
      "[ 1.  1.  1.] [1.0509057733421279, 1.0002447038339215, 0.9947090055499795]\n",
      "[-2.  0. -2.] [-1.900572274204685, 0.043365477932542446, -2.087240523386849]\n",
      "[ 0. -2. -2.] [0.16145140580408165, -1.8865681567697175, -2.103649082128703]\n",
      "[-2.  0. -4.] [-1.981714603331148, 0.03497200669038942, -4.006881530758424]\n",
      "[-0. -2. -4.] [-0.099486414418322, -2.0757842106245636, -3.9470699181523727]\n",
      "[ 1.  1.  1.] [1.1376716731906094, 1.0697164268379116, 0.9211569380623292]\n",
      "[-2. -0. -2.] [-1.9618147412277127, -0.006067783786651766, -2.025912980090043]\n",
      "[ 0. -2. -2.] [0.09608899154889984, -1.9280027268209334, -2.0583807612327796]\n",
      "[-2.  0. -4.] [-2.0415826816417093, 0.0022808463411563232, -3.979537699295108]\n",
      "[-1. -1. -3.] [-0.8555334810705469, -0.9227096982710982, -3.067941703167369]\n",
      "[-2.  0. -2.] [-1.9506580686513149, 0.0003019242389328186, -2.04545708979542]\n",
      "[-1. -1. -3.] [-0.9425683322039923, -0.9328908335794044, -3.059069944783853]\n",
      "[-0. -2. -4.] [-0.09920853698657547, -2.0766174778473996, -3.962565292069432]\n",
      "[ 1.  1.  1.] [1.1818721681749587, 1.0489959000803377, 0.824939262907711]\n",
      "[-2.  0. -2.] [-1.975153549867989, 0.004656912637080614, -1.9735766120316407]\n",
      "[ 0. -2. -2.] [0.08916169540631934, -1.9216402218377284, -2.0087560181037896]\n",
      "[-2. -0. -4.] [-2.0348932917122635, -0.002914612322205722, -3.9977446981415823]\n",
      "[-2. -2. -2.] [-1.9710914094718135, -2.0161392452020697, -2.0820247085650405]\n",
      "[-1. -1. -3.] [-0.855851329720908, -0.9222102101452686, -3.068368699615762]\n",
      "[-0. -2. -4.] [-0.10369045616933953, -2.0755783333332554, -3.9493064304953287]\n",
      "[ 1.  1.  1.] [1.138639783582483, 1.0665720354012673, 0.9249397722008944]\n",
      "[-2. -0. -2.] [-1.9650506725868568, -0.009006297931988682, -2.0243666582944346]\n",
      "[ 0. -2. -2.] [0.09993706186656331, -1.929346971833251, -2.0546633409705795]\n",
      "[-2.  0. -4.] [-2.0387027217159197, 0.004080992765482041, -3.979603113171473]\n",
      "[-1. -1. -3.] [-0.8538534278119639, -0.9235773542657206, -3.0671206848672896]\n",
      "[-0. -2. -4.] [-0.10070756804950594, -2.0750338176145, -3.9539176932515034]\n",
      "[ 1.  1.  1.] [1.1298452886243149, 1.0642898523926656, 0.9165440789310104]\n",
      "[-2. -0. -2.] [-1.9708622794251913, -0.01074396522183376, -2.037373614320494]\n",
      "[ 0. -2. -2.] [0.09287272480005852, -1.9306808732023157, -2.057887225832987]\n",
      "[-2.  0. -4.] [-2.0369725638242575, 0.005029274405018748, -3.974431304763998]\n",
      "[-1. -1. -3.] [-0.8544850248767867, -0.9242807659737037, -3.059846082900008]\n",
      "[-2. -2. -4.] [-2.0608865485250356, -2.0570826542825573, -3.9585699182404492]\n",
      "[ 1.  1.  1.] [0.9391134514749635, 0.9429173457174442, 1.0414300817595528]\n",
      "[-2. -0. -2.] [-2.0, -7.067899292141149e-16, -2.0000000000000013]\n",
      "[-1. -1. -3.] [-0.9391134514749633, -0.9429173457174443, -3.0414300817595525]\n",
      "[ 1.  1.  1.] [1.0679043825870786, 0.9476032627455273, 0.9946649300566269]\n",
      "[-2.  0. -2.] [-1.948599943626964, 0.006148761270291857, -2.0322732819174494]\n",
      "[-1. -1. -1.] [-0.8940557030020454, -1.0738115280698906, -1.0633948210836448]\n",
      "[-2.  0. -2.] [-1.951001925120824, 0.002298983743949749, -2.0412013308921186]\n",
      "[-1. -1. -1.] [-0.9154733513769261, -1.062136638785847, -1.0697170593327743]\n",
      "[-1. -1. -1.] [-0.8866667465329493, -1.0237523095652388, -1.0292871697214228]\n",
      "[-2.  0. -2.] [-1.9511586026683183, 0.005449859848844957, -2.0368694152243108]\n",
      "[-1. -1. -1.] [-0.9124682254406804, -1.0143953188857937, -1.038731211205186]\n",
      "[-2.  0. -2.] [-1.9547297708503866, 0.007768750129053629, -2.0426861718347236]\n",
      "[-2.  0. -2.] [-1.9510760446933233, 0.007181013895953348, -2.033347480266959]\n",
      "[ 2. -0.  0.] [1.9908099390304062, -0.10175282507872915, 0.19820746035768141]\n",
      "[-1. -1. -1.] [-0.9153064644503012, -1.014972962006962, -1.0405582984095967]\n",
      "[ 2. -0.  0.] [1.9990400836601698, -0.09605971758283818, 0.1995204796482811]\n",
      "[-1. -1. -1.] [-0.9198464041514115, -1.018567008295135, -1.0463675189209325]\n",
      "[ 2. -0.  0.] [1.9888440705441626, -0.10582671316908056, 0.19693869097923591]\n",
      "[-1. -1. -1.] [-0.9294487184557156, -1.0151390162671183, -1.0507800312898947]\n",
      "[ 2. -0.  0.] [1.996734551819478, -0.09843884122971251, 0.19901397321199263]\n",
      "[-1. -1. -1.] [-0.9203493015296121, -1.0084713638869627, -1.038715819989983]\n",
      "[ 2. -0.  0.] [1.985483002005709, -0.10643956760174009, 0.19715552542992396]\n",
      "[-1. -1. -1.] [-0.9207798063123508, -1.0097219787855531, -1.0399037857837423]\n",
      "[ 2. -0.  0.] [1.991545410175054, -0.09779609472370059, 0.1997559111391176]\n",
      "[-1. -1. -1.] [-0.9289398728874312, -1.0086804321628489, -1.0453964398905828]\n",
      "[-1. -1. -1.] [-0.93621469886753, -1.0080637948107083, -1.050940364914109]\n",
      "[ 2. -0.  0.] [1.989088462007409, -0.10147851213093918, 0.19870035834321081]\n",
      "[ 0.  2.  0.] [0.07353551314607297, 2.005008566873951, 0.15659714509779374]\n",
      "[ 2. -0.  0.] [2.004759789742503, -0.09445956259576255, 0.2003384310913322]\n",
      "[-1. -1. -1.] [-0.9326620946904176, -1.0084554958552654, -1.0485683116492246]\n",
      "[ 2. -0.  0.] [1.9827156100382635, -0.10374527506085725, 0.19819739006161632]\n",
      "[ 0.  2.  0.] [0.08755079460501147, 2.015863372862657, 0.15786209450721242]\n",
      "[ 2.  0.  0.] [2.0000000000000004, 0.0, 7.067899292141149e-17]\n",
      "[-0.  2.  0.] [-2.8271597168564594e-16, 1.9999999999999993, 3.533949646070574e-17]\n",
      "[ 0.  0.  0.] [0.0, 0.0, 0.0]\n",
      "[ 2.  0.  0.] [1.983074389957379, 0.01435719207438827, 0.019119443178871865]\n",
      "[-0.  2.  0.] [-0.01692561004262041, 2.0143571920743883, 0.019119443178871653]\n",
      "[-1. -1. -1.] [-1.0, -0.9999999999999997, -1.0]\n",
      "[ 2.  2. -0.] [2.0169256100426205, 1.985642807925611, -0.019119443178871865]\n",
      "[ 0.  2.  0.] [0.09061500567327142, 2.016717694986356, 0.1576696166569773]\n",
      "[-1. -1. -1.] [-0.9324688337597797, -1.0079359851991425, -1.0483437511389118]\n",
      "[ 1. -1.  1.] [0.9975789010128755, -0.9900797606146364, 1.0012489334373358]\n",
      "[ 2.  2. -4.] [2.0942419915407258, 2.0139183889297354, -3.9831741671529155]\n",
      "[ 0.  0.  2.] [0.01738373591734063, 0.01548119032592181, 2.01271083068914]\n",
      "[ 1. -1.  1.] [0.9652325281653191, -1.030962380651844, 0.9745783386217167]\n",
      "[-0.  2. -4.] [-0.017383735917340513, 1.9845188096740785, -4.012710830689143]\n",
      "[ 2.  0. -4.] [2.0173837359173405, 0.015481190325921735, -3.9872891693108587]\n",
      "[-0. -0.  2.] [-0.010183261366788637, -0.00317847745066401, 2.043956339364862]\n",
      "[-0.  2. -4.] [-0.08333950451268884, 1.8920345760897181, -4.020151317592206]\n",
      "[ 0.  0.  2.] [0.01518654220960163, 0.01278825219991636, 2.0301665021988553]\n",
      "[ 1. -1.  1.] [0.9615330934282912, -1.0337708014822082, 0.9851609805364242]\n",
      "[-0.  2. -4.] [-0.02328036436210632, 1.979017450717709, -3.9846725172647197]\n",
      "[ 2.  0. -4.] [2.0232803643621056, 0.020982549282291957, -4.0153274827352785]\n",
      "[ 1. -1. -1.] [0.9919061778474957, -1.0081942970823752, -0.9545060150658665]\n",
      "[-0. -0.  2.] [-0.0037351539933739024, -0.005926143613753485, 2.013182546385771]\n",
      "[ 1. -1. -1.] [0.9925296920132518, -1.0118522872275089, -0.973634907228459]\n",
      "[-0.  2. -4.] [-0.0037351539933741223, 1.994073856386247, -3.9868174536142296]\n",
      "[ 2.  0. -4.] [2.0037351539933743, 0.005926143613754736, -4.013182546385771]\n",
      "[-0.  2. -4.] [-0.09091832451246745, 1.918405907872016, -4.040228550768004]\n",
      "[ 2.  0. -4.] [2.045712476931338, 0.029112272840287917, -3.9971765592604482]\n",
      "0.298126165403\n"
     ]
    }
   ],
   "source": [
    "maxdiff = 0\n",
    "for pk in peaks:\n",
    "    hkl = [pk['h'], pk['k'], pk['l']]\n",
    "    hkl0 = np.round(hkl)\n",
    "    diff = hkl0 - hkl\n",
    "    diff = np.linalg.norm(diff)\n",
    "    if diff > maxdiff: maxdiff = diff\n",
    "    print hkl0, hkl\n",
    "    continue\n",
    "print maxdiff"
   ]
  },
  {
   "cell_type": "code",
   "execution_count": null,
   "metadata": {
    "collapsed": true
   },
   "outputs": [],
   "source": []
  }
 ],
 "metadata": {
  "kernelspec": {
   "display_name": "python2-default at jnrk-sns-analysis",
   "language": "python",
   "name": "jnrk-sns-analysis-python2-default"
  },
  "language_info": {
   "codemirror_mode": {
    "name": "ipython",
    "version": 2
   },
   "file_extension": ".py",
   "mimetype": "text/x-python",
   "name": "python",
   "nbconvert_exporter": "python",
   "pygments_lexer": "ipython2",
   "version": "2.7.12"
  }
 },
 "nbformat": 4,
 "nbformat_minor": 0
}
